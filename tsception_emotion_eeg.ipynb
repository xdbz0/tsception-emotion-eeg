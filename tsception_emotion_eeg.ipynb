{
  "nbformat": 4,
  "nbformat_minor": 0,
  "metadata": {
    "colab": {
      "provenance": [],
      "gpuType": "T4"
    },
    "kernelspec": {
      "name": "python3",
      "display_name": "Python 3"
    },
    "language_info": {
      "name": "python"
    },
    "accelerator": "GPU"
  },
  "cells": [
    {
      "cell_type": "markdown",
      "source": [
        "# Data Loader"
      ],
      "metadata": {
        "id": "tiaD3D6-T8Fy"
      }
    },
    {
      "cell_type": "code",
      "source": [
        "from google.colab import drive\n",
        "import os, json\n",
        "import numpy as np\n",
        "import pandas as pd\n",
        "import matplotlib.pyplot as plt\n",
        "from scipy import signal\n",
        "\n",
        "# Mount Google Drive (if in Colab environment)\n",
        "try:\n",
        "    drive.mount('/content/drive')\n",
        "    print(\"Google Drive mounted successfully\")\n",
        "except:\n",
        "    print(\"Not running in Colab or Drive already mounted\")"
      ],
      "metadata": {
        "colab": {
          "base_uri": "https://localhost:8080/"
        },
        "id": "UmQwT0PdT7HJ",
        "outputId": "e711d4cd-e212-4af6-8424-ffec0c65c557"
      },
      "execution_count": 1,
      "outputs": [
        {
          "output_type": "stream",
          "name": "stdout",
          "text": [
            "Drive already mounted at /content/drive; to attempt to forcibly remount, call drive.mount(\"/content/drive\", force_remount=True).\n",
            "Google Drive mounted successfully\n"
          ]
        }
      ]
    },
    {
      "cell_type": "code",
      "execution_count": 2,
      "metadata": {
        "id": "hq1ryGQHT4it"
      },
      "outputs": [],
      "source": [
        "# Default data paths\n",
        "CSV_PATH = '/content/drive/MyDrive/data/emotions.csv'\n",
        "\n",
        "# Label processing\n",
        "DEFAULT_LABEL_MAP = {\"NEGATIVE\": 0, \"NEUTRAL\": 1, \"POSITIVE\": 2}\n",
        "\n",
        "# EEG frequency bands in Hz\n",
        "FREQ_BANDS = {\n",
        "    'delta': (1, 4),    # Delta waves: 1-4 Hz (deep sleep)\n",
        "    'theta': (4, 8),    # Theta waves: 4-8 Hz (drowsiness, meditation)\n",
        "    'alpha': (8, 13),   # Alpha waves: 8-13 Hz (relaxed awareness)\n",
        "    'beta': (13, 30),   # Beta waves: 13-30 Hz (active thinking)\n",
        "    'gamma': (30, 100)  # Gamma waves: >30 Hz (cognitive processing)\n",
        "}\n",
        "\n",
        "# Column patterns for frequency bands\n",
        "FREQ_BAND_PATTERNS = {\n",
        "    'delta': ['_d_'],\n",
        "    'theta': ['_t_'],\n",
        "    'alpha': ['_a'],\n",
        "    'beta': ['_b'],\n",
        "    'gamma': ['_g']\n",
        "}"
      ]
    },
    {
      "cell_type": "code",
      "source": [
        "# EEG data loading and segmenting functions\n",
        "def load_eeg_feature_csv(csv_path,\n",
        "                         label_col=\"label\",\n",
        "                         label_map=None,\n",
        "                         to_upper=True):\n",
        "    \"\"\"Read CSV → return (X, y, label_map)\"\"\"\n",
        "    df = pd.read_csv(csv_path)\n",
        "    print(f\"Loaded CSV with {df.shape[0]} rows and {df.shape[1]} columns\")\n",
        "    print(list(df.columns))\n",
        "\n",
        "    # Optional: display first few column names\n",
        "    if df.shape[1] > 10:\n",
        "        print(f\"First 10 columns: {list(df.columns[:10])}\")\n",
        "        print(f\"Last column: {df.columns[-1]}\")\n",
        "    else:\n",
        "        print(f\"All columns: {list(df.columns)}\")\n",
        "\n",
        "    if to_upper:\n",
        "        df[label_col] = df[label_col].str.upper()\n",
        "\n",
        "    if label_map is None:\n",
        "        unique = sorted(df[label_col].unique())\n",
        "        label_map = {lbl: idx for idx, lbl in enumerate(unique)}\n",
        "\n",
        "    print(f\"Label mapping: {label_map}\")\n",
        "    y = df[label_col].map(label_map).values.astype(np.int64)\n",
        "    X = df.drop(columns=[label_col]).values.astype(np.float32)\n",
        "\n",
        "    # Print class distribution\n",
        "    unique_counts = np.bincount(y)\n",
        "    for label, idx in label_map.items():\n",
        "        if idx < len(unique_counts):\n",
        "            print(f\"Class {label}: {unique_counts[idx]} samples\")\n",
        "\n",
        "    return X, y, label_map"
      ],
      "metadata": {
        "id": "wO3_vzigUxae"
      },
      "execution_count": 3,
      "outputs": []
    },
    {
      "cell_type": "code",
      "source": [
        "# Normalization techniques\n",
        "def normalize_features(X, stats=None, eps=1e-9):\n",
        "    \"\"\"Z-score normalization; reuse stats if it's not None\"\"\"\n",
        "    if stats is None:\n",
        "        mean = X.mean(axis=0)\n",
        "        std = X.std(axis=0) + eps\n",
        "    else:\n",
        "        mean, std = stats[\"mean\"], stats[\"std\"]\n",
        "\n",
        "    Xn = (X - mean) / std  # Xn is X_norm\n",
        "    stats = {\n",
        "        \"mean\": mean,\n",
        "        \"std\": std,\n",
        "        \"min\": X.min(axis=0),\n",
        "        \"max\": X.max(axis=0)\n",
        "    }\n",
        "    return Xn, stats\n",
        "\n",
        "def report_statistics(stats):\n",
        "    \"\"\"Print global statistics about the dataset\"\"\"\n",
        "    mean_global = float(stats[\"mean\"].mean())\n",
        "    std_global = float(stats[\"std\"].mean())\n",
        "    vmin = float(stats[\"min\"].min())\n",
        "    vmax = float(stats[\"max\"].max())\n",
        "\n",
        "    print(f\"[Stats] mean={mean_global:.4f}, std={std_global:.4f}, \"\n",
        "          f\"range=({vmin:.3f}, {vmax:.3f})\")\n",
        "\n",
        "def reshape_for_tsception_feature(X):\n",
        "    \"\"\"(N, feat) → (N,1,1,feat) use to simplify TSception\"\"\"\n",
        "    return X[:, None, None, :]\n",
        "\n",
        "def save_preprocessed_data(out_path, X, y, stats=None):\n",
        "    \"\"\"Save .npz and statistics .json\"\"\"\n",
        "    np.savez(out_path, X=X, y=y)\n",
        "    if stats:\n",
        "        with open(out_path.replace(\".npz\", \"_stats.json\"), \"w\") as f:\n",
        "            json.dump({k: v.tolist() for k, v in stats.items()}, f, indent=2)\n",
        "    print(f\"[Saved] {out_path}\")\n",
        "\n",
        "def plot_basic_eda(X, y, label_map, bins=100):\n",
        "    \"\"\"Category bar chart + Top 10 feature histograms\"\"\"\n",
        "    names = [k for k, _ in sorted(label_map.items(), key=lambda kv: kv[1])]\n",
        "    counts = np.bincount(y)\n",
        "\n",
        "    plt.figure(figsize=(8, 4))\n",
        "    plt.subplot(1, 2, 1)\n",
        "    plt.bar(names, counts[:len(names)])\n",
        "    plt.title(\"Class Balance\")\n",
        "\n",
        "    plt.subplot(1, 2, 2)\n",
        "    plt.hist(X[:, :10].flatten(), bins=bins)\n",
        "    plt.title(\"Feature Distribution (first 10 dims)\")\n",
        "    plt.tight_layout()\n",
        "    plt.savefig('basic_eda.png')  # Save figure\n",
        "    plt.show()"
      ],
      "metadata": {
        "id": "UAm8bZuhVO2T"
      },
      "execution_count": 4,
      "outputs": []
    },
    {
      "cell_type": "code",
      "source": [
        "# ----- New functions for Channel filtering -----\n",
        "\n",
        "def identify_frequency_bands(column_names):\n",
        "    \"\"\"\n",
        "    Identify which columns in the dataset correspond to different frequency bands\n",
        "    Returns a dictionary mapping band names to column indices\n",
        "    \"\"\"\n",
        "    band_indices = {band: [] for band in FREQ_BANDS.keys()}\n",
        "\n",
        "    # Search for columns that match band patterns\n",
        "    for i, col in enumerate(column_names):\n",
        "        for band, patterns in FREQ_BAND_PATTERNS.items():\n",
        "            if any(pattern in col for pattern in patterns):\n",
        "                band_indices[band].append(i)\n",
        "\n",
        "    # Print summary of identified columns\n",
        "    for band, indices in band_indices.items():\n",
        "        print(f\"Identified {len(indices)} columns for {band} band\")\n",
        "\n",
        "    return band_indices\n",
        "\n",
        "def filter_frequency_bands(X, columns=None, bands_to_keep=None, df=None):\n",
        "    \"\"\"\n",
        "    Filter data to keep only selected frequency bands\n",
        "\n",
        "    Parameters:\n",
        "    - X: Feature matrix\n",
        "    - columns: List of column names (if None, will try to load from CSV_PATH)\n",
        "    - bands_to_keep: List of bands to keep (if None, keeps all but emphasizes alpha/beta)\n",
        "    - df: DataFrame (optional, if already loaded)\n",
        "\n",
        "    Returns:\n",
        "    - X_filtered: Filtered feature matrix\n",
        "    \"\"\"\n",
        "    # Default bands to keep (emphasize alpha and beta which are most relevant for emotion)\n",
        "    if bands_to_keep is None:\n",
        "        bands_to_keep = ['alpha', 'beta', 'theta']  # Most relevant for emotion\n",
        "\n",
        "    # Get column names if not provided\n",
        "    if columns is None:\n",
        "        if df is None:\n",
        "            try:\n",
        "                df = pd.read_csv(CSV_PATH)\n",
        "                columns = df.columns.tolist()\n",
        "            except:\n",
        "                print(\"Warning: Could not load column names, returning original data\")\n",
        "                return X\n",
        "        else:\n",
        "            columns = df.columns.tolist()\n",
        "\n",
        "    # Identify columns by frequency band\n",
        "    band_indices = identify_frequency_bands(columns)\n",
        "\n",
        "    # Create mask of columns to keep\n",
        "    keep_mask = np.zeros(X.shape[1], dtype=bool)\n",
        "\n",
        "    # Add all non-frequency columns (keep them)\n",
        "    all_freq_indices = []\n",
        "    for indices in band_indices.values():\n",
        "        all_freq_indices.extend(indices)\n",
        "\n",
        "    # Keep non-frequency columns\n",
        "    for i in range(X.shape[1]):\n",
        "        if i not in all_freq_indices:\n",
        "            keep_mask[i] = True\n",
        "\n",
        "    # Add selected frequency band columns\n",
        "    for band in bands_to_keep:\n",
        "        if band in band_indices:\n",
        "            for idx in band_indices[band]:\n",
        "                keep_mask[idx] = True\n",
        "\n",
        "    # Apply filter\n",
        "    X_filtered = X[:, keep_mask]\n",
        "\n",
        "    print(f\"Original features: {X.shape[1]}\")\n",
        "    print(f\"Filtered features: {X_filtered.shape[1]}\")\n",
        "    print(f\"Kept bands: {bands_to_keep}\")\n",
        "\n",
        "    return X_filtered\n",
        "\n",
        "def apply_bandpass_filter(X, columns=None, sampling_rate=128, df=None):\n",
        "    \"\"\"\n",
        "    Apply bandpass filters to raw EEG signals\n",
        "\n",
        "    Note: This is for demonstration purposes - our dataset already has\n",
        "    frequency-based features extracted. In a real scenario with raw EEG data,\n",
        "    this would filter the time-domain signals.\n",
        "\n",
        "    Parameters:\n",
        "    - X: Raw EEG signal matrix\n",
        "    - columns: List of column names\n",
        "    - sampling_rate: EEG sampling rate in Hz\n",
        "    - df: DataFrame (optional, if already loaded)\n",
        "\n",
        "    Returns:\n",
        "    - X_filtered: Bandpass filtered signals\n",
        "    \"\"\"\n",
        "    # This is a demonstration function for raw EEG data\n",
        "    # Since our data is already processed with features, we'll create a simulated version\n",
        "    print(\"Note: This is a demonstration of bandpass filtering that would be used on raw EEG data\")\n",
        "    print(\"Our dataset already contains extracted frequency features\")\n",
        "\n",
        "    # Create a copy to avoid modifying the original\n",
        "    X_filtered = X.copy()\n",
        "\n",
        "    # Example: Apply a butterworth bandpass filter to some features\n",
        "    # This is just for demonstration - in practice, you'd apply this to raw time series\n",
        "    for band_name, (low_freq, high_freq) in FREQ_BANDS.items():\n",
        "        # Design a bandpass filter\n",
        "        nyquist = 0.5 * sampling_rate\n",
        "        low = low_freq / nyquist\n",
        "        high = high_freq / nyquist\n",
        "\n",
        "        # Print the filter being applied\n",
        "        print(f\"Applying {band_name} band filter ({low_freq}-{high_freq} Hz)\")\n",
        "\n",
        "        # Create filter coefficients\n",
        "        b, a = signal.butter(1, [low, high], btype='band')\n",
        "\n",
        "        # Apply filter to first 5 columns (for demonstration)\n",
        "        for i in range(min(5, X.shape[1])):\n",
        "            X_filtered[:, i] = signal.filtfilt(b, a, X[:, i])\n",
        "\n",
        "    return X_filtered\n",
        "\n",
        "def compare_filtered_signals(X_raw, X_filtered, n_samples=5, n_features=10):\n",
        "    \"\"\"\n",
        "    Plot comparison between raw and filtered signals\n",
        "    \"\"\"\n",
        "    n_samples = min(n_samples, X_raw.shape[0])\n",
        "    n_features = min(n_features, X_raw.shape[1])\n",
        "\n",
        "    plt.figure(figsize=(15, 10))\n",
        "\n",
        "    for i in range(n_samples):\n",
        "        for j in range(n_features):\n",
        "            plt.subplot(n_samples, n_features, i*n_features + j + 1)\n",
        "            plt.plot(X_raw[i, j], 'b-', label='Raw')\n",
        "            plt.plot(X_filtered[i, j], 'r-', label='Filtered')\n",
        "\n",
        "            if j == 0:\n",
        "                plt.ylabel(f'Sample {i+1}')\n",
        "            if i == 0:\n",
        "                plt.title(f'Feature {j+1}')\n",
        "\n",
        "            plt.xticks([])\n",
        "\n",
        "            # Only add legend to the first plot to avoid clutter\n",
        "            if i == 0 and j == 0:\n",
        "                plt.legend()\n",
        "\n",
        "    plt.tight_layout()\n",
        "    plt.savefig('signal_comparison.png')\n",
        "    plt.show()\n",
        "\n",
        "    return 'signal_comparison.png'\n",
        "\n",
        "def extract_subject_features(X, subject_ids=None):\n",
        "    \"\"\"\n",
        "    Extract features separately by subject for personalized calibration\n",
        "\n",
        "    Parameters:\n",
        "    - X: Feature matrix\n",
        "    - subject_ids: Array of subject IDs corresponding to each sample\n",
        "\n",
        "    Returns:\n",
        "    - X_personalized: Features with subject-specific normalization\n",
        "    \"\"\"\n",
        "    if subject_ids is None:\n",
        "        print(\"Warning: No subject IDs provided, cannot perform personalized calibration\")\n",
        "        return X\n",
        "\n",
        "    unique_subjects = np.unique(subject_ids)\n",
        "    X_personalized = np.zeros_like(X)\n",
        "\n",
        "    print(f\"Performing personalized calibration for {len(unique_subjects)} subjects\")\n",
        "\n",
        "    for subject in unique_subjects:\n",
        "        # Get indices for this subject\n",
        "        subject_mask = subject_ids == subject\n",
        "        X_subject = X[subject_mask]\n",
        "\n",
        "        # Normalize for this subject\n",
        "        X_subject_norm, _ = normalize_features(X_subject)\n",
        "\n",
        "        # Place back in the result array\n",
        "        X_personalized[subject_mask] = X_subject_norm\n",
        "\n",
        "    return X_personalized"
      ],
      "metadata": {
        "id": "3m80Td-aVPwy"
      },
      "execution_count": 5,
      "outputs": []
    },
    {
      "cell_type": "code",
      "source": [
        "if __name__ == \"__main__\":\n",
        "    # 1) Loading + Normalization\n",
        "    X, y, label_map = load_eeg_feature_csv(CSV_PATH)\n",
        "\n",
        "    # 2) Apply frequency band filtering (new in Day 3)\n",
        "    # Load DataFrame to get column names\n",
        "    df = pd.read_csv(CSV_PATH)\n",
        "\n",
        "    # Apply filtering to keep relevant frequency bands\n",
        "    X_filtered = filter_frequency_bands(X, columns=df.columns, df=df)\n",
        "\n",
        "    # 3) Normalize the filtered data\n",
        "    Xn, stats = normalize_features(X_filtered)\n",
        "    report_statistics(stats)\n",
        "\n",
        "    # 4) Compare raw vs filtered data (for demonstration)\n",
        "    # Simulate raw and filtered time-series data for visualization\n",
        "    X_raw_demo = X[:5, :10]  # Take a small subset for demo\n",
        "    # Comment out or put in a try-except block\n",
        "    try:\n",
        "        X_filt_demo = apply_bandpass_filter(X_raw_demo)\n",
        "        compare_filtered_signals(X_raw_demo, X_filt_demo, n_samples=3, n_features=4)\n",
        "    except ValueError as e:\n",
        "        print(f\"Skipping filter demo due to error: {e}\")\n",
        "\n",
        "    # 5) Save preprocessed data\n",
        "    save_preprocessed_data(\"emotions_proc_filtered.npz\", Xn, y, stats)\n",
        "\n",
        "    # 6) Reshape for TSception\n",
        "    X4D = reshape_for_tsception_feature(Xn)\n",
        "    print(\"X4D shape:\", X4D.shape)\n",
        "\n",
        "    # 7) Visualization\n",
        "    plot_basic_eda(Xn, y, label_map)"
      ],
      "metadata": {
        "colab": {
          "base_uri": "https://localhost:8080/",
          "height": 826
        },
        "id": "FYStIaPnVikf",
        "outputId": "00a74b8d-0eab-4ff1-fc6f-cae72fdfa928"
      },
      "execution_count": 6,
      "outputs": [
        {
          "output_type": "stream",
          "name": "stdout",
          "text": [
            "Loaded CSV with 2132 rows and 2549 columns\n",
            "['# mean_0_a', 'mean_1_a', 'mean_2_a', 'mean_3_a', 'mean_4_a', 'mean_d_0_a', 'mean_d_1_a', 'mean_d_2_a', 'mean_d_3_a', 'mean_d_4_a', 'mean_d_0_a2', 'mean_d_1_a2', 'mean_d_2_a2', 'mean_d_3_a2', 'mean_d_4_a2', 'mean_d_5_a', 'mean_d_6_a', 'mean_d_7_a', 'mean_d_8_a', 'mean_d_9_a', 'mean_d_10_a', 'mean_d_11_a', 'mean_d_12_a', 'mean_d_13_a', 'mean_d_14_a', 'mean_d_15_a', 'mean_d_16_a', 'mean_d_17_a', 'mean_d_18_a', 'mean_d_19_a', 'mean_d_20_a', 'mean_d_21_a', 'mean_d_22_a', 'mean_d_23_a', 'mean_d_24_a', 'mean_d_25_a', 'mean_d_26_a', 'mean_d_27_a', 'mean_d_28_a', 'mean_d_29_a', 'mean_d_30_a', 'mean_d_31_a', 'mean_d_32_a', 'mean_d_33_a', 'mean_d_34_a', 'mean_d_35_a', 'mean_d_36_a', 'mean_d_37_a', 'mean_d_38_a', 'mean_d_39_a', 'mean_d_40_a', 'mean_d_41_a', 'mean_d_42_a', 'mean_d_43_a', 'mean_d_44_a', 'mean_d_45_a', 'mean_d_46_a', 'mean_d_47_a', 'mean_d_48_a', 'mean_d_49_a', 'stddev_0_a', 'stddev_1_a', 'stddev_2_a', 'stddev_3_a', 'stddev_4_a', 'stddev_d_0_a', 'stddev_d_1_a', 'stddev_d_2_a', 'stddev_d_3_a', 'stddev_d_4_a', 'moments_0_a', 'moments_1_a', 'moments_2_a', 'moments_3_a', 'moments_4_a', 'moments_5_a', 'moments_6_a', 'moments_7_a', 'moments_8_a', 'moments_9_a', 'moments_10_a', 'moments_11_a', 'moments_12_a', 'moments_13_a', 'moments_14_a', 'moments_15_a', 'moments_16_a', 'moments_17_a', 'moments_18_a', 'moments_19_a', 'max_0_a', 'max_1_a', 'max_2_a', 'max_3_a', 'max_4_a', 'max_d_0_a', 'max_d_1_a', 'max_d_2_a', 'max_d_3_a', 'max_d_4_a', 'max_q_0_a', 'max_q_1_a', 'max_q_2_a', 'max_q_3_a', 'max_q_4_a', 'max_q_5_a', 'max_q_6_a', 'max_q_7_a', 'max_q_8_a', 'max_q_9_a', 'max_q_10_a', 'max_q_11_a', 'max_q_12_a', 'max_q_13_a', 'max_q_14_a', 'max_q_15_a', 'max_q_16_a', 'max_q_17_a', 'max_q_18_a', 'max_q_19_a', 'max_q_20_a', 'max_q_21_a', 'max_q_22_a', 'max_q_23_a', 'max_q_24_a', 'max_q_25_a', 'max_q_26_a', 'max_q_27_a', 'max_q_28_a', 'max_q_29_a', 'max_q_30_a', 'max_q_31_a', 'max_q_32_a', 'max_q_33_a', 'max_q_34_a', 'max_q_35_a', 'max_q_36_a', 'max_q_37_a', 'max_q_38_a', 'max_q_39_a', 'max_q_40_a', 'max_q_41_a', 'max_q_42_a', 'max_q_43_a', 'max_q_44_a', 'max_q_45_a', 'max_q_46_a', 'max_q_47_a', 'max_q_48_a', 'max_q_49_a', 'min_0_a', 'min_1_a', 'min_2_a', 'min_3_a', 'min_4_a', 'min_d_0_a', 'min_d_1_a', 'min_d_2_a', 'min_d_3_a', 'min_d_4_a', 'min_q_0_a', 'min_q_1_a', 'min_q_2_a', 'min_q_3_a', 'min_q_4_a', 'min_q_5_a', 'min_q_6_a', 'min_q_7_a', 'min_q_8_a', 'min_q_9_a', 'min_q_10_a', 'min_q_11_a', 'min_q_12_a', 'min_q_13_a', 'min_q_14_a', 'min_q_15_a', 'min_q_16_a', 'min_q_17_a', 'min_q_18_a', 'min_q_19_a', 'min_q_20_a', 'min_q_21_a', 'min_q_22_a', 'min_q_23_a', 'min_q_24_a', 'min_q_25_a', 'min_q_26_a', 'min_q_27_a', 'min_q_28_a', 'min_q_29_a', 'min_q_30_a', 'min_q_31_a', 'min_q_32_a', 'min_q_33_a', 'min_q_34_a', 'min_q_35_a', 'min_q_36_a', 'min_q_37_a', 'min_q_38_a', 'min_q_39_a', 'min_q_40_a', 'min_q_41_a', 'min_q_42_a', 'min_q_43_a', 'min_q_44_a', 'min_q_45_a', 'min_q_46_a', 'min_q_47_a', 'min_q_48_a', 'min_q_49_a', 'covmat_0_a', 'covmat_1_a', 'covmat_2_a', 'covmat_3_a', 'covmat_4_a', 'covmat_5_a', 'covmat_6_a', 'covmat_7_a', 'covmat_8_a', 'covmat_9_a', 'covmat_10_a', 'covmat_11_a', 'covmat_12_a', 'covmat_13_a', 'covmat_14_a', 'covmat_15_a', 'covmat_16_a', 'covmat_17_a', 'covmat_18_a', 'covmat_19_a', 'covmat_20_a', 'covmat_21_a', 'covmat_22_a', 'covmat_23_a', 'covmat_24_a', 'covmat_25_a', 'covmat_26_a', 'covmat_27_a', 'covmat_28_a', 'covmat_29_a', 'covmat_30_a', 'covmat_31_a', 'covmat_32_a', 'covmat_33_a', 'covmat_34_a', 'covmat_35_a', 'covmat_36_a', 'covmat_37_a', 'covmat_38_a', 'covmat_39_a', 'covmat_40_a', 'covmat_41_a', 'covmat_42_a', 'covmat_43_a', 'covmat_44_a', 'covmat_45_a', 'covmat_46_a', 'covmat_47_a', 'covmat_48_a', 'covmat_49_a', 'covmat_50_a', 'covmat_51_a', 'covmat_52_a', 'covmat_53_a', 'covmat_54_a', 'covmat_55_a', 'covmat_56_a', 'covmat_57_a', 'covmat_58_a', 'covmat_59_a', 'covmat_60_a', 'covmat_61_a', 'covmat_62_a', 'covmat_63_a', 'covmat_64_a', 'covmat_65_a', 'covmat_66_a', 'covmat_67_a', 'covmat_68_a', 'covmat_69_a', 'covmat_70_a', 'covmat_71_a', 'covmat_72_a', 'covmat_73_a', 'covmat_74_a', 'covmat_75_a', 'covmat_76_a', 'covmat_77_a', 'covmat_78_a', 'covmat_79_a', 'covmat_80_a', 'covmat_81_a', 'covmat_82_a', 'covmat_83_a', 'covmat_84_a', 'covmat_85_a', 'covmat_86_a', 'covmat_87_a', 'covmat_88_a', 'covmat_89_a', 'covmat_90_a', 'covmat_91_a', 'covmat_92_a', 'covmat_93_a', 'covmat_94_a', 'covmat_95_a', 'covmat_96_a', 'covmat_97_a', 'covmat_98_a', 'covmat_99_a', 'covmat_100_a', 'covmat_101_a', 'covmat_102_a', 'covmat_103_a', 'covmat_104_a', 'covmat_105_a', 'covmat_106_a', 'covmat_107_a', 'covmat_108_a', 'covmat_109_a', 'covmat_110_a', 'covmat_111_a', 'covmat_112_a', 'covmat_113_a', 'covmat_114_a', 'covmat_115_a', 'covmat_116_a', 'covmat_117_a', 'covmat_118_a', 'covmat_119_a', 'covmat_120_a', 'covmat_121_a', 'covmat_122_a', 'covmat_123_a', 'covmat_124_a', 'covmat_125_a', 'covmat_126_a', 'covmat_127_a', 'covmat_128_a', 'covmat_129_a', 'covmat_130_a', 'covmat_131_a', 'covmat_132_a', 'covmat_133_a', 'covmat_134_a', 'covmat_135_a', 'covmat_136_a', 'covmat_137_a', 'covmat_138_a', 'covmat_139_a', 'covmat_140_a', 'covmat_141_a', 'covmat_142_a', 'covmat_143_a', 'eigen_0_a', 'eigen_1_a', 'eigen_2_a', 'eigen_3_a', 'eigen_4_a', 'eigen_5_a', 'eigen_6_a', 'eigen_7_a', 'eigen_8_a', 'eigen_9_a', 'eigen_10_a', 'eigen_11_a', 'logm_0_a', 'logm_1_a', 'logm_2_a', 'logm_3_a', 'logm_4_a', 'logm_5_a', 'logm_6_a', 'logm_7_a', 'logm_8_a', 'logm_9_a', 'logm_10_a', 'logm_11_a', 'logm_12_a', 'logm_13_a', 'logm_14_a', 'logm_15_a', 'logm_16_a', 'logm_17_a', 'logm_18_a', 'logm_19_a', 'logm_20_a', 'logm_21_a', 'logm_22_a', 'logm_23_a', 'logm_24_a', 'logm_25_a', 'logm_26_a', 'logm_27_a', 'logm_28_a', 'logm_29_a', 'logm_30_a', 'logm_31_a', 'logm_32_a', 'logm_33_a', 'logm_34_a', 'logm_35_a', 'logm_36_a', 'logm_37_a', 'logm_38_a', 'logm_39_a', 'logm_40_a', 'logm_41_a', 'logm_42_a', 'logm_43_a', 'logm_44_a', 'logm_45_a', 'logm_46_a', 'logm_47_a', 'logm_48_a', 'logm_49_a', 'logm_50_a', 'logm_51_a', 'logm_52_a', 'logm_53_a', 'logm_54_a', 'logm_55_a', 'logm_56_a', 'logm_57_a', 'logm_58_a', 'logm_59_a', 'logm_60_a', 'logm_61_a', 'logm_62_a', 'logm_63_a', 'logm_64_a', 'logm_65_a', 'logm_66_a', 'logm_67_a', 'logm_68_a', 'logm_69_a', 'logm_70_a', 'logm_71_a', 'logm_72_a', 'logm_73_a', 'logm_74_a', 'logm_75_a', 'logm_76_a', 'logm_77_a', 'entropy0_a', 'entropy1_a', 'entropy2_a', 'entropy3_a', 'entropy4_a', 'correlate_0_a', 'correlate_1_a', 'correlate_2_a', 'correlate_3_a', 'correlate_4_a', 'correlate_5_a', 'correlate_6_a', 'correlate_7_a', 'correlate_8_a', 'correlate_9_a', 'correlate_10_a', 'correlate_11_a', 'correlate_12_a', 'correlate_13_a', 'correlate_14_a', 'correlate_15_a', 'correlate_16_a', 'correlate_17_a', 'correlate_18_a', 'correlate_19_a', 'correlate_20_a', 'correlate_21_a', 'correlate_22_a', 'correlate_23_a', 'correlate_24_a', 'correlate_25_a', 'correlate_26_a', 'correlate_27_a', 'correlate_28_a', 'correlate_29_a', 'correlate_30_a', 'correlate_31_a', 'correlate_32_a', 'correlate_33_a', 'correlate_34_a', 'correlate_35_a', 'correlate_36_a', 'correlate_37_a', 'correlate_38_a', 'correlate_39_a', 'correlate_40_a', 'correlate_41_a', 'correlate_42_a', 'correlate_43_a', 'correlate_44_a', 'correlate_45_a', 'correlate_46_a', 'correlate_47_a', 'correlate_48_a', 'correlate_49_a', 'correlate_50_a', 'correlate_51_a', 'correlate_52_a', 'correlate_53_a', 'correlate_54_a', 'correlate_55_a', 'correlate_56_a', 'correlate_57_a', 'correlate_58_a', 'correlate_59_a', 'correlate_60_a', 'correlate_61_a', 'correlate_62_a', 'correlate_63_a', 'correlate_64_a', 'correlate_65_a', 'correlate_66_a', 'correlate_67_a', 'correlate_68_a', 'correlate_69_a', 'correlate_70_a', 'correlate_71_a', 'correlate_72_a', 'correlate_73_a', 'correlate_74_a', 'fft_0_a', 'fft_1_a', 'fft_2_a', 'fft_3_a', 'fft_4_a', 'fft_5_a', 'fft_6_a', 'fft_7_a', 'fft_8_a', 'fft_9_a', 'fft_10_a', 'fft_11_a', 'fft_12_a', 'fft_13_a', 'fft_14_a', 'fft_15_a', 'fft_16_a', 'fft_17_a', 'fft_18_a', 'fft_19_a', 'fft_20_a', 'fft_21_a', 'fft_22_a', 'fft_23_a', 'fft_24_a', 'fft_25_a', 'fft_26_a', 'fft_27_a', 'fft_28_a', 'fft_29_a', 'fft_30_a', 'fft_31_a', 'fft_32_a', 'fft_33_a', 'fft_34_a', 'fft_35_a', 'fft_36_a', 'fft_37_a', 'fft_38_a', 'fft_39_a', 'fft_40_a', 'fft_41_a', 'fft_42_a', 'fft_43_a', 'fft_44_a', 'fft_45_a', 'fft_46_a', 'fft_47_a', 'fft_48_a', 'fft_49_a', 'fft_50_a', 'fft_51_a', 'fft_52_a', 'fft_53_a', 'fft_54_a', 'fft_55_a', 'fft_56_a', 'fft_57_a', 'fft_58_a', 'fft_59_a', 'fft_60_a', 'fft_61_a', 'fft_62_a', 'fft_63_a', 'fft_64_a', 'fft_65_a', 'fft_66_a', 'fft_67_a', 'fft_68_a', 'fft_69_a', 'fft_70_a', 'fft_71_a', 'fft_72_a', 'fft_73_a', 'fft_74_a', 'fft_75_a', 'fft_76_a', 'fft_77_a', 'fft_78_a', 'fft_79_a', 'fft_80_a', 'fft_81_a', 'fft_82_a', 'fft_83_a', 'fft_84_a', 'fft_85_a', 'fft_86_a', 'fft_87_a', 'fft_88_a', 'fft_89_a', 'fft_90_a', 'fft_91_a', 'fft_92_a', 'fft_93_a', 'fft_94_a', 'fft_95_a', 'fft_96_a', 'fft_97_a', 'fft_98_a', 'fft_99_a', 'fft_100_a', 'fft_101_a', 'fft_102_a', 'fft_103_a', 'fft_104_a', 'fft_105_a', 'fft_106_a', 'fft_107_a', 'fft_108_a', 'fft_109_a', 'fft_110_a', 'fft_111_a', 'fft_112_a', 'fft_113_a', 'fft_114_a', 'fft_115_a', 'fft_116_a', 'fft_117_a', 'fft_118_a', 'fft_119_a', 'fft_120_a', 'fft_121_a', 'fft_122_a', 'fft_123_a', 'fft_124_a', 'fft_125_a', 'fft_126_a', 'fft_127_a', 'fft_128_a', 'fft_129_a', 'fft_130_a', 'fft_131_a', 'fft_132_a', 'fft_133_a', 'fft_134_a', 'fft_135_a', 'fft_136_a', 'fft_137_a', 'fft_138_a', 'fft_139_a', 'fft_140_a', 'fft_141_a', 'fft_142_a', 'fft_143_a', 'fft_144_a', 'fft_145_a', 'fft_146_a', 'fft_147_a', 'fft_148_a', 'fft_149_a', 'fft_150_a', 'fft_151_a', 'fft_152_a', 'fft_153_a', 'fft_154_a', 'fft_155_a', 'fft_156_a', 'fft_157_a', 'fft_158_a', 'fft_159_a', 'fft_160_a', 'fft_161_a', 'fft_162_a', 'fft_163_a', 'fft_164_a', 'fft_165_a', 'fft_166_a', 'fft_167_a', 'fft_168_a', 'fft_169_a', 'fft_170_a', 'fft_171_a', 'fft_172_a', 'fft_173_a', 'fft_174_a', 'fft_175_a', 'fft_176_a', 'fft_177_a', 'fft_178_a', 'fft_179_a', 'fft_180_a', 'fft_181_a', 'fft_182_a', 'fft_183_a', 'fft_184_a', 'fft_185_a', 'fft_186_a', 'fft_187_a', 'fft_188_a', 'fft_189_a', 'fft_190_a', 'fft_191_a', 'fft_192_a', 'fft_193_a', 'fft_194_a', 'fft_195_a', 'fft_196_a', 'fft_197_a', 'fft_198_a', 'fft_199_a', 'fft_200_a', 'fft_201_a', 'fft_202_a', 'fft_203_a', 'fft_204_a', 'fft_205_a', 'fft_206_a', 'fft_207_a', 'fft_208_a', 'fft_209_a', 'fft_210_a', 'fft_211_a', 'fft_212_a', 'fft_213_a', 'fft_214_a', 'fft_215_a', 'fft_216_a', 'fft_217_a', 'fft_218_a', 'fft_219_a', 'fft_220_a', 'fft_221_a', 'fft_222_a', 'fft_223_a', 'fft_224_a', 'fft_225_a', 'fft_226_a', 'fft_227_a', 'fft_228_a', 'fft_229_a', 'fft_230_a', 'fft_231_a', 'fft_232_a', 'fft_233_a', 'fft_234_a', 'fft_235_a', 'fft_236_a', 'fft_237_a', 'fft_238_a', 'fft_239_a', 'fft_240_a', 'fft_241_a', 'fft_242_a', 'fft_243_a', 'fft_244_a', 'fft_245_a', 'fft_246_a', 'fft_247_a', 'fft_248_a', 'fft_249_a', 'fft_250_a', 'fft_251_a', 'fft_252_a', 'fft_253_a', 'fft_254_a', 'fft_255_a', 'fft_256_a', 'fft_257_a', 'fft_258_a', 'fft_259_a', 'fft_260_a', 'fft_261_a', 'fft_262_a', 'fft_263_a', 'fft_264_a', 'fft_265_a', 'fft_266_a', 'fft_267_a', 'fft_268_a', 'fft_269_a', 'fft_270_a', 'fft_271_a', 'fft_272_a', 'fft_273_a', 'fft_274_a', 'fft_275_a', 'fft_276_a', 'fft_277_a', 'fft_278_a', 'fft_279_a', 'fft_280_a', 'fft_281_a', 'fft_282_a', 'fft_283_a', 'fft_284_a', 'fft_285_a', 'fft_286_a', 'fft_287_a', 'fft_288_a', 'fft_289_a', 'fft_290_a', 'fft_291_a', 'fft_292_a', 'fft_293_a', 'fft_294_a', 'fft_295_a', 'fft_296_a', 'fft_297_a', 'fft_298_a', 'fft_299_a', 'fft_300_a', 'fft_301_a', 'fft_302_a', 'fft_303_a', 'fft_304_a', 'fft_305_a', 'fft_306_a', 'fft_307_a', 'fft_308_a', 'fft_309_a', 'fft_310_a', 'fft_311_a', 'fft_312_a', 'fft_313_a', 'fft_314_a', 'fft_315_a', 'fft_316_a', 'fft_317_a', 'fft_318_a', 'fft_319_a', 'fft_320_a', 'fft_321_a', 'fft_322_a', 'fft_323_a', 'fft_324_a', 'fft_325_a', 'fft_326_a', 'fft_327_a', 'fft_328_a', 'fft_329_a', 'fft_330_a', 'fft_331_a', 'fft_332_a', 'fft_333_a', 'fft_334_a', 'fft_335_a', 'fft_336_a', 'fft_337_a', 'fft_338_a', 'fft_339_a', 'fft_340_a', 'fft_341_a', 'fft_342_a', 'fft_343_a', 'fft_344_a', 'fft_345_a', 'fft_346_a', 'fft_347_a', 'fft_348_a', 'fft_349_a', 'fft_350_a', 'fft_351_a', 'fft_352_a', 'fft_353_a', 'fft_354_a', 'fft_355_a', 'fft_356_a', 'fft_357_a', 'fft_358_a', 'fft_359_a', 'fft_360_a', 'fft_361_a', 'fft_362_a', 'fft_363_a', 'fft_364_a', 'fft_365_a', 'fft_366_a', 'fft_367_a', 'fft_368_a', 'fft_369_a', 'fft_370_a', 'fft_371_a', 'fft_372_a', 'fft_373_a', 'fft_374_a', 'fft_375_a', 'fft_376_a', 'fft_377_a', 'fft_378_a', 'fft_379_a', 'fft_380_a', 'fft_381_a', 'fft_382_a', 'fft_383_a', 'fft_384_a', 'fft_385_a', 'fft_386_a', 'fft_387_a', 'fft_388_a', 'fft_389_a', 'fft_390_a', 'fft_391_a', 'fft_392_a', 'fft_393_a', 'fft_394_a', 'fft_395_a', 'fft_396_a', 'fft_397_a', 'fft_398_a', 'fft_399_a', 'fft_400_a', 'fft_401_a', 'fft_402_a', 'fft_403_a', 'fft_404_a', 'fft_405_a', 'fft_406_a', 'fft_407_a', 'fft_408_a', 'fft_409_a', 'fft_410_a', 'fft_411_a', 'fft_412_a', 'fft_413_a', 'fft_414_a', 'fft_415_a', 'fft_416_a', 'fft_417_a', 'fft_418_a', 'fft_419_a', 'fft_420_a', 'fft_421_a', 'fft_422_a', 'fft_423_a', 'fft_424_a', 'fft_425_a', 'fft_426_a', 'fft_427_a', 'fft_428_a', 'fft_429_a', 'fft_430_a', 'fft_431_a', 'fft_432_a', 'fft_433_a', 'fft_434_a', 'fft_435_a', 'fft_436_a', 'fft_437_a', 'fft_438_a', 'fft_439_a', 'fft_440_a', 'fft_441_a', 'fft_442_a', 'fft_443_a', 'fft_444_a', 'fft_445_a', 'fft_446_a', 'fft_447_a', 'fft_448_a', 'fft_449_a', 'fft_450_a', 'fft_451_a', 'fft_452_a', 'fft_453_a', 'fft_454_a', 'fft_455_a', 'fft_456_a', 'fft_457_a', 'fft_458_a', 'fft_459_a', 'fft_460_a', 'fft_461_a', 'fft_462_a', 'fft_463_a', 'fft_464_a', 'fft_465_a', 'fft_466_a', 'fft_467_a', 'fft_468_a', 'fft_469_a', 'fft_470_a', 'fft_471_a', 'fft_472_a', 'fft_473_a', 'fft_474_a', 'fft_475_a', 'fft_476_a', 'fft_477_a', 'fft_478_a', 'fft_479_a', 'fft_480_a', 'fft_481_a', 'fft_482_a', 'fft_483_a', 'fft_484_a', 'fft_485_a', 'fft_486_a', 'fft_487_a', 'fft_488_a', 'fft_489_a', 'fft_490_a', 'fft_491_a', 'fft_492_a', 'fft_493_a', 'fft_494_a', 'fft_495_a', 'fft_496_a', 'fft_497_a', 'fft_498_a', 'fft_499_a', 'fft_500_a', 'fft_501_a', 'fft_502_a', 'fft_503_a', 'fft_504_a', 'fft_505_a', 'fft_506_a', 'fft_507_a', 'fft_508_a', 'fft_509_a', 'fft_510_a', 'fft_511_a', 'fft_512_a', 'fft_513_a', 'fft_514_a', 'fft_515_a', 'fft_516_a', 'fft_517_a', 'fft_518_a', 'fft_519_a', 'fft_520_a', 'fft_521_a', 'fft_522_a', 'fft_523_a', 'fft_524_a', 'fft_525_a', 'fft_526_a', 'fft_527_a', 'fft_528_a', 'fft_529_a', 'fft_530_a', 'fft_531_a', 'fft_532_a', 'fft_533_a', 'fft_534_a', 'fft_535_a', 'fft_536_a', 'fft_537_a', 'fft_538_a', 'fft_539_a', 'fft_540_a', 'fft_541_a', 'fft_542_a', 'fft_543_a', 'fft_544_a', 'fft_545_a', 'fft_546_a', 'fft_547_a', 'fft_548_a', 'fft_549_a', 'fft_550_a', 'fft_551_a', 'fft_552_a', 'fft_553_a', 'fft_554_a', 'fft_555_a', 'fft_556_a', 'fft_557_a', 'fft_558_a', 'fft_559_a', 'fft_560_a', 'fft_561_a', 'fft_562_a', 'fft_563_a', 'fft_564_a', 'fft_565_a', 'fft_566_a', 'fft_567_a', 'fft_568_a', 'fft_569_a', 'fft_570_a', 'fft_571_a', 'fft_572_a', 'fft_573_a', 'fft_574_a', 'fft_575_a', 'fft_576_a', 'fft_577_a', 'fft_578_a', 'fft_579_a', 'fft_580_a', 'fft_581_a', 'fft_582_a', 'fft_583_a', 'fft_584_a', 'fft_585_a', 'fft_586_a', 'fft_587_a', 'fft_588_a', 'fft_589_a', 'fft_590_a', 'fft_591_a', 'fft_592_a', 'fft_593_a', 'fft_594_a', 'fft_595_a', 'fft_596_a', 'fft_597_a', 'fft_598_a', 'fft_599_a', 'fft_600_a', 'fft_601_a', 'fft_602_a', 'fft_603_a', 'fft_604_a', 'fft_605_a', 'fft_606_a', 'fft_607_a', 'fft_608_a', 'fft_609_a', 'fft_610_a', 'fft_611_a', 'fft_612_a', 'fft_613_a', 'fft_614_a', 'fft_615_a', 'fft_616_a', 'fft_617_a', 'fft_618_a', 'fft_619_a', 'fft_620_a', 'fft_621_a', 'fft_622_a', 'fft_623_a', 'fft_624_a', 'fft_625_a', 'fft_626_a', 'fft_627_a', 'fft_628_a', 'fft_629_a', 'fft_630_a', 'fft_631_a', 'fft_632_a', 'fft_633_a', 'fft_634_a', 'fft_635_a', 'fft_636_a', 'fft_637_a', 'fft_638_a', 'fft_639_a', 'fft_640_a', 'fft_641_a', 'fft_642_a', 'fft_643_a', 'fft_644_a', 'fft_645_a', 'fft_646_a', 'fft_647_a', 'fft_648_a', 'fft_649_a', 'fft_650_a', 'fft_651_a', 'fft_652_a', 'fft_653_a', 'fft_654_a', 'fft_655_a', 'fft_656_a', 'fft_657_a', 'fft_658_a', 'fft_659_a', 'fft_660_a', 'fft_661_a', 'fft_662_a', 'fft_663_a', 'fft_664_a', 'fft_665_a', 'fft_666_a', 'fft_667_a', 'fft_668_a', 'fft_669_a', 'fft_670_a', 'fft_671_a', 'fft_672_a', 'fft_673_a', 'fft_674_a', 'fft_675_a', 'fft_676_a', 'fft_677_a', 'fft_678_a', 'fft_679_a', 'fft_680_a', 'fft_681_a', 'fft_682_a', 'fft_683_a', 'fft_684_a', 'fft_685_a', 'fft_686_a', 'fft_687_a', 'fft_688_a', 'fft_689_a', 'fft_690_a', 'fft_691_a', 'fft_692_a', 'fft_693_a', 'fft_694_a', 'fft_695_a', 'fft_696_a', 'fft_697_a', 'fft_698_a', 'fft_699_a', 'fft_700_a', 'fft_701_a', 'fft_702_a', 'fft_703_a', 'fft_704_a', 'fft_705_a', 'fft_706_a', 'fft_707_a', 'fft_708_a', 'fft_709_a', 'fft_710_a', 'fft_711_a', 'fft_712_a', 'fft_713_a', 'fft_714_a', 'fft_715_a', 'fft_716_a', 'fft_717_a', 'fft_718_a', 'fft_719_a', 'fft_720_a', 'fft_721_a', 'fft_722_a', 'fft_723_a', 'fft_724_a', 'fft_725_a', 'fft_726_a', 'fft_727_a', 'fft_728_a', 'fft_729_a', 'fft_730_a', 'fft_731_a', 'fft_732_a', 'fft_733_a', 'fft_734_a', 'fft_735_a', 'fft_736_a', 'fft_737_a', 'fft_738_a', 'fft_739_a', 'fft_740_a', 'fft_741_a', 'fft_742_a', 'fft_743_a', 'fft_744_a', 'fft_745_a', 'fft_746_a', 'fft_747_a', 'fft_748_a', 'fft_749_a', 'mean_0_b', 'mean_1_b', 'mean_2_b', 'mean_3_b', 'mean_4_b', 'mean_d_0_b', 'mean_d_1_b', 'mean_d_2_b', 'mean_d_3_b', 'mean_d_4_b', 'mean_d_0_b2', 'mean_d_1_b2', 'mean_d_2_b2', 'mean_d_3_b2', 'mean_d_4_b2', 'mean_d_5_b', 'mean_d_6_b', 'mean_d_7_b', 'mean_d_8_b', 'mean_d_9_b', 'mean_d_10_b', 'mean_d_11_b', 'mean_d_12_b', 'mean_d_13_b', 'mean_d_14_b', 'mean_d_15_b', 'mean_d_16_b', 'mean_d_17_b', 'mean_d_18_b', 'mean_d_19_b', 'mean_d_20_b', 'mean_d_21_b', 'mean_d_22_b', 'mean_d_23_b', 'mean_d_24_b', 'mean_d_25_b', 'mean_d_26_b', 'mean_d_27_b', 'mean_d_28_b', 'mean_d_29_b', 'mean_d_30_b', 'mean_d_31_b', 'mean_d_32_b', 'mean_d_33_b', 'mean_d_34_b', 'mean_d_35_b', 'mean_d_36_b', 'mean_d_37_b', 'mean_d_38_b', 'mean_d_39_b', 'mean_d_40_b', 'mean_d_41_b', 'mean_d_42_b', 'mean_d_43_b', 'mean_d_44_b', 'mean_d_45_b', 'mean_d_46_b', 'mean_d_47_b', 'mean_d_48_b', 'mean_d_49_b', 'stddev_0_b', 'stddev_1_b', 'stddev_2_b', 'stddev_3_b', 'stddev_4_b', 'stddev_d_0_b', 'stddev_d_1_b', 'stddev_d_2_b', 'stddev_d_3_b', 'stddev_d_4_b', 'moments_0_b', 'moments_1_b', 'moments_2_b', 'moments_3_b', 'moments_4_b', 'moments_5_b', 'moments_6_b', 'moments_7_b', 'moments_8_b', 'moments_9_b', 'moments_10_b', 'moments_11_b', 'moments_12_b', 'moments_13_b', 'moments_14_b', 'moments_15_b', 'moments_16_b', 'moments_17_b', 'moments_18_b', 'moments_19_b', 'max_0_b', 'max_1_b', 'max_2_b', 'max_3_b', 'max_4_b', 'max_d_0_b', 'max_d_1_b', 'max_d_2_b', 'max_d_3_b', 'max_d_4_b', 'max_q_0_b', 'max_q_1_b', 'max_q_2_b', 'max_q_3_b', 'max_q_4_b', 'max_q_5_b', 'max_q_6_b', 'max_q_7_b', 'max_q_8_b', 'max_q_9_b', 'max_q_10_b', 'max_q_11_b', 'max_q_12_b', 'max_q_13_b', 'max_q_14_b', 'max_q_15_b', 'max_q_16_b', 'max_q_17_b', 'max_q_18_b', 'max_q_19_b', 'max_q_20_b', 'max_q_21_b', 'max_q_22_b', 'max_q_23_b', 'max_q_24_b', 'max_q_25_b', 'max_q_26_b', 'max_q_27_b', 'max_q_28_b', 'max_q_29_b', 'max_q_30_b', 'max_q_31_b', 'max_q_32_b', 'max_q_33_b', 'max_q_34_b', 'max_q_35_b', 'max_q_36_b', 'max_q_37_b', 'max_q_38_b', 'max_q_39_b', 'max_q_40_b', 'max_q_41_b', 'max_q_42_b', 'max_q_43_b', 'max_q_44_b', 'max_q_45_b', 'max_q_46_b', 'max_q_47_b', 'max_q_48_b', 'max_q_49_b', 'min_0_b', 'min_1_b', 'min_2_b', 'min_3_b', 'min_4_b', 'min_d_0_b', 'min_d_1_b', 'min_d_2_b', 'min_d_3_b', 'min_d_4_b', 'min_q_0_b', 'min_q_1_b', 'min_q_2_b', 'min_q_3_b', 'min_q_4_b', 'min_q_5_b', 'min_q_6_b', 'min_q_7_b', 'min_q_8_b', 'min_q_9_b', 'min_q_10_b', 'min_q_11_b', 'min_q_12_b', 'min_q_13_b', 'min_q_14_b', 'min_q_15_b', 'min_q_16_b', 'min_q_17_b', 'min_q_18_b', 'min_q_19_b', 'min_q_20_b', 'min_q_21_b', 'min_q_22_b', 'min_q_23_b', 'min_q_24_b', 'min_q_25_b', 'min_q_26_b', 'min_q_27_b', 'min_q_28_b', 'min_q_29_b', 'min_q_30_b', 'min_q_31_b', 'min_q_32_b', 'min_q_33_b', 'min_q_34_b', 'min_q_35_b', 'min_q_36_b', 'min_q_37_b', 'min_q_38_b', 'min_q_39_b', 'min_q_40_b', 'min_q_41_b', 'min_q_42_b', 'min_q_43_b', 'min_q_44_b', 'min_q_45_b', 'min_q_46_b', 'min_q_47_b', 'min_q_48_b', 'min_q_49_b', 'covmat_0_b', 'covmat_1_b', 'covmat_2_b', 'covmat_3_b', 'covmat_4_b', 'covmat_5_b', 'covmat_6_b', 'covmat_7_b', 'covmat_8_b', 'covmat_9_b', 'covmat_10_b', 'covmat_11_b', 'covmat_12_b', 'covmat_13_b', 'covmat_14_b', 'covmat_15_b', 'covmat_16_b', 'covmat_17_b', 'covmat_18_b', 'covmat_19_b', 'covmat_20_b', 'covmat_21_b', 'covmat_22_b', 'covmat_23_b', 'covmat_24_b', 'covmat_25_b', 'covmat_26_b', 'covmat_27_b', 'covmat_28_b', 'covmat_29_b', 'covmat_30_b', 'covmat_31_b', 'covmat_32_b', 'covmat_33_b', 'covmat_34_b', 'covmat_35_b', 'covmat_36_b', 'covmat_37_b', 'covmat_38_b', 'covmat_39_b', 'covmat_40_b', 'covmat_41_b', 'covmat_42_b', 'covmat_43_b', 'covmat_44_b', 'covmat_45_b', 'covmat_46_b', 'covmat_47_b', 'covmat_48_b', 'covmat_49_b', 'covmat_50_b', 'covmat_51_b', 'covmat_52_b', 'covmat_53_b', 'covmat_54_b', 'covmat_55_b', 'covmat_56_b', 'covmat_57_b', 'covmat_58_b', 'covmat_59_b', 'covmat_60_b', 'covmat_61_b', 'covmat_62_b', 'covmat_63_b', 'covmat_64_b', 'covmat_65_b', 'covmat_66_b', 'covmat_67_b', 'covmat_68_b', 'covmat_69_b', 'covmat_70_b', 'covmat_71_b', 'covmat_72_b', 'covmat_73_b', 'covmat_74_b', 'covmat_75_b', 'covmat_76_b', 'covmat_77_b', 'covmat_78_b', 'covmat_79_b', 'covmat_80_b', 'covmat_81_b', 'covmat_82_b', 'covmat_83_b', 'covmat_84_b', 'covmat_85_b', 'covmat_86_b', 'covmat_87_b', 'covmat_88_b', 'covmat_89_b', 'covmat_90_b', 'covmat_91_b', 'covmat_92_b', 'covmat_93_b', 'covmat_94_b', 'covmat_95_b', 'covmat_96_b', 'covmat_97_b', 'covmat_98_b', 'covmat_99_b', 'covmat_100_b', 'covmat_101_b', 'covmat_102_b', 'covmat_103_b', 'covmat_104_b', 'covmat_105_b', 'covmat_106_b', 'covmat_107_b', 'covmat_108_b', 'covmat_109_b', 'covmat_110_b', 'covmat_111_b', 'covmat_112_b', 'covmat_113_b', 'covmat_114_b', 'covmat_115_b', 'covmat_116_b', 'covmat_117_b', 'covmat_118_b', 'covmat_119_b', 'covmat_120_b', 'covmat_121_b', 'covmat_122_b', 'covmat_123_b', 'covmat_124_b', 'covmat_125_b', 'covmat_126_b', 'covmat_127_b', 'covmat_128_b', 'covmat_129_b', 'covmat_130_b', 'covmat_131_b', 'covmat_132_b', 'covmat_133_b', 'covmat_134_b', 'covmat_135_b', 'covmat_136_b', 'covmat_137_b', 'covmat_138_b', 'covmat_139_b', 'covmat_140_b', 'covmat_141_b', 'covmat_142_b', 'covmat_143_b', 'eigen_0_b', 'eigen_1_b', 'eigen_2_b', 'eigen_3_b', 'eigen_4_b', 'eigen_5_b', 'eigen_6_b', 'eigen_7_b', 'eigen_8_b', 'eigen_9_b', 'eigen_10_b', 'eigen_11_b', 'logm_0_b', 'logm_1_b', 'logm_2_b', 'logm_3_b', 'logm_4_b', 'logm_5_b', 'logm_6_b', 'logm_7_b', 'logm_8_b', 'logm_9_b', 'logm_10_b', 'logm_11_b', 'logm_12_b', 'logm_13_b', 'logm_14_b', 'logm_15_b', 'logm_16_b', 'logm_17_b', 'logm_18_b', 'logm_19_b', 'logm_20_b', 'logm_21_b', 'logm_22_b', 'logm_23_b', 'logm_24_b', 'logm_25_b', 'logm_26_b', 'logm_27_b', 'logm_28_b', 'logm_29_b', 'logm_30_b', 'logm_31_b', 'logm_32_b', 'logm_33_b', 'logm_34_b', 'logm_35_b', 'logm_36_b', 'logm_37_b', 'logm_38_b', 'logm_39_b', 'logm_40_b', 'logm_41_b', 'logm_42_b', 'logm_43_b', 'logm_44_b', 'logm_45_b', 'logm_46_b', 'logm_47_b', 'logm_48_b', 'logm_49_b', 'logm_50_b', 'logm_51_b', 'logm_52_b', 'logm_53_b', 'logm_54_b', 'logm_55_b', 'logm_56_b', 'logm_57_b', 'logm_58_b', 'logm_59_b', 'logm_60_b', 'logm_61_b', 'logm_62_b', 'logm_63_b', 'logm_64_b', 'logm_65_b', 'logm_66_b', 'logm_67_b', 'logm_68_b', 'logm_69_b', 'logm_70_b', 'logm_71_b', 'logm_72_b', 'logm_73_b', 'logm_74_b', 'logm_75_b', 'logm_76_b', 'logm_77_b', 'entropy0_b', 'entropy1_b', 'entropy2_b', 'entropy3_b', 'entropy4_b', 'correlate_0_b', 'correlate_1_b', 'correlate_2_b', 'correlate_3_b', 'correlate_4_b', 'correlate_5_b', 'correlate_6_b', 'correlate_7_b', 'correlate_8_b', 'correlate_9_b', 'correlate_10_b', 'correlate_11_b', 'correlate_12_b', 'correlate_13_b', 'correlate_14_b', 'correlate_15_b', 'correlate_16_b', 'correlate_17_b', 'correlate_18_b', 'correlate_19_b', 'correlate_20_b', 'correlate_21_b', 'correlate_22_b', 'correlate_23_b', 'correlate_24_b', 'correlate_25_b', 'correlate_26_b', 'correlate_27_b', 'correlate_28_b', 'correlate_29_b', 'correlate_30_b', 'correlate_31_b', 'correlate_32_b', 'correlate_33_b', 'correlate_34_b', 'correlate_35_b', 'correlate_36_b', 'correlate_37_b', 'correlate_38_b', 'correlate_39_b', 'correlate_40_b', 'correlate_41_b', 'correlate_42_b', 'correlate_43_b', 'correlate_44_b', 'correlate_45_b', 'correlate_46_b', 'correlate_47_b', 'correlate_48_b', 'correlate_49_b', 'correlate_50_b', 'correlate_51_b', 'correlate_52_b', 'correlate_53_b', 'correlate_54_b', 'correlate_55_b', 'correlate_56_b', 'correlate_57_b', 'correlate_58_b', 'correlate_59_b', 'correlate_60_b', 'correlate_61_b', 'correlate_62_b', 'correlate_63_b', 'correlate_64_b', 'correlate_65_b', 'correlate_66_b', 'correlate_67_b', 'correlate_68_b', 'correlate_69_b', 'correlate_70_b', 'correlate_71_b', 'correlate_72_b', 'correlate_73_b', 'correlate_74_b', 'fft_0_b', 'fft_1_b', 'fft_2_b', 'fft_3_b', 'fft_4_b', 'fft_5_b', 'fft_6_b', 'fft_7_b', 'fft_8_b', 'fft_9_b', 'fft_10_b', 'fft_11_b', 'fft_12_b', 'fft_13_b', 'fft_14_b', 'fft_15_b', 'fft_16_b', 'fft_17_b', 'fft_18_b', 'fft_19_b', 'fft_20_b', 'fft_21_b', 'fft_22_b', 'fft_23_b', 'fft_24_b', 'fft_25_b', 'fft_26_b', 'fft_27_b', 'fft_28_b', 'fft_29_b', 'fft_30_b', 'fft_31_b', 'fft_32_b', 'fft_33_b', 'fft_34_b', 'fft_35_b', 'fft_36_b', 'fft_37_b', 'fft_38_b', 'fft_39_b', 'fft_40_b', 'fft_41_b', 'fft_42_b', 'fft_43_b', 'fft_44_b', 'fft_45_b', 'fft_46_b', 'fft_47_b', 'fft_48_b', 'fft_49_b', 'fft_50_b', 'fft_51_b', 'fft_52_b', 'fft_53_b', 'fft_54_b', 'fft_55_b', 'fft_56_b', 'fft_57_b', 'fft_58_b', 'fft_59_b', 'fft_60_b', 'fft_61_b', 'fft_62_b', 'fft_63_b', 'fft_64_b', 'fft_65_b', 'fft_66_b', 'fft_67_b', 'fft_68_b', 'fft_69_b', 'fft_70_b', 'fft_71_b', 'fft_72_b', 'fft_73_b', 'fft_74_b', 'fft_75_b', 'fft_76_b', 'fft_77_b', 'fft_78_b', 'fft_79_b', 'fft_80_b', 'fft_81_b', 'fft_82_b', 'fft_83_b', 'fft_84_b', 'fft_85_b', 'fft_86_b', 'fft_87_b', 'fft_88_b', 'fft_89_b', 'fft_90_b', 'fft_91_b', 'fft_92_b', 'fft_93_b', 'fft_94_b', 'fft_95_b', 'fft_96_b', 'fft_97_b', 'fft_98_b', 'fft_99_b', 'fft_100_b', 'fft_101_b', 'fft_102_b', 'fft_103_b', 'fft_104_b', 'fft_105_b', 'fft_106_b', 'fft_107_b', 'fft_108_b', 'fft_109_b', 'fft_110_b', 'fft_111_b', 'fft_112_b', 'fft_113_b', 'fft_114_b', 'fft_115_b', 'fft_116_b', 'fft_117_b', 'fft_118_b', 'fft_119_b', 'fft_120_b', 'fft_121_b', 'fft_122_b', 'fft_123_b', 'fft_124_b', 'fft_125_b', 'fft_126_b', 'fft_127_b', 'fft_128_b', 'fft_129_b', 'fft_130_b', 'fft_131_b', 'fft_132_b', 'fft_133_b', 'fft_134_b', 'fft_135_b', 'fft_136_b', 'fft_137_b', 'fft_138_b', 'fft_139_b', 'fft_140_b', 'fft_141_b', 'fft_142_b', 'fft_143_b', 'fft_144_b', 'fft_145_b', 'fft_146_b', 'fft_147_b', 'fft_148_b', 'fft_149_b', 'fft_150_b', 'fft_151_b', 'fft_152_b', 'fft_153_b', 'fft_154_b', 'fft_155_b', 'fft_156_b', 'fft_157_b', 'fft_158_b', 'fft_159_b', 'fft_160_b', 'fft_161_b', 'fft_162_b', 'fft_163_b', 'fft_164_b', 'fft_165_b', 'fft_166_b', 'fft_167_b', 'fft_168_b', 'fft_169_b', 'fft_170_b', 'fft_171_b', 'fft_172_b', 'fft_173_b', 'fft_174_b', 'fft_175_b', 'fft_176_b', 'fft_177_b', 'fft_178_b', 'fft_179_b', 'fft_180_b', 'fft_181_b', 'fft_182_b', 'fft_183_b', 'fft_184_b', 'fft_185_b', 'fft_186_b', 'fft_187_b', 'fft_188_b', 'fft_189_b', 'fft_190_b', 'fft_191_b', 'fft_192_b', 'fft_193_b', 'fft_194_b', 'fft_195_b', 'fft_196_b', 'fft_197_b', 'fft_198_b', 'fft_199_b', 'fft_200_b', 'fft_201_b', 'fft_202_b', 'fft_203_b', 'fft_204_b', 'fft_205_b', 'fft_206_b', 'fft_207_b', 'fft_208_b', 'fft_209_b', 'fft_210_b', 'fft_211_b', 'fft_212_b', 'fft_213_b', 'fft_214_b', 'fft_215_b', 'fft_216_b', 'fft_217_b', 'fft_218_b', 'fft_219_b', 'fft_220_b', 'fft_221_b', 'fft_222_b', 'fft_223_b', 'fft_224_b', 'fft_225_b', 'fft_226_b', 'fft_227_b', 'fft_228_b', 'fft_229_b', 'fft_230_b', 'fft_231_b', 'fft_232_b', 'fft_233_b', 'fft_234_b', 'fft_235_b', 'fft_236_b', 'fft_237_b', 'fft_238_b', 'fft_239_b', 'fft_240_b', 'fft_241_b', 'fft_242_b', 'fft_243_b', 'fft_244_b', 'fft_245_b', 'fft_246_b', 'fft_247_b', 'fft_248_b', 'fft_249_b', 'fft_250_b', 'fft_251_b', 'fft_252_b', 'fft_253_b', 'fft_254_b', 'fft_255_b', 'fft_256_b', 'fft_257_b', 'fft_258_b', 'fft_259_b', 'fft_260_b', 'fft_261_b', 'fft_262_b', 'fft_263_b', 'fft_264_b', 'fft_265_b', 'fft_266_b', 'fft_267_b', 'fft_268_b', 'fft_269_b', 'fft_270_b', 'fft_271_b', 'fft_272_b', 'fft_273_b', 'fft_274_b', 'fft_275_b', 'fft_276_b', 'fft_277_b', 'fft_278_b', 'fft_279_b', 'fft_280_b', 'fft_281_b', 'fft_282_b', 'fft_283_b', 'fft_284_b', 'fft_285_b', 'fft_286_b', 'fft_287_b', 'fft_288_b', 'fft_289_b', 'fft_290_b', 'fft_291_b', 'fft_292_b', 'fft_293_b', 'fft_294_b', 'fft_295_b', 'fft_296_b', 'fft_297_b', 'fft_298_b', 'fft_299_b', 'fft_300_b', 'fft_301_b', 'fft_302_b', 'fft_303_b', 'fft_304_b', 'fft_305_b', 'fft_306_b', 'fft_307_b', 'fft_308_b', 'fft_309_b', 'fft_310_b', 'fft_311_b', 'fft_312_b', 'fft_313_b', 'fft_314_b', 'fft_315_b', 'fft_316_b', 'fft_317_b', 'fft_318_b', 'fft_319_b', 'fft_320_b', 'fft_321_b', 'fft_322_b', 'fft_323_b', 'fft_324_b', 'fft_325_b', 'fft_326_b', 'fft_327_b', 'fft_328_b', 'fft_329_b', 'fft_330_b', 'fft_331_b', 'fft_332_b', 'fft_333_b', 'fft_334_b', 'fft_335_b', 'fft_336_b', 'fft_337_b', 'fft_338_b', 'fft_339_b', 'fft_340_b', 'fft_341_b', 'fft_342_b', 'fft_343_b', 'fft_344_b', 'fft_345_b', 'fft_346_b', 'fft_347_b', 'fft_348_b', 'fft_349_b', 'fft_350_b', 'fft_351_b', 'fft_352_b', 'fft_353_b', 'fft_354_b', 'fft_355_b', 'fft_356_b', 'fft_357_b', 'fft_358_b', 'fft_359_b', 'fft_360_b', 'fft_361_b', 'fft_362_b', 'fft_363_b', 'fft_364_b', 'fft_365_b', 'fft_366_b', 'fft_367_b', 'fft_368_b', 'fft_369_b', 'fft_370_b', 'fft_371_b', 'fft_372_b', 'fft_373_b', 'fft_374_b', 'fft_375_b', 'fft_376_b', 'fft_377_b', 'fft_378_b', 'fft_379_b', 'fft_380_b', 'fft_381_b', 'fft_382_b', 'fft_383_b', 'fft_384_b', 'fft_385_b', 'fft_386_b', 'fft_387_b', 'fft_388_b', 'fft_389_b', 'fft_390_b', 'fft_391_b', 'fft_392_b', 'fft_393_b', 'fft_394_b', 'fft_395_b', 'fft_396_b', 'fft_397_b', 'fft_398_b', 'fft_399_b', 'fft_400_b', 'fft_401_b', 'fft_402_b', 'fft_403_b', 'fft_404_b', 'fft_405_b', 'fft_406_b', 'fft_407_b', 'fft_408_b', 'fft_409_b', 'fft_410_b', 'fft_411_b', 'fft_412_b', 'fft_413_b', 'fft_414_b', 'fft_415_b', 'fft_416_b', 'fft_417_b', 'fft_418_b', 'fft_419_b', 'fft_420_b', 'fft_421_b', 'fft_422_b', 'fft_423_b', 'fft_424_b', 'fft_425_b', 'fft_426_b', 'fft_427_b', 'fft_428_b', 'fft_429_b', 'fft_430_b', 'fft_431_b', 'fft_432_b', 'fft_433_b', 'fft_434_b', 'fft_435_b', 'fft_436_b', 'fft_437_b', 'fft_438_b', 'fft_439_b', 'fft_440_b', 'fft_441_b', 'fft_442_b', 'fft_443_b', 'fft_444_b', 'fft_445_b', 'fft_446_b', 'fft_447_b', 'fft_448_b', 'fft_449_b', 'fft_450_b', 'fft_451_b', 'fft_452_b', 'fft_453_b', 'fft_454_b', 'fft_455_b', 'fft_456_b', 'fft_457_b', 'fft_458_b', 'fft_459_b', 'fft_460_b', 'fft_461_b', 'fft_462_b', 'fft_463_b', 'fft_464_b', 'fft_465_b', 'fft_466_b', 'fft_467_b', 'fft_468_b', 'fft_469_b', 'fft_470_b', 'fft_471_b', 'fft_472_b', 'fft_473_b', 'fft_474_b', 'fft_475_b', 'fft_476_b', 'fft_477_b', 'fft_478_b', 'fft_479_b', 'fft_480_b', 'fft_481_b', 'fft_482_b', 'fft_483_b', 'fft_484_b', 'fft_485_b', 'fft_486_b', 'fft_487_b', 'fft_488_b', 'fft_489_b', 'fft_490_b', 'fft_491_b', 'fft_492_b', 'fft_493_b', 'fft_494_b', 'fft_495_b', 'fft_496_b', 'fft_497_b', 'fft_498_b', 'fft_499_b', 'fft_500_b', 'fft_501_b', 'fft_502_b', 'fft_503_b', 'fft_504_b', 'fft_505_b', 'fft_506_b', 'fft_507_b', 'fft_508_b', 'fft_509_b', 'fft_510_b', 'fft_511_b', 'fft_512_b', 'fft_513_b', 'fft_514_b', 'fft_515_b', 'fft_516_b', 'fft_517_b', 'fft_518_b', 'fft_519_b', 'fft_520_b', 'fft_521_b', 'fft_522_b', 'fft_523_b', 'fft_524_b', 'fft_525_b', 'fft_526_b', 'fft_527_b', 'fft_528_b', 'fft_529_b', 'fft_530_b', 'fft_531_b', 'fft_532_b', 'fft_533_b', 'fft_534_b', 'fft_535_b', 'fft_536_b', 'fft_537_b', 'fft_538_b', 'fft_539_b', 'fft_540_b', 'fft_541_b', 'fft_542_b', 'fft_543_b', 'fft_544_b', 'fft_545_b', 'fft_546_b', 'fft_547_b', 'fft_548_b', 'fft_549_b', 'fft_550_b', 'fft_551_b', 'fft_552_b', 'fft_553_b', 'fft_554_b', 'fft_555_b', 'fft_556_b', 'fft_557_b', 'fft_558_b', 'fft_559_b', 'fft_560_b', 'fft_561_b', 'fft_562_b', 'fft_563_b', 'fft_564_b', 'fft_565_b', 'fft_566_b', 'fft_567_b', 'fft_568_b', 'fft_569_b', 'fft_570_b', 'fft_571_b', 'fft_572_b', 'fft_573_b', 'fft_574_b', 'fft_575_b', 'fft_576_b', 'fft_577_b', 'fft_578_b', 'fft_579_b', 'fft_580_b', 'fft_581_b', 'fft_582_b', 'fft_583_b', 'fft_584_b', 'fft_585_b', 'fft_586_b', 'fft_587_b', 'fft_588_b', 'fft_589_b', 'fft_590_b', 'fft_591_b', 'fft_592_b', 'fft_593_b', 'fft_594_b', 'fft_595_b', 'fft_596_b', 'fft_597_b', 'fft_598_b', 'fft_599_b', 'fft_600_b', 'fft_601_b', 'fft_602_b', 'fft_603_b', 'fft_604_b', 'fft_605_b', 'fft_606_b', 'fft_607_b', 'fft_608_b', 'fft_609_b', 'fft_610_b', 'fft_611_b', 'fft_612_b', 'fft_613_b', 'fft_614_b', 'fft_615_b', 'fft_616_b', 'fft_617_b', 'fft_618_b', 'fft_619_b', 'fft_620_b', 'fft_621_b', 'fft_622_b', 'fft_623_b', 'fft_624_b', 'fft_625_b', 'fft_626_b', 'fft_627_b', 'fft_628_b', 'fft_629_b', 'fft_630_b', 'fft_631_b', 'fft_632_b', 'fft_633_b', 'fft_634_b', 'fft_635_b', 'fft_636_b', 'fft_637_b', 'fft_638_b', 'fft_639_b', 'fft_640_b', 'fft_641_b', 'fft_642_b', 'fft_643_b', 'fft_644_b', 'fft_645_b', 'fft_646_b', 'fft_647_b', 'fft_648_b', 'fft_649_b', 'fft_650_b', 'fft_651_b', 'fft_652_b', 'fft_653_b', 'fft_654_b', 'fft_655_b', 'fft_656_b', 'fft_657_b', 'fft_658_b', 'fft_659_b', 'fft_660_b', 'fft_661_b', 'fft_662_b', 'fft_663_b', 'fft_664_b', 'fft_665_b', 'fft_666_b', 'fft_667_b', 'fft_668_b', 'fft_669_b', 'fft_670_b', 'fft_671_b', 'fft_672_b', 'fft_673_b', 'fft_674_b', 'fft_675_b', 'fft_676_b', 'fft_677_b', 'fft_678_b', 'fft_679_b', 'fft_680_b', 'fft_681_b', 'fft_682_b', 'fft_683_b', 'fft_684_b', 'fft_685_b', 'fft_686_b', 'fft_687_b', 'fft_688_b', 'fft_689_b', 'fft_690_b', 'fft_691_b', 'fft_692_b', 'fft_693_b', 'fft_694_b', 'fft_695_b', 'fft_696_b', 'fft_697_b', 'fft_698_b', 'fft_699_b', 'fft_700_b', 'fft_701_b', 'fft_702_b', 'fft_703_b', 'fft_704_b', 'fft_705_b', 'fft_706_b', 'fft_707_b', 'fft_708_b', 'fft_709_b', 'fft_710_b', 'fft_711_b', 'fft_712_b', 'fft_713_b', 'fft_714_b', 'fft_715_b', 'fft_716_b', 'fft_717_b', 'fft_718_b', 'fft_719_b', 'fft_720_b', 'fft_721_b', 'fft_722_b', 'fft_723_b', 'fft_724_b', 'fft_725_b', 'fft_726_b', 'fft_727_b', 'fft_728_b', 'fft_729_b', 'fft_730_b', 'fft_731_b', 'fft_732_b', 'fft_733_b', 'fft_734_b', 'fft_735_b', 'fft_736_b', 'fft_737_b', 'fft_738_b', 'fft_739_b', 'fft_740_b', 'fft_741_b', 'fft_742_b', 'fft_743_b', 'fft_744_b', 'fft_745_b', 'fft_746_b', 'fft_747_b', 'fft_748_b', 'fft_749_b', 'label']\n",
            "First 10 columns: ['# mean_0_a', 'mean_1_a', 'mean_2_a', 'mean_3_a', 'mean_4_a', 'mean_d_0_a', 'mean_d_1_a', 'mean_d_2_a', 'mean_d_3_a', 'mean_d_4_a']\n",
            "Last column: label\n",
            "Label mapping: {'NEGATIVE': 0, 'NEUTRAL': 1, 'POSITIVE': 2}\n",
            "Class NEGATIVE: 708 samples\n",
            "Class NEUTRAL: 716 samples\n",
            "Class POSITIVE: 708 samples\n",
            "Identified 140 columns for delta band\n",
            "Identified 0 columns for theta band\n",
            "Identified 1274 columns for alpha band\n",
            "Identified 1274 columns for beta band\n",
            "Identified 0 columns for gamma band\n",
            "Original features: 2548\n",
            "Filtered features: 2548\n",
            "Kept bands: ['alpha', 'beta', 'theta']\n",
            "[Stats] mean=3698732826624.0000, std=69248764346368.0000, range=(-1579999953944576.000, 2610000086171648000.000)\n",
            "Note: This is a demonstration of bandpass filtering that would be used on raw EEG data\n",
            "Our dataset already contains extracted frequency features\n",
            "Applying delta band filter (1-4 Hz)\n",
            "Skipping filter demo due to error: The length of the input vector x must be greater than padlen, which is 9.\n",
            "[Saved] emotions_proc_filtered.npz\n",
            "X4D shape: (2132, 1, 1, 2548)\n"
          ]
        },
        {
          "output_type": "display_data",
          "data": {
            "text/plain": [
              "<Figure size 800x400 with 2 Axes>"
            ],
            "image/png": "[encoded data removed]"
          },
          "metadata": {}
        }
      ]
    },
    {
      "cell_type": "markdown",
      "source": [
        "# Baseline_Model"
      ],
      "metadata": {
        "id": "dhD5JiIyW_BC"
      }
    },
    {
      "cell_type": "code",
      "source": [
        "import sys, os\n",
        "project_dir = '/content/drive/MyDrive/data'\n",
        "sys.path.append(project_dir)\n",
        "\n",
        "CSV_PATH = os.path.join(project_dir, 'emotions.csv')"
      ],
      "metadata": {
        "id": "HWEKgocpZ51q"
      },
      "execution_count": 7,
      "outputs": []
    },
    {
      "cell_type": "code",
      "source": [
        "# Prepare data\n",
        "import numpy as np\n",
        "from sklearn.model_selection import train_test_split\n",
        "import torch\n",
        "from torch.utils.data import TensorDataset, DataLoader\n",
        "\n",
        "# 1) read + normalization\n",
        "X, y, _ = load_eeg_feature_csv(CSV_PATH)      # functions from data_loader\n",
        "Xn, stats = normalize_features(X)\n",
        "\n",
        "# 2) if USE_TSCEPTION = True, using TSception. if it is False, using FC.\n",
        "USE_TSCEPTION = True\n",
        "if USE_TSCEPTION:\n",
        "  Xn = reshape_for_tsception_feature(Xn)      # (N,1,1,feat)\n",
        "\n",
        "# 3) split the dataset\n",
        "X_tr, X_val, y_tr, y_val = train_test_split(\n",
        "  Xn, y, test_size=0.2, stratify=y, random_state=42\n",
        ")\n",
        "\n",
        "# 4) Packaged as TensorDataset\n",
        "def to_tensor(arr, dtype=torch.float32):\n",
        "  return torch.from_numpy(arr).to(dtype)\n",
        "\n",
        "ds_tr  = TensorDataset(to_tensor(X_tr), torch.from_numpy(y_tr))\n",
        "ds_val = TensorDataset(to_tensor(X_val), torch.from_numpy(y_val))\n",
        "dl_tr  = DataLoader(ds_tr,  batch_size=64, shuffle=True)\n",
        "dl_val = DataLoader(ds_val, batch_size=64)\n",
        "input_dim = Xn.shape[-1]         # feat dimension，The length of the feature vector for each piece of data\n",
        "num_classes = int(np.max(y) + 1)    # 3，（Negative / Neutral / Positive）"
      ],
      "metadata": {
        "colab": {
          "base_uri": "https://localhost:8080/"
        },
        "id": "rZZUVwVgXjxA",
        "outputId": "4368c3ff-bd83-4a20-c4aa-a6500dd7b0ac"
      },
      "execution_count": 8,
      "outputs": [
        {
          "output_type": "stream",
          "name": "stdout",
          "text": [
            "Loaded CSV with 2132 rows and 2549 columns\n",
            "['# mean_0_a', 'mean_1_a', 'mean_2_a', 'mean_3_a', 'mean_4_a', 'mean_d_0_a', 'mean_d_1_a', 'mean_d_2_a', 'mean_d_3_a', 'mean_d_4_a', 'mean_d_0_a2', 'mean_d_1_a2', 'mean_d_2_a2', 'mean_d_3_a2', 'mean_d_4_a2', 'mean_d_5_a', 'mean_d_6_a', 'mean_d_7_a', 'mean_d_8_a', 'mean_d_9_a', 'mean_d_10_a', 'mean_d_11_a', 'mean_d_12_a', 'mean_d_13_a', 'mean_d_14_a', 'mean_d_15_a', 'mean_d_16_a', 'mean_d_17_a', 'mean_d_18_a', 'mean_d_19_a', 'mean_d_20_a', 'mean_d_21_a', 'mean_d_22_a', 'mean_d_23_a', 'mean_d_24_a', 'mean_d_25_a', 'mean_d_26_a', 'mean_d_27_a', 'mean_d_28_a', 'mean_d_29_a', 'mean_d_30_a', 'mean_d_31_a', 'mean_d_32_a', 'mean_d_33_a', 'mean_d_34_a', 'mean_d_35_a', 'mean_d_36_a', 'mean_d_37_a', 'mean_d_38_a', 'mean_d_39_a', 'mean_d_40_a', 'mean_d_41_a', 'mean_d_42_a', 'mean_d_43_a', 'mean_d_44_a', 'mean_d_45_a', 'mean_d_46_a', 'mean_d_47_a', 'mean_d_48_a', 'mean_d_49_a', 'stddev_0_a', 'stddev_1_a', 'stddev_2_a', 'stddev_3_a', 'stddev_4_a', 'stddev_d_0_a', 'stddev_d_1_a', 'stddev_d_2_a', 'stddev_d_3_a', 'stddev_d_4_a', 'moments_0_a', 'moments_1_a', 'moments_2_a', 'moments_3_a', 'moments_4_a', 'moments_5_a', 'moments_6_a', 'moments_7_a', 'moments_8_a', 'moments_9_a', 'moments_10_a', 'moments_11_a', 'moments_12_a', 'moments_13_a', 'moments_14_a', 'moments_15_a', 'moments_16_a', 'moments_17_a', 'moments_18_a', 'moments_19_a', 'max_0_a', 'max_1_a', 'max_2_a', 'max_3_a', 'max_4_a', 'max_d_0_a', 'max_d_1_a', 'max_d_2_a', 'max_d_3_a', 'max_d_4_a', 'max_q_0_a', 'max_q_1_a', 'max_q_2_a', 'max_q_3_a', 'max_q_4_a', 'max_q_5_a', 'max_q_6_a', 'max_q_7_a', 'max_q_8_a', 'max_q_9_a', 'max_q_10_a', 'max_q_11_a', 'max_q_12_a', 'max_q_13_a', 'max_q_14_a', 'max_q_15_a', 'max_q_16_a', 'max_q_17_a', 'max_q_18_a', 'max_q_19_a', 'max_q_20_a', 'max_q_21_a', 'max_q_22_a', 'max_q_23_a', 'max_q_24_a', 'max_q_25_a', 'max_q_26_a', 'max_q_27_a', 'max_q_28_a', 'max_q_29_a', 'max_q_30_a', 'max_q_31_a', 'max_q_32_a', 'max_q_33_a', 'max_q_34_a', 'max_q_35_a', 'max_q_36_a', 'max_q_37_a', 'max_q_38_a', 'max_q_39_a', 'max_q_40_a', 'max_q_41_a', 'max_q_42_a', 'max_q_43_a', 'max_q_44_a', 'max_q_45_a', 'max_q_46_a', 'max_q_47_a', 'max_q_48_a', 'max_q_49_a', 'min_0_a', 'min_1_a', 'min_2_a', 'min_3_a', 'min_4_a', 'min_d_0_a', 'min_d_1_a', 'min_d_2_a', 'min_d_3_a', 'min_d_4_a', 'min_q_0_a', 'min_q_1_a', 'min_q_2_a', 'min_q_3_a', 'min_q_4_a', 'min_q_5_a', 'min_q_6_a', 'min_q_7_a', 'min_q_8_a', 'min_q_9_a', 'min_q_10_a', 'min_q_11_a', 'min_q_12_a', 'min_q_13_a', 'min_q_14_a', 'min_q_15_a', 'min_q_16_a', 'min_q_17_a', 'min_q_18_a', 'min_q_19_a', 'min_q_20_a', 'min_q_21_a', 'min_q_22_a', 'min_q_23_a', 'min_q_24_a', 'min_q_25_a', 'min_q_26_a', 'min_q_27_a', 'min_q_28_a', 'min_q_29_a', 'min_q_30_a', 'min_q_31_a', 'min_q_32_a', 'min_q_33_a', 'min_q_34_a', 'min_q_35_a', 'min_q_36_a', 'min_q_37_a', 'min_q_38_a', 'min_q_39_a', 'min_q_40_a', 'min_q_41_a', 'min_q_42_a', 'min_q_43_a', 'min_q_44_a', 'min_q_45_a', 'min_q_46_a', 'min_q_47_a', 'min_q_48_a', 'min_q_49_a', 'covmat_0_a', 'covmat_1_a', 'covmat_2_a', 'covmat_3_a', 'covmat_4_a', 'covmat_5_a', 'covmat_6_a', 'covmat_7_a', 'covmat_8_a', 'covmat_9_a', 'covmat_10_a', 'covmat_11_a', 'covmat_12_a', 'covmat_13_a', 'covmat_14_a', 'covmat_15_a', 'covmat_16_a', 'covmat_17_a', 'covmat_18_a', 'covmat_19_a', 'covmat_20_a', 'covmat_21_a', 'covmat_22_a', 'covmat_23_a', 'covmat_24_a', 'covmat_25_a', 'covmat_26_a', 'covmat_27_a', 'covmat_28_a', 'covmat_29_a', 'covmat_30_a', 'covmat_31_a', 'covmat_32_a', 'covmat_33_a', 'covmat_34_a', 'covmat_35_a', 'covmat_36_a', 'covmat_37_a', 'covmat_38_a', 'covmat_39_a', 'covmat_40_a', 'covmat_41_a', 'covmat_42_a', 'covmat_43_a', 'covmat_44_a', 'covmat_45_a', 'covmat_46_a', 'covmat_47_a', 'covmat_48_a', 'covmat_49_a', 'covmat_50_a', 'covmat_51_a', 'covmat_52_a', 'covmat_53_a', 'covmat_54_a', 'covmat_55_a', 'covmat_56_a', 'covmat_57_a', 'covmat_58_a', 'covmat_59_a', 'covmat_60_a', 'covmat_61_a', 'covmat_62_a', 'covmat_63_a', 'covmat_64_a', 'covmat_65_a', 'covmat_66_a', 'covmat_67_a', 'covmat_68_a', 'covmat_69_a', 'covmat_70_a', 'covmat_71_a', 'covmat_72_a', 'covmat_73_a', 'covmat_74_a', 'covmat_75_a', 'covmat_76_a', 'covmat_77_a', 'covmat_78_a', 'covmat_79_a', 'covmat_80_a', 'covmat_81_a', 'covmat_82_a', 'covmat_83_a', 'covmat_84_a', 'covmat_85_a', 'covmat_86_a', 'covmat_87_a', 'covmat_88_a', 'covmat_89_a', 'covmat_90_a', 'covmat_91_a', 'covmat_92_a', 'covmat_93_a', 'covmat_94_a', 'covmat_95_a', 'covmat_96_a', 'covmat_97_a', 'covmat_98_a', 'covmat_99_a', 'covmat_100_a', 'covmat_101_a', 'covmat_102_a', 'covmat_103_a', 'covmat_104_a', 'covmat_105_a', 'covmat_106_a', 'covmat_107_a', 'covmat_108_a', 'covmat_109_a', 'covmat_110_a', 'covmat_111_a', 'covmat_112_a', 'covmat_113_a', 'covmat_114_a', 'covmat_115_a', 'covmat_116_a', 'covmat_117_a', 'covmat_118_a', 'covmat_119_a', 'covmat_120_a', 'covmat_121_a', 'covmat_122_a', 'covmat_123_a', 'covmat_124_a', 'covmat_125_a', 'covmat_126_a', 'covmat_127_a', 'covmat_128_a', 'covmat_129_a', 'covmat_130_a', 'covmat_131_a', 'covmat_132_a', 'covmat_133_a', 'covmat_134_a', 'covmat_135_a', 'covmat_136_a', 'covmat_137_a', 'covmat_138_a', 'covmat_139_a', 'covmat_140_a', 'covmat_141_a', 'covmat_142_a', 'covmat_143_a', 'eigen_0_a', 'eigen_1_a', 'eigen_2_a', 'eigen_3_a', 'eigen_4_a', 'eigen_5_a', 'eigen_6_a', 'eigen_7_a', 'eigen_8_a', 'eigen_9_a', 'eigen_10_a', 'eigen_11_a', 'logm_0_a', 'logm_1_a', 'logm_2_a', 'logm_3_a', 'logm_4_a', 'logm_5_a', 'logm_6_a', 'logm_7_a', 'logm_8_a', 'logm_9_a', 'logm_10_a', 'logm_11_a', 'logm_12_a', 'logm_13_a', 'logm_14_a', 'logm_15_a', 'logm_16_a', 'logm_17_a', 'logm_18_a', 'logm_19_a', 'logm_20_a', 'logm_21_a', 'logm_22_a', 'logm_23_a', 'logm_24_a', 'logm_25_a', 'logm_26_a', 'logm_27_a', 'logm_28_a', 'logm_29_a', 'logm_30_a', 'logm_31_a', 'logm_32_a', 'logm_33_a', 'logm_34_a', 'logm_35_a', 'logm_36_a', 'logm_37_a', 'logm_38_a', 'logm_39_a', 'logm_40_a', 'logm_41_a', 'logm_42_a', 'logm_43_a', 'logm_44_a', 'logm_45_a', 'logm_46_a', 'logm_47_a', 'logm_48_a', 'logm_49_a', 'logm_50_a', 'logm_51_a', 'logm_52_a', 'logm_53_a', 'logm_54_a', 'logm_55_a', 'logm_56_a', 'logm_57_a', 'logm_58_a', 'logm_59_a', 'logm_60_a', 'logm_61_a', 'logm_62_a', 'logm_63_a', 'logm_64_a', 'logm_65_a', 'logm_66_a', 'logm_67_a', 'logm_68_a', 'logm_69_a', 'logm_70_a', 'logm_71_a', 'logm_72_a', 'logm_73_a', 'logm_74_a', 'logm_75_a', 'logm_76_a', 'logm_77_a', 'entropy0_a', 'entropy1_a', 'entropy2_a', 'entropy3_a', 'entropy4_a', 'correlate_0_a', 'correlate_1_a', 'correlate_2_a', 'correlate_3_a', 'correlate_4_a', 'correlate_5_a', 'correlate_6_a', 'correlate_7_a', 'correlate_8_a', 'correlate_9_a', 'correlate_10_a', 'correlate_11_a', 'correlate_12_a', 'correlate_13_a', 'correlate_14_a', 'correlate_15_a', 'correlate_16_a', 'correlate_17_a', 'correlate_18_a', 'correlate_19_a', 'correlate_20_a', 'correlate_21_a', 'correlate_22_a', 'correlate_23_a', 'correlate_24_a', 'correlate_25_a', 'correlate_26_a', 'correlate_27_a', 'correlate_28_a', 'correlate_29_a', 'correlate_30_a', 'correlate_31_a', 'correlate_32_a', 'correlate_33_a', 'correlate_34_a', 'correlate_35_a', 'correlate_36_a', 'correlate_37_a', 'correlate_38_a', 'correlate_39_a', 'correlate_40_a', 'correlate_41_a', 'correlate_42_a', 'correlate_43_a', 'correlate_44_a', 'correlate_45_a', 'correlate_46_a', 'correlate_47_a', 'correlate_48_a', 'correlate_49_a', 'correlate_50_a', 'correlate_51_a', 'correlate_52_a', 'correlate_53_a', 'correlate_54_a', 'correlate_55_a', 'correlate_56_a', 'correlate_57_a', 'correlate_58_a', 'correlate_59_a', 'correlate_60_a', 'correlate_61_a', 'correlate_62_a', 'correlate_63_a', 'correlate_64_a', 'correlate_65_a', 'correlate_66_a', 'correlate_67_a', 'correlate_68_a', 'correlate_69_a', 'correlate_70_a', 'correlate_71_a', 'correlate_72_a', 'correlate_73_a', 'correlate_74_a', 'fft_0_a', 'fft_1_a', 'fft_2_a', 'fft_3_a', 'fft_4_a', 'fft_5_a', 'fft_6_a', 'fft_7_a', 'fft_8_a', 'fft_9_a', 'fft_10_a', 'fft_11_a', 'fft_12_a', 'fft_13_a', 'fft_14_a', 'fft_15_a', 'fft_16_a', 'fft_17_a', 'fft_18_a', 'fft_19_a', 'fft_20_a', 'fft_21_a', 'fft_22_a', 'fft_23_a', 'fft_24_a', 'fft_25_a', 'fft_26_a', 'fft_27_a', 'fft_28_a', 'fft_29_a', 'fft_30_a', 'fft_31_a', 'fft_32_a', 'fft_33_a', 'fft_34_a', 'fft_35_a', 'fft_36_a', 'fft_37_a', 'fft_38_a', 'fft_39_a', 'fft_40_a', 'fft_41_a', 'fft_42_a', 'fft_43_a', 'fft_44_a', 'fft_45_a', 'fft_46_a', 'fft_47_a', 'fft_48_a', 'fft_49_a', 'fft_50_a', 'fft_51_a', 'fft_52_a', 'fft_53_a', 'fft_54_a', 'fft_55_a', 'fft_56_a', 'fft_57_a', 'fft_58_a', 'fft_59_a', 'fft_60_a', 'fft_61_a', 'fft_62_a', 'fft_63_a', 'fft_64_a', 'fft_65_a', 'fft_66_a', 'fft_67_a', 'fft_68_a', 'fft_69_a', 'fft_70_a', 'fft_71_a', 'fft_72_a', 'fft_73_a', 'fft_74_a', 'fft_75_a', 'fft_76_a', 'fft_77_a', 'fft_78_a', 'fft_79_a', 'fft_80_a', 'fft_81_a', 'fft_82_a', 'fft_83_a', 'fft_84_a', 'fft_85_a', 'fft_86_a', 'fft_87_a', 'fft_88_a', 'fft_89_a', 'fft_90_a', 'fft_91_a', 'fft_92_a', 'fft_93_a', 'fft_94_a', 'fft_95_a', 'fft_96_a', 'fft_97_a', 'fft_98_a', 'fft_99_a', 'fft_100_a', 'fft_101_a', 'fft_102_a', 'fft_103_a', 'fft_104_a', 'fft_105_a', 'fft_106_a', 'fft_107_a', 'fft_108_a', 'fft_109_a', 'fft_110_a', 'fft_111_a', 'fft_112_a', 'fft_113_a', 'fft_114_a', 'fft_115_a', 'fft_116_a', 'fft_117_a', 'fft_118_a', 'fft_119_a', 'fft_120_a', 'fft_121_a', 'fft_122_a', 'fft_123_a', 'fft_124_a', 'fft_125_a', 'fft_126_a', 'fft_127_a', 'fft_128_a', 'fft_129_a', 'fft_130_a', 'fft_131_a', 'fft_132_a', 'fft_133_a', 'fft_134_a', 'fft_135_a', 'fft_136_a', 'fft_137_a', 'fft_138_a', 'fft_139_a', 'fft_140_a', 'fft_141_a', 'fft_142_a', 'fft_143_a', 'fft_144_a', 'fft_145_a', 'fft_146_a', 'fft_147_a', 'fft_148_a', 'fft_149_a', 'fft_150_a', 'fft_151_a', 'fft_152_a', 'fft_153_a', 'fft_154_a', 'fft_155_a', 'fft_156_a', 'fft_157_a', 'fft_158_a', 'fft_159_a', 'fft_160_a', 'fft_161_a', 'fft_162_a', 'fft_163_a', 'fft_164_a', 'fft_165_a', 'fft_166_a', 'fft_167_a', 'fft_168_a', 'fft_169_a', 'fft_170_a', 'fft_171_a', 'fft_172_a', 'fft_173_a', 'fft_174_a', 'fft_175_a', 'fft_176_a', 'fft_177_a', 'fft_178_a', 'fft_179_a', 'fft_180_a', 'fft_181_a', 'fft_182_a', 'fft_183_a', 'fft_184_a', 'fft_185_a', 'fft_186_a', 'fft_187_a', 'fft_188_a', 'fft_189_a', 'fft_190_a', 'fft_191_a', 'fft_192_a', 'fft_193_a', 'fft_194_a', 'fft_195_a', 'fft_196_a', 'fft_197_a', 'fft_198_a', 'fft_199_a', 'fft_200_a', 'fft_201_a', 'fft_202_a', 'fft_203_a', 'fft_204_a', 'fft_205_a', 'fft_206_a', 'fft_207_a', 'fft_208_a', 'fft_209_a', 'fft_210_a', 'fft_211_a', 'fft_212_a', 'fft_213_a', 'fft_214_a', 'fft_215_a', 'fft_216_a', 'fft_217_a', 'fft_218_a', 'fft_219_a', 'fft_220_a', 'fft_221_a', 'fft_222_a', 'fft_223_a', 'fft_224_a', 'fft_225_a', 'fft_226_a', 'fft_227_a', 'fft_228_a', 'fft_229_a', 'fft_230_a', 'fft_231_a', 'fft_232_a', 'fft_233_a', 'fft_234_a', 'fft_235_a', 'fft_236_a', 'fft_237_a', 'fft_238_a', 'fft_239_a', 'fft_240_a', 'fft_241_a', 'fft_242_a', 'fft_243_a', 'fft_244_a', 'fft_245_a', 'fft_246_a', 'fft_247_a', 'fft_248_a', 'fft_249_a', 'fft_250_a', 'fft_251_a', 'fft_252_a', 'fft_253_a', 'fft_254_a', 'fft_255_a', 'fft_256_a', 'fft_257_a', 'fft_258_a', 'fft_259_a', 'fft_260_a', 'fft_261_a', 'fft_262_a', 'fft_263_a', 'fft_264_a', 'fft_265_a', 'fft_266_a', 'fft_267_a', 'fft_268_a', 'fft_269_a', 'fft_270_a', 'fft_271_a', 'fft_272_a', 'fft_273_a', 'fft_274_a', 'fft_275_a', 'fft_276_a', 'fft_277_a', 'fft_278_a', 'fft_279_a', 'fft_280_a', 'fft_281_a', 'fft_282_a', 'fft_283_a', 'fft_284_a', 'fft_285_a', 'fft_286_a', 'fft_287_a', 'fft_288_a', 'fft_289_a', 'fft_290_a', 'fft_291_a', 'fft_292_a', 'fft_293_a', 'fft_294_a', 'fft_295_a', 'fft_296_a', 'fft_297_a', 'fft_298_a', 'fft_299_a', 'fft_300_a', 'fft_301_a', 'fft_302_a', 'fft_303_a', 'fft_304_a', 'fft_305_a', 'fft_306_a', 'fft_307_a', 'fft_308_a', 'fft_309_a', 'fft_310_a', 'fft_311_a', 'fft_312_a', 'fft_313_a', 'fft_314_a', 'fft_315_a', 'fft_316_a', 'fft_317_a', 'fft_318_a', 'fft_319_a', 'fft_320_a', 'fft_321_a', 'fft_322_a', 'fft_323_a', 'fft_324_a', 'fft_325_a', 'fft_326_a', 'fft_327_a', 'fft_328_a', 'fft_329_a', 'fft_330_a', 'fft_331_a', 'fft_332_a', 'fft_333_a', 'fft_334_a', 'fft_335_a', 'fft_336_a', 'fft_337_a', 'fft_338_a', 'fft_339_a', 'fft_340_a', 'fft_341_a', 'fft_342_a', 'fft_343_a', 'fft_344_a', 'fft_345_a', 'fft_346_a', 'fft_347_a', 'fft_348_a', 'fft_349_a', 'fft_350_a', 'fft_351_a', 'fft_352_a', 'fft_353_a', 'fft_354_a', 'fft_355_a', 'fft_356_a', 'fft_357_a', 'fft_358_a', 'fft_359_a', 'fft_360_a', 'fft_361_a', 'fft_362_a', 'fft_363_a', 'fft_364_a', 'fft_365_a', 'fft_366_a', 'fft_367_a', 'fft_368_a', 'fft_369_a', 'fft_370_a', 'fft_371_a', 'fft_372_a', 'fft_373_a', 'fft_374_a', 'fft_375_a', 'fft_376_a', 'fft_377_a', 'fft_378_a', 'fft_379_a', 'fft_380_a', 'fft_381_a', 'fft_382_a', 'fft_383_a', 'fft_384_a', 'fft_385_a', 'fft_386_a', 'fft_387_a', 'fft_388_a', 'fft_389_a', 'fft_390_a', 'fft_391_a', 'fft_392_a', 'fft_393_a', 'fft_394_a', 'fft_395_a', 'fft_396_a', 'fft_397_a', 'fft_398_a', 'fft_399_a', 'fft_400_a', 'fft_401_a', 'fft_402_a', 'fft_403_a', 'fft_404_a', 'fft_405_a', 'fft_406_a', 'fft_407_a', 'fft_408_a', 'fft_409_a', 'fft_410_a', 'fft_411_a', 'fft_412_a', 'fft_413_a', 'fft_414_a', 'fft_415_a', 'fft_416_a', 'fft_417_a', 'fft_418_a', 'fft_419_a', 'fft_420_a', 'fft_421_a', 'fft_422_a', 'fft_423_a', 'fft_424_a', 'fft_425_a', 'fft_426_a', 'fft_427_a', 'fft_428_a', 'fft_429_a', 'fft_430_a', 'fft_431_a', 'fft_432_a', 'fft_433_a', 'fft_434_a', 'fft_435_a', 'fft_436_a', 'fft_437_a', 'fft_438_a', 'fft_439_a', 'fft_440_a', 'fft_441_a', 'fft_442_a', 'fft_443_a', 'fft_444_a', 'fft_445_a', 'fft_446_a', 'fft_447_a', 'fft_448_a', 'fft_449_a', 'fft_450_a', 'fft_451_a', 'fft_452_a', 'fft_453_a', 'fft_454_a', 'fft_455_a', 'fft_456_a', 'fft_457_a', 'fft_458_a', 'fft_459_a', 'fft_460_a', 'fft_461_a', 'fft_462_a', 'fft_463_a', 'fft_464_a', 'fft_465_a', 'fft_466_a', 'fft_467_a', 'fft_468_a', 'fft_469_a', 'fft_470_a', 'fft_471_a', 'fft_472_a', 'fft_473_a', 'fft_474_a', 'fft_475_a', 'fft_476_a', 'fft_477_a', 'fft_478_a', 'fft_479_a', 'fft_480_a', 'fft_481_a', 'fft_482_a', 'fft_483_a', 'fft_484_a', 'fft_485_a', 'fft_486_a', 'fft_487_a', 'fft_488_a', 'fft_489_a', 'fft_490_a', 'fft_491_a', 'fft_492_a', 'fft_493_a', 'fft_494_a', 'fft_495_a', 'fft_496_a', 'fft_497_a', 'fft_498_a', 'fft_499_a', 'fft_500_a', 'fft_501_a', 'fft_502_a', 'fft_503_a', 'fft_504_a', 'fft_505_a', 'fft_506_a', 'fft_507_a', 'fft_508_a', 'fft_509_a', 'fft_510_a', 'fft_511_a', 'fft_512_a', 'fft_513_a', 'fft_514_a', 'fft_515_a', 'fft_516_a', 'fft_517_a', 'fft_518_a', 'fft_519_a', 'fft_520_a', 'fft_521_a', 'fft_522_a', 'fft_523_a', 'fft_524_a', 'fft_525_a', 'fft_526_a', 'fft_527_a', 'fft_528_a', 'fft_529_a', 'fft_530_a', 'fft_531_a', 'fft_532_a', 'fft_533_a', 'fft_534_a', 'fft_535_a', 'fft_536_a', 'fft_537_a', 'fft_538_a', 'fft_539_a', 'fft_540_a', 'fft_541_a', 'fft_542_a', 'fft_543_a', 'fft_544_a', 'fft_545_a', 'fft_546_a', 'fft_547_a', 'fft_548_a', 'fft_549_a', 'fft_550_a', 'fft_551_a', 'fft_552_a', 'fft_553_a', 'fft_554_a', 'fft_555_a', 'fft_556_a', 'fft_557_a', 'fft_558_a', 'fft_559_a', 'fft_560_a', 'fft_561_a', 'fft_562_a', 'fft_563_a', 'fft_564_a', 'fft_565_a', 'fft_566_a', 'fft_567_a', 'fft_568_a', 'fft_569_a', 'fft_570_a', 'fft_571_a', 'fft_572_a', 'fft_573_a', 'fft_574_a', 'fft_575_a', 'fft_576_a', 'fft_577_a', 'fft_578_a', 'fft_579_a', 'fft_580_a', 'fft_581_a', 'fft_582_a', 'fft_583_a', 'fft_584_a', 'fft_585_a', 'fft_586_a', 'fft_587_a', 'fft_588_a', 'fft_589_a', 'fft_590_a', 'fft_591_a', 'fft_592_a', 'fft_593_a', 'fft_594_a', 'fft_595_a', 'fft_596_a', 'fft_597_a', 'fft_598_a', 'fft_599_a', 'fft_600_a', 'fft_601_a', 'fft_602_a', 'fft_603_a', 'fft_604_a', 'fft_605_a', 'fft_606_a', 'fft_607_a', 'fft_608_a', 'fft_609_a', 'fft_610_a', 'fft_611_a', 'fft_612_a', 'fft_613_a', 'fft_614_a', 'fft_615_a', 'fft_616_a', 'fft_617_a', 'fft_618_a', 'fft_619_a', 'fft_620_a', 'fft_621_a', 'fft_622_a', 'fft_623_a', 'fft_624_a', 'fft_625_a', 'fft_626_a', 'fft_627_a', 'fft_628_a', 'fft_629_a', 'fft_630_a', 'fft_631_a', 'fft_632_a', 'fft_633_a', 'fft_634_a', 'fft_635_a', 'fft_636_a', 'fft_637_a', 'fft_638_a', 'fft_639_a', 'fft_640_a', 'fft_641_a', 'fft_642_a', 'fft_643_a', 'fft_644_a', 'fft_645_a', 'fft_646_a', 'fft_647_a', 'fft_648_a', 'fft_649_a', 'fft_650_a', 'fft_651_a', 'fft_652_a', 'fft_653_a', 'fft_654_a', 'fft_655_a', 'fft_656_a', 'fft_657_a', 'fft_658_a', 'fft_659_a', 'fft_660_a', 'fft_661_a', 'fft_662_a', 'fft_663_a', 'fft_664_a', 'fft_665_a', 'fft_666_a', 'fft_667_a', 'fft_668_a', 'fft_669_a', 'fft_670_a', 'fft_671_a', 'fft_672_a', 'fft_673_a', 'fft_674_a', 'fft_675_a', 'fft_676_a', 'fft_677_a', 'fft_678_a', 'fft_679_a', 'fft_680_a', 'fft_681_a', 'fft_682_a', 'fft_683_a', 'fft_684_a', 'fft_685_a', 'fft_686_a', 'fft_687_a', 'fft_688_a', 'fft_689_a', 'fft_690_a', 'fft_691_a', 'fft_692_a', 'fft_693_a', 'fft_694_a', 'fft_695_a', 'fft_696_a', 'fft_697_a', 'fft_698_a', 'fft_699_a', 'fft_700_a', 'fft_701_a', 'fft_702_a', 'fft_703_a', 'fft_704_a', 'fft_705_a', 'fft_706_a', 'fft_707_a', 'fft_708_a', 'fft_709_a', 'fft_710_a', 'fft_711_a', 'fft_712_a', 'fft_713_a', 'fft_714_a', 'fft_715_a', 'fft_716_a', 'fft_717_a', 'fft_718_a', 'fft_719_a', 'fft_720_a', 'fft_721_a', 'fft_722_a', 'fft_723_a', 'fft_724_a', 'fft_725_a', 'fft_726_a', 'fft_727_a', 'fft_728_a', 'fft_729_a', 'fft_730_a', 'fft_731_a', 'fft_732_a', 'fft_733_a', 'fft_734_a', 'fft_735_a', 'fft_736_a', 'fft_737_a', 'fft_738_a', 'fft_739_a', 'fft_740_a', 'fft_741_a', 'fft_742_a', 'fft_743_a', 'fft_744_a', 'fft_745_a', 'fft_746_a', 'fft_747_a', 'fft_748_a', 'fft_749_a', 'mean_0_b', 'mean_1_b', 'mean_2_b', 'mean_3_b', 'mean_4_b', 'mean_d_0_b', 'mean_d_1_b', 'mean_d_2_b', 'mean_d_3_b', 'mean_d_4_b', 'mean_d_0_b2', 'mean_d_1_b2', 'mean_d_2_b2', 'mean_d_3_b2', 'mean_d_4_b2', 'mean_d_5_b', 'mean_d_6_b', 'mean_d_7_b', 'mean_d_8_b', 'mean_d_9_b', 'mean_d_10_b', 'mean_d_11_b', 'mean_d_12_b', 'mean_d_13_b', 'mean_d_14_b', 'mean_d_15_b', 'mean_d_16_b', 'mean_d_17_b', 'mean_d_18_b', 'mean_d_19_b', 'mean_d_20_b', 'mean_d_21_b', 'mean_d_22_b', 'mean_d_23_b', 'mean_d_24_b', 'mean_d_25_b', 'mean_d_26_b', 'mean_d_27_b', 'mean_d_28_b', 'mean_d_29_b', 'mean_d_30_b', 'mean_d_31_b', 'mean_d_32_b', 'mean_d_33_b', 'mean_d_34_b', 'mean_d_35_b', 'mean_d_36_b', 'mean_d_37_b', 'mean_d_38_b', 'mean_d_39_b', 'mean_d_40_b', 'mean_d_41_b', 'mean_d_42_b', 'mean_d_43_b', 'mean_d_44_b', 'mean_d_45_b', 'mean_d_46_b', 'mean_d_47_b', 'mean_d_48_b', 'mean_d_49_b', 'stddev_0_b', 'stddev_1_b', 'stddev_2_b', 'stddev_3_b', 'stddev_4_b', 'stddev_d_0_b', 'stddev_d_1_b', 'stddev_d_2_b', 'stddev_d_3_b', 'stddev_d_4_b', 'moments_0_b', 'moments_1_b', 'moments_2_b', 'moments_3_b', 'moments_4_b', 'moments_5_b', 'moments_6_b', 'moments_7_b', 'moments_8_b', 'moments_9_b', 'moments_10_b', 'moments_11_b', 'moments_12_b', 'moments_13_b', 'moments_14_b', 'moments_15_b', 'moments_16_b', 'moments_17_b', 'moments_18_b', 'moments_19_b', 'max_0_b', 'max_1_b', 'max_2_b', 'max_3_b', 'max_4_b', 'max_d_0_b', 'max_d_1_b', 'max_d_2_b', 'max_d_3_b', 'max_d_4_b', 'max_q_0_b', 'max_q_1_b', 'max_q_2_b', 'max_q_3_b', 'max_q_4_b', 'max_q_5_b', 'max_q_6_b', 'max_q_7_b', 'max_q_8_b', 'max_q_9_b', 'max_q_10_b', 'max_q_11_b', 'max_q_12_b', 'max_q_13_b', 'max_q_14_b', 'max_q_15_b', 'max_q_16_b', 'max_q_17_b', 'max_q_18_b', 'max_q_19_b', 'max_q_20_b', 'max_q_21_b', 'max_q_22_b', 'max_q_23_b', 'max_q_24_b', 'max_q_25_b', 'max_q_26_b', 'max_q_27_b', 'max_q_28_b', 'max_q_29_b', 'max_q_30_b', 'max_q_31_b', 'max_q_32_b', 'max_q_33_b', 'max_q_34_b', 'max_q_35_b', 'max_q_36_b', 'max_q_37_b', 'max_q_38_b', 'max_q_39_b', 'max_q_40_b', 'max_q_41_b', 'max_q_42_b', 'max_q_43_b', 'max_q_44_b', 'max_q_45_b', 'max_q_46_b', 'max_q_47_b', 'max_q_48_b', 'max_q_49_b', 'min_0_b', 'min_1_b', 'min_2_b', 'min_3_b', 'min_4_b', 'min_d_0_b', 'min_d_1_b', 'min_d_2_b', 'min_d_3_b', 'min_d_4_b', 'min_q_0_b', 'min_q_1_b', 'min_q_2_b', 'min_q_3_b', 'min_q_4_b', 'min_q_5_b', 'min_q_6_b', 'min_q_7_b', 'min_q_8_b', 'min_q_9_b', 'min_q_10_b', 'min_q_11_b', 'min_q_12_b', 'min_q_13_b', 'min_q_14_b', 'min_q_15_b', 'min_q_16_b', 'min_q_17_b', 'min_q_18_b', 'min_q_19_b', 'min_q_20_b', 'min_q_21_b', 'min_q_22_b', 'min_q_23_b', 'min_q_24_b', 'min_q_25_b', 'min_q_26_b', 'min_q_27_b', 'min_q_28_b', 'min_q_29_b', 'min_q_30_b', 'min_q_31_b', 'min_q_32_b', 'min_q_33_b', 'min_q_34_b', 'min_q_35_b', 'min_q_36_b', 'min_q_37_b', 'min_q_38_b', 'min_q_39_b', 'min_q_40_b', 'min_q_41_b', 'min_q_42_b', 'min_q_43_b', 'min_q_44_b', 'min_q_45_b', 'min_q_46_b', 'min_q_47_b', 'min_q_48_b', 'min_q_49_b', 'covmat_0_b', 'covmat_1_b', 'covmat_2_b', 'covmat_3_b', 'covmat_4_b', 'covmat_5_b', 'covmat_6_b', 'covmat_7_b', 'covmat_8_b', 'covmat_9_b', 'covmat_10_b', 'covmat_11_b', 'covmat_12_b', 'covmat_13_b', 'covmat_14_b', 'covmat_15_b', 'covmat_16_b', 'covmat_17_b', 'covmat_18_b', 'covmat_19_b', 'covmat_20_b', 'covmat_21_b', 'covmat_22_b', 'covmat_23_b', 'covmat_24_b', 'covmat_25_b', 'covmat_26_b', 'covmat_27_b', 'covmat_28_b', 'covmat_29_b', 'covmat_30_b', 'covmat_31_b', 'covmat_32_b', 'covmat_33_b', 'covmat_34_b', 'covmat_35_b', 'covmat_36_b', 'covmat_37_b', 'covmat_38_b', 'covmat_39_b', 'covmat_40_b', 'covmat_41_b', 'covmat_42_b', 'covmat_43_b', 'covmat_44_b', 'covmat_45_b', 'covmat_46_b', 'covmat_47_b', 'covmat_48_b', 'covmat_49_b', 'covmat_50_b', 'covmat_51_b', 'covmat_52_b', 'covmat_53_b', 'covmat_54_b', 'covmat_55_b', 'covmat_56_b', 'covmat_57_b', 'covmat_58_b', 'covmat_59_b', 'covmat_60_b', 'covmat_61_b', 'covmat_62_b', 'covmat_63_b', 'covmat_64_b', 'covmat_65_b', 'covmat_66_b', 'covmat_67_b', 'covmat_68_b', 'covmat_69_b', 'covmat_70_b', 'covmat_71_b', 'covmat_72_b', 'covmat_73_b', 'covmat_74_b', 'covmat_75_b', 'covmat_76_b', 'covmat_77_b', 'covmat_78_b', 'covmat_79_b', 'covmat_80_b', 'covmat_81_b', 'covmat_82_b', 'covmat_83_b', 'covmat_84_b', 'covmat_85_b', 'covmat_86_b', 'covmat_87_b', 'covmat_88_b', 'covmat_89_b', 'covmat_90_b', 'covmat_91_b', 'covmat_92_b', 'covmat_93_b', 'covmat_94_b', 'covmat_95_b', 'covmat_96_b', 'covmat_97_b', 'covmat_98_b', 'covmat_99_b', 'covmat_100_b', 'covmat_101_b', 'covmat_102_b', 'covmat_103_b', 'covmat_104_b', 'covmat_105_b', 'covmat_106_b', 'covmat_107_b', 'covmat_108_b', 'covmat_109_b', 'covmat_110_b', 'covmat_111_b', 'covmat_112_b', 'covmat_113_b', 'covmat_114_b', 'covmat_115_b', 'covmat_116_b', 'covmat_117_b', 'covmat_118_b', 'covmat_119_b', 'covmat_120_b', 'covmat_121_b', 'covmat_122_b', 'covmat_123_b', 'covmat_124_b', 'covmat_125_b', 'covmat_126_b', 'covmat_127_b', 'covmat_128_b', 'covmat_129_b', 'covmat_130_b', 'covmat_131_b', 'covmat_132_b', 'covmat_133_b', 'covmat_134_b', 'covmat_135_b', 'covmat_136_b', 'covmat_137_b', 'covmat_138_b', 'covmat_139_b', 'covmat_140_b', 'covmat_141_b', 'covmat_142_b', 'covmat_143_b', 'eigen_0_b', 'eigen_1_b', 'eigen_2_b', 'eigen_3_b', 'eigen_4_b', 'eigen_5_b', 'eigen_6_b', 'eigen_7_b', 'eigen_8_b', 'eigen_9_b', 'eigen_10_b', 'eigen_11_b', 'logm_0_b', 'logm_1_b', 'logm_2_b', 'logm_3_b', 'logm_4_b', 'logm_5_b', 'logm_6_b', 'logm_7_b', 'logm_8_b', 'logm_9_b', 'logm_10_b', 'logm_11_b', 'logm_12_b', 'logm_13_b', 'logm_14_b', 'logm_15_b', 'logm_16_b', 'logm_17_b', 'logm_18_b', 'logm_19_b', 'logm_20_b', 'logm_21_b', 'logm_22_b', 'logm_23_b', 'logm_24_b', 'logm_25_b', 'logm_26_b', 'logm_27_b', 'logm_28_b', 'logm_29_b', 'logm_30_b', 'logm_31_b', 'logm_32_b', 'logm_33_b', 'logm_34_b', 'logm_35_b', 'logm_36_b', 'logm_37_b', 'logm_38_b', 'logm_39_b', 'logm_40_b', 'logm_41_b', 'logm_42_b', 'logm_43_b', 'logm_44_b', 'logm_45_b', 'logm_46_b', 'logm_47_b', 'logm_48_b', 'logm_49_b', 'logm_50_b', 'logm_51_b', 'logm_52_b', 'logm_53_b', 'logm_54_b', 'logm_55_b', 'logm_56_b', 'logm_57_b', 'logm_58_b', 'logm_59_b', 'logm_60_b', 'logm_61_b', 'logm_62_b', 'logm_63_b', 'logm_64_b', 'logm_65_b', 'logm_66_b', 'logm_67_b', 'logm_68_b', 'logm_69_b', 'logm_70_b', 'logm_71_b', 'logm_72_b', 'logm_73_b', 'logm_74_b', 'logm_75_b', 'logm_76_b', 'logm_77_b', 'entropy0_b', 'entropy1_b', 'entropy2_b', 'entropy3_b', 'entropy4_b', 'correlate_0_b', 'correlate_1_b', 'correlate_2_b', 'correlate_3_b', 'correlate_4_b', 'correlate_5_b', 'correlate_6_b', 'correlate_7_b', 'correlate_8_b', 'correlate_9_b', 'correlate_10_b', 'correlate_11_b', 'correlate_12_b', 'correlate_13_b', 'correlate_14_b', 'correlate_15_b', 'correlate_16_b', 'correlate_17_b', 'correlate_18_b', 'correlate_19_b', 'correlate_20_b', 'correlate_21_b', 'correlate_22_b', 'correlate_23_b', 'correlate_24_b', 'correlate_25_b', 'correlate_26_b', 'correlate_27_b', 'correlate_28_b', 'correlate_29_b', 'correlate_30_b', 'correlate_31_b', 'correlate_32_b', 'correlate_33_b', 'correlate_34_b', 'correlate_35_b', 'correlate_36_b', 'correlate_37_b', 'correlate_38_b', 'correlate_39_b', 'correlate_40_b', 'correlate_41_b', 'correlate_42_b', 'correlate_43_b', 'correlate_44_b', 'correlate_45_b', 'correlate_46_b', 'correlate_47_b', 'correlate_48_b', 'correlate_49_b', 'correlate_50_b', 'correlate_51_b', 'correlate_52_b', 'correlate_53_b', 'correlate_54_b', 'correlate_55_b', 'correlate_56_b', 'correlate_57_b', 'correlate_58_b', 'correlate_59_b', 'correlate_60_b', 'correlate_61_b', 'correlate_62_b', 'correlate_63_b', 'correlate_64_b', 'correlate_65_b', 'correlate_66_b', 'correlate_67_b', 'correlate_68_b', 'correlate_69_b', 'correlate_70_b', 'correlate_71_b', 'correlate_72_b', 'correlate_73_b', 'correlate_74_b', 'fft_0_b', 'fft_1_b', 'fft_2_b', 'fft_3_b', 'fft_4_b', 'fft_5_b', 'fft_6_b', 'fft_7_b', 'fft_8_b', 'fft_9_b', 'fft_10_b', 'fft_11_b', 'fft_12_b', 'fft_13_b', 'fft_14_b', 'fft_15_b', 'fft_16_b', 'fft_17_b', 'fft_18_b', 'fft_19_b', 'fft_20_b', 'fft_21_b', 'fft_22_b', 'fft_23_b', 'fft_24_b', 'fft_25_b', 'fft_26_b', 'fft_27_b', 'fft_28_b', 'fft_29_b', 'fft_30_b', 'fft_31_b', 'fft_32_b', 'fft_33_b', 'fft_34_b', 'fft_35_b', 'fft_36_b', 'fft_37_b', 'fft_38_b', 'fft_39_b', 'fft_40_b', 'fft_41_b', 'fft_42_b', 'fft_43_b', 'fft_44_b', 'fft_45_b', 'fft_46_b', 'fft_47_b', 'fft_48_b', 'fft_49_b', 'fft_50_b', 'fft_51_b', 'fft_52_b', 'fft_53_b', 'fft_54_b', 'fft_55_b', 'fft_56_b', 'fft_57_b', 'fft_58_b', 'fft_59_b', 'fft_60_b', 'fft_61_b', 'fft_62_b', 'fft_63_b', 'fft_64_b', 'fft_65_b', 'fft_66_b', 'fft_67_b', 'fft_68_b', 'fft_69_b', 'fft_70_b', 'fft_71_b', 'fft_72_b', 'fft_73_b', 'fft_74_b', 'fft_75_b', 'fft_76_b', 'fft_77_b', 'fft_78_b', 'fft_79_b', 'fft_80_b', 'fft_81_b', 'fft_82_b', 'fft_83_b', 'fft_84_b', 'fft_85_b', 'fft_86_b', 'fft_87_b', 'fft_88_b', 'fft_89_b', 'fft_90_b', 'fft_91_b', 'fft_92_b', 'fft_93_b', 'fft_94_b', 'fft_95_b', 'fft_96_b', 'fft_97_b', 'fft_98_b', 'fft_99_b', 'fft_100_b', 'fft_101_b', 'fft_102_b', 'fft_103_b', 'fft_104_b', 'fft_105_b', 'fft_106_b', 'fft_107_b', 'fft_108_b', 'fft_109_b', 'fft_110_b', 'fft_111_b', 'fft_112_b', 'fft_113_b', 'fft_114_b', 'fft_115_b', 'fft_116_b', 'fft_117_b', 'fft_118_b', 'fft_119_b', 'fft_120_b', 'fft_121_b', 'fft_122_b', 'fft_123_b', 'fft_124_b', 'fft_125_b', 'fft_126_b', 'fft_127_b', 'fft_128_b', 'fft_129_b', 'fft_130_b', 'fft_131_b', 'fft_132_b', 'fft_133_b', 'fft_134_b', 'fft_135_b', 'fft_136_b', 'fft_137_b', 'fft_138_b', 'fft_139_b', 'fft_140_b', 'fft_141_b', 'fft_142_b', 'fft_143_b', 'fft_144_b', 'fft_145_b', 'fft_146_b', 'fft_147_b', 'fft_148_b', 'fft_149_b', 'fft_150_b', 'fft_151_b', 'fft_152_b', 'fft_153_b', 'fft_154_b', 'fft_155_b', 'fft_156_b', 'fft_157_b', 'fft_158_b', 'fft_159_b', 'fft_160_b', 'fft_161_b', 'fft_162_b', 'fft_163_b', 'fft_164_b', 'fft_165_b', 'fft_166_b', 'fft_167_b', 'fft_168_b', 'fft_169_b', 'fft_170_b', 'fft_171_b', 'fft_172_b', 'fft_173_b', 'fft_174_b', 'fft_175_b', 'fft_176_b', 'fft_177_b', 'fft_178_b', 'fft_179_b', 'fft_180_b', 'fft_181_b', 'fft_182_b', 'fft_183_b', 'fft_184_b', 'fft_185_b', 'fft_186_b', 'fft_187_b', 'fft_188_b', 'fft_189_b', 'fft_190_b', 'fft_191_b', 'fft_192_b', 'fft_193_b', 'fft_194_b', 'fft_195_b', 'fft_196_b', 'fft_197_b', 'fft_198_b', 'fft_199_b', 'fft_200_b', 'fft_201_b', 'fft_202_b', 'fft_203_b', 'fft_204_b', 'fft_205_b', 'fft_206_b', 'fft_207_b', 'fft_208_b', 'fft_209_b', 'fft_210_b', 'fft_211_b', 'fft_212_b', 'fft_213_b', 'fft_214_b', 'fft_215_b', 'fft_216_b', 'fft_217_b', 'fft_218_b', 'fft_219_b', 'fft_220_b', 'fft_221_b', 'fft_222_b', 'fft_223_b', 'fft_224_b', 'fft_225_b', 'fft_226_b', 'fft_227_b', 'fft_228_b', 'fft_229_b', 'fft_230_b', 'fft_231_b', 'fft_232_b', 'fft_233_b', 'fft_234_b', 'fft_235_b', 'fft_236_b', 'fft_237_b', 'fft_238_b', 'fft_239_b', 'fft_240_b', 'fft_241_b', 'fft_242_b', 'fft_243_b', 'fft_244_b', 'fft_245_b', 'fft_246_b', 'fft_247_b', 'fft_248_b', 'fft_249_b', 'fft_250_b', 'fft_251_b', 'fft_252_b', 'fft_253_b', 'fft_254_b', 'fft_255_b', 'fft_256_b', 'fft_257_b', 'fft_258_b', 'fft_259_b', 'fft_260_b', 'fft_261_b', 'fft_262_b', 'fft_263_b', 'fft_264_b', 'fft_265_b', 'fft_266_b', 'fft_267_b', 'fft_268_b', 'fft_269_b', 'fft_270_b', 'fft_271_b', 'fft_272_b', 'fft_273_b', 'fft_274_b', 'fft_275_b', 'fft_276_b', 'fft_277_b', 'fft_278_b', 'fft_279_b', 'fft_280_b', 'fft_281_b', 'fft_282_b', 'fft_283_b', 'fft_284_b', 'fft_285_b', 'fft_286_b', 'fft_287_b', 'fft_288_b', 'fft_289_b', 'fft_290_b', 'fft_291_b', 'fft_292_b', 'fft_293_b', 'fft_294_b', 'fft_295_b', 'fft_296_b', 'fft_297_b', 'fft_298_b', 'fft_299_b', 'fft_300_b', 'fft_301_b', 'fft_302_b', 'fft_303_b', 'fft_304_b', 'fft_305_b', 'fft_306_b', 'fft_307_b', 'fft_308_b', 'fft_309_b', 'fft_310_b', 'fft_311_b', 'fft_312_b', 'fft_313_b', 'fft_314_b', 'fft_315_b', 'fft_316_b', 'fft_317_b', 'fft_318_b', 'fft_319_b', 'fft_320_b', 'fft_321_b', 'fft_322_b', 'fft_323_b', 'fft_324_b', 'fft_325_b', 'fft_326_b', 'fft_327_b', 'fft_328_b', 'fft_329_b', 'fft_330_b', 'fft_331_b', 'fft_332_b', 'fft_333_b', 'fft_334_b', 'fft_335_b', 'fft_336_b', 'fft_337_b', 'fft_338_b', 'fft_339_b', 'fft_340_b', 'fft_341_b', 'fft_342_b', 'fft_343_b', 'fft_344_b', 'fft_345_b', 'fft_346_b', 'fft_347_b', 'fft_348_b', 'fft_349_b', 'fft_350_b', 'fft_351_b', 'fft_352_b', 'fft_353_b', 'fft_354_b', 'fft_355_b', 'fft_356_b', 'fft_357_b', 'fft_358_b', 'fft_359_b', 'fft_360_b', 'fft_361_b', 'fft_362_b', 'fft_363_b', 'fft_364_b', 'fft_365_b', 'fft_366_b', 'fft_367_b', 'fft_368_b', 'fft_369_b', 'fft_370_b', 'fft_371_b', 'fft_372_b', 'fft_373_b', 'fft_374_b', 'fft_375_b', 'fft_376_b', 'fft_377_b', 'fft_378_b', 'fft_379_b', 'fft_380_b', 'fft_381_b', 'fft_382_b', 'fft_383_b', 'fft_384_b', 'fft_385_b', 'fft_386_b', 'fft_387_b', 'fft_388_b', 'fft_389_b', 'fft_390_b', 'fft_391_b', 'fft_392_b', 'fft_393_b', 'fft_394_b', 'fft_395_b', 'fft_396_b', 'fft_397_b', 'fft_398_b', 'fft_399_b', 'fft_400_b', 'fft_401_b', 'fft_402_b', 'fft_403_b', 'fft_404_b', 'fft_405_b', 'fft_406_b', 'fft_407_b', 'fft_408_b', 'fft_409_b', 'fft_410_b', 'fft_411_b', 'fft_412_b', 'fft_413_b', 'fft_414_b', 'fft_415_b', 'fft_416_b', 'fft_417_b', 'fft_418_b', 'fft_419_b', 'fft_420_b', 'fft_421_b', 'fft_422_b', 'fft_423_b', 'fft_424_b', 'fft_425_b', 'fft_426_b', 'fft_427_b', 'fft_428_b', 'fft_429_b', 'fft_430_b', 'fft_431_b', 'fft_432_b', 'fft_433_b', 'fft_434_b', 'fft_435_b', 'fft_436_b', 'fft_437_b', 'fft_438_b', 'fft_439_b', 'fft_440_b', 'fft_441_b', 'fft_442_b', 'fft_443_b', 'fft_444_b', 'fft_445_b', 'fft_446_b', 'fft_447_b', 'fft_448_b', 'fft_449_b', 'fft_450_b', 'fft_451_b', 'fft_452_b', 'fft_453_b', 'fft_454_b', 'fft_455_b', 'fft_456_b', 'fft_457_b', 'fft_458_b', 'fft_459_b', 'fft_460_b', 'fft_461_b', 'fft_462_b', 'fft_463_b', 'fft_464_b', 'fft_465_b', 'fft_466_b', 'fft_467_b', 'fft_468_b', 'fft_469_b', 'fft_470_b', 'fft_471_b', 'fft_472_b', 'fft_473_b', 'fft_474_b', 'fft_475_b', 'fft_476_b', 'fft_477_b', 'fft_478_b', 'fft_479_b', 'fft_480_b', 'fft_481_b', 'fft_482_b', 'fft_483_b', 'fft_484_b', 'fft_485_b', 'fft_486_b', 'fft_487_b', 'fft_488_b', 'fft_489_b', 'fft_490_b', 'fft_491_b', 'fft_492_b', 'fft_493_b', 'fft_494_b', 'fft_495_b', 'fft_496_b', 'fft_497_b', 'fft_498_b', 'fft_499_b', 'fft_500_b', 'fft_501_b', 'fft_502_b', 'fft_503_b', 'fft_504_b', 'fft_505_b', 'fft_506_b', 'fft_507_b', 'fft_508_b', 'fft_509_b', 'fft_510_b', 'fft_511_b', 'fft_512_b', 'fft_513_b', 'fft_514_b', 'fft_515_b', 'fft_516_b', 'fft_517_b', 'fft_518_b', 'fft_519_b', 'fft_520_b', 'fft_521_b', 'fft_522_b', 'fft_523_b', 'fft_524_b', 'fft_525_b', 'fft_526_b', 'fft_527_b', 'fft_528_b', 'fft_529_b', 'fft_530_b', 'fft_531_b', 'fft_532_b', 'fft_533_b', 'fft_534_b', 'fft_535_b', 'fft_536_b', 'fft_537_b', 'fft_538_b', 'fft_539_b', 'fft_540_b', 'fft_541_b', 'fft_542_b', 'fft_543_b', 'fft_544_b', 'fft_545_b', 'fft_546_b', 'fft_547_b', 'fft_548_b', 'fft_549_b', 'fft_550_b', 'fft_551_b', 'fft_552_b', 'fft_553_b', 'fft_554_b', 'fft_555_b', 'fft_556_b', 'fft_557_b', 'fft_558_b', 'fft_559_b', 'fft_560_b', 'fft_561_b', 'fft_562_b', 'fft_563_b', 'fft_564_b', 'fft_565_b', 'fft_566_b', 'fft_567_b', 'fft_568_b', 'fft_569_b', 'fft_570_b', 'fft_571_b', 'fft_572_b', 'fft_573_b', 'fft_574_b', 'fft_575_b', 'fft_576_b', 'fft_577_b', 'fft_578_b', 'fft_579_b', 'fft_580_b', 'fft_581_b', 'fft_582_b', 'fft_583_b', 'fft_584_b', 'fft_585_b', 'fft_586_b', 'fft_587_b', 'fft_588_b', 'fft_589_b', 'fft_590_b', 'fft_591_b', 'fft_592_b', 'fft_593_b', 'fft_594_b', 'fft_595_b', 'fft_596_b', 'fft_597_b', 'fft_598_b', 'fft_599_b', 'fft_600_b', 'fft_601_b', 'fft_602_b', 'fft_603_b', 'fft_604_b', 'fft_605_b', 'fft_606_b', 'fft_607_b', 'fft_608_b', 'fft_609_b', 'fft_610_b', 'fft_611_b', 'fft_612_b', 'fft_613_b', 'fft_614_b', 'fft_615_b', 'fft_616_b', 'fft_617_b', 'fft_618_b', 'fft_619_b', 'fft_620_b', 'fft_621_b', 'fft_622_b', 'fft_623_b', 'fft_624_b', 'fft_625_b', 'fft_626_b', 'fft_627_b', 'fft_628_b', 'fft_629_b', 'fft_630_b', 'fft_631_b', 'fft_632_b', 'fft_633_b', 'fft_634_b', 'fft_635_b', 'fft_636_b', 'fft_637_b', 'fft_638_b', 'fft_639_b', 'fft_640_b', 'fft_641_b', 'fft_642_b', 'fft_643_b', 'fft_644_b', 'fft_645_b', 'fft_646_b', 'fft_647_b', 'fft_648_b', 'fft_649_b', 'fft_650_b', 'fft_651_b', 'fft_652_b', 'fft_653_b', 'fft_654_b', 'fft_655_b', 'fft_656_b', 'fft_657_b', 'fft_658_b', 'fft_659_b', 'fft_660_b', 'fft_661_b', 'fft_662_b', 'fft_663_b', 'fft_664_b', 'fft_665_b', 'fft_666_b', 'fft_667_b', 'fft_668_b', 'fft_669_b', 'fft_670_b', 'fft_671_b', 'fft_672_b', 'fft_673_b', 'fft_674_b', 'fft_675_b', 'fft_676_b', 'fft_677_b', 'fft_678_b', 'fft_679_b', 'fft_680_b', 'fft_681_b', 'fft_682_b', 'fft_683_b', 'fft_684_b', 'fft_685_b', 'fft_686_b', 'fft_687_b', 'fft_688_b', 'fft_689_b', 'fft_690_b', 'fft_691_b', 'fft_692_b', 'fft_693_b', 'fft_694_b', 'fft_695_b', 'fft_696_b', 'fft_697_b', 'fft_698_b', 'fft_699_b', 'fft_700_b', 'fft_701_b', 'fft_702_b', 'fft_703_b', 'fft_704_b', 'fft_705_b', 'fft_706_b', 'fft_707_b', 'fft_708_b', 'fft_709_b', 'fft_710_b', 'fft_711_b', 'fft_712_b', 'fft_713_b', 'fft_714_b', 'fft_715_b', 'fft_716_b', 'fft_717_b', 'fft_718_b', 'fft_719_b', 'fft_720_b', 'fft_721_b', 'fft_722_b', 'fft_723_b', 'fft_724_b', 'fft_725_b', 'fft_726_b', 'fft_727_b', 'fft_728_b', 'fft_729_b', 'fft_730_b', 'fft_731_b', 'fft_732_b', 'fft_733_b', 'fft_734_b', 'fft_735_b', 'fft_736_b', 'fft_737_b', 'fft_738_b', 'fft_739_b', 'fft_740_b', 'fft_741_b', 'fft_742_b', 'fft_743_b', 'fft_744_b', 'fft_745_b', 'fft_746_b', 'fft_747_b', 'fft_748_b', 'fft_749_b', 'label']\n",
            "First 10 columns: ['# mean_0_a', 'mean_1_a', 'mean_2_a', 'mean_3_a', 'mean_4_a', 'mean_d_0_a', 'mean_d_1_a', 'mean_d_2_a', 'mean_d_3_a', 'mean_d_4_a']\n",
            "Last column: label\n",
            "Label mapping: {'NEGATIVE': 0, 'NEUTRAL': 1, 'POSITIVE': 2}\n",
            "Class NEGATIVE: 708 samples\n",
            "Class NEUTRAL: 716 samples\n",
            "Class POSITIVE: 708 samples\n"
          ]
        }
      ]
    },
    {
      "cell_type": "code",
      "source": [
        "# Define the Model\n",
        "\n",
        "import torch.nn as nn\n",
        "\n",
        "if USE_TSCEPTION:\n",
        "  # ----- simplify TSception（in_channels=1, only temporal kernels）-----\n",
        "  class TinyTSception(nn.Module):\n",
        "    def __init__(self, feat_dim, classes):\n",
        "      super().__init__()\n",
        "      self.conv = nn.Sequential(\n",
        "          nn.Conv2d(1, 16, kernel_size=(1,3), padding=(0,1)),\n",
        "          nn.ReLU(),\n",
        "          nn.Conv2d(16,32, kernel_size=(1,15), padding=(0,7)),\n",
        "          nn.ReLU(),\n",
        "          nn.AdaptiveAvgPool2d((1,1))\n",
        "      )\n",
        "      self.fc = nn.Linear(32, classes)\n",
        "    def forward(self, x):               # x:(B,1,1,feat)\n",
        "      x = self.conv(x).view(x.size(0), -1)\n",
        "      return self.fc(x)\n",
        "  model = TinyTSception(input_dim, num_classes)\n",
        "else:\n",
        "  # ----- MLP Baseline -----\n",
        "  model = nn.Sequential(\n",
        "      nn.Linear(input_dim, 128),\n",
        "      nn.ReLU(),\n",
        "      nn.Dropout(0.2),\n",
        "      nn.Linear(128, num_classes)\n",
        "  )\n",
        "\n",
        "device = torch.device('cuda' if torch.cuda.is_available() else 'cpu')\n",
        "model.to(device)"
      ],
      "metadata": {
        "colab": {
          "base_uri": "https://localhost:8080/"
        },
        "id": "_vOHaBKAYflb",
        "outputId": "2153e695-8612-4983-a1a7-5ffcb5e4cde1"
      },
      "execution_count": 9,
      "outputs": [
        {
          "output_type": "execute_result",
          "data": {
            "text/plain": [
              "TinyTSception(\n",
              "  (conv): Sequential(\n",
              "    (0): Conv2d(1, 16, kernel_size=(1, 3), stride=(1, 1), padding=(0, 1))\n",
              "    (1): ReLU()\n",
              "    (2): Conv2d(16, 32, kernel_size=(1, 15), stride=(1, 1), padding=(0, 7))\n",
              "    (3): ReLU()\n",
              "    (4): AdaptiveAvgPool2d(output_size=(1, 1))\n",
              "  )\n",
              "  (fc): Linear(in_features=32, out_features=3, bias=True)\n",
              ")"
            ]
          },
          "metadata": {},
          "execution_count": 9
        }
      ]
    },
    {
      "cell_type": "code",
      "source": [
        "# Training and Testing the Baseline Model\n",
        "import torch.optim as optim\n",
        "from sklearn.metrics import f1_score, accuracy_score\n",
        "from tqdm import tqdm\n",
        "\n",
        "criterion = nn.CrossEntropyLoss()\n",
        "optimizer = optim.Adam(model.parameters(), lr=1e-3)\n",
        "best_f1 = 0.0\n",
        "EPOCHS  = 50\n",
        "\n",
        "for epoch in range(1, EPOCHS + 1):\n",
        "  # ---- Train ----\n",
        "  model.train()\n",
        "  for xb, yb in tqdm(dl_tr, desc=f\"Epoch {epoch:02d} [train]\"):\n",
        "    xb, yb = xb.to(device), yb.to(device)\n",
        "    optimizer.zero_grad()\n",
        "    loss = criterion(model(xb), yb)\n",
        "    loss.backward()\n",
        "    optimizer.step()\n",
        "\n",
        "  # ---- Validate ----\n",
        "  model.eval()\n",
        "  preds, gold = [], []\n",
        "  with torch.no_grad():\n",
        "    for xb, yb in dl_val:\n",
        "      xb, yb = xb.to(device), yb.to(device)\n",
        "      logits = model(xb)\n",
        "      preds.extend(logits.argmax(1).cpu().numpy())\n",
        "      gold.extend(yb.cpu().numpy())\n",
        "\n",
        "  val_f1  = f1_score(gold, preds, average='macro')\n",
        "  val_acc = accuracy_score(gold, preds)\n",
        "  print(f\"Epoch {epoch:02d}  val_acc={val_acc:.3f}  val_f1={val_f1:.3f}\")\n",
        "\n",
        "  if val_f1 > best_f1:\n",
        "    best_f1 = val_f1\n",
        "    torch.save(model.state_dict(), os.path.join(project_dir, 'best_day2.pth'))\n",
        "    print(\"New best model saved\")"
      ],
      "metadata": {
        "colab": {
          "base_uri": "https://localhost:8080/"
        },
        "id": "0_2ohAIhZTFb",
        "outputId": "b8b7059b-52a4-4aae-f661-b93a1b9b7ee0"
      },
      "execution_count": 10,
      "outputs": [
        {
          "output_type": "stream",
          "name": "stderr",
          "text": [
            "Epoch 01 [train]: 100%|██████████| 27/27 [00:00<00:00, 39.56it/s]\n"
          ]
        },
        {
          "output_type": "stream",
          "name": "stdout",
          "text": [
            "Epoch 01  val_acc=0.499  val_f1=0.410\n",
            "New best model saved\n"
          ]
        },
        {
          "output_type": "stream",
          "name": "stderr",
          "text": [
            "Epoch 02 [train]: 100%|██████████| 27/27 [00:00<00:00, 188.32it/s]\n"
          ]
        },
        {
          "output_type": "stream",
          "name": "stdout",
          "text": [
            "Epoch 02  val_acc=0.778  val_f1=0.754\n",
            "New best model saved\n"
          ]
        },
        {
          "output_type": "stream",
          "name": "stderr",
          "text": [
            "Epoch 03 [train]: 100%|██████████| 27/27 [00:00<00:00, 228.05it/s]\n"
          ]
        },
        {
          "output_type": "stream",
          "name": "stdout",
          "text": [
            "Epoch 03  val_acc=0.808  val_f1=0.799\n",
            "New best model saved\n"
          ]
        },
        {
          "output_type": "stream",
          "name": "stderr",
          "text": [
            "Epoch 04 [train]: 100%|██████████| 27/27 [00:00<00:00, 242.17it/s]\n"
          ]
        },
        {
          "output_type": "stream",
          "name": "stdout",
          "text": [
            "Epoch 04  val_acc=0.843  val_f1=0.844\n",
            "New best model saved\n"
          ]
        },
        {
          "output_type": "stream",
          "name": "stderr",
          "text": [
            "Epoch 05 [train]: 100%|██████████| 27/27 [00:00<00:00, 241.49it/s]\n"
          ]
        },
        {
          "output_type": "stream",
          "name": "stdout",
          "text": [
            "Epoch 05  val_acc=0.864  val_f1=0.865\n",
            "New best model saved\n"
          ]
        },
        {
          "output_type": "stream",
          "name": "stderr",
          "text": [
            "Epoch 06 [train]: 100%|██████████| 27/27 [00:00<00:00, 245.23it/s]\n"
          ]
        },
        {
          "output_type": "stream",
          "name": "stdout",
          "text": [
            "Epoch 06  val_acc=0.885  val_f1=0.883\n",
            "New best model saved\n"
          ]
        },
        {
          "output_type": "stream",
          "name": "stderr",
          "text": [
            "Epoch 07 [train]: 100%|██████████| 27/27 [00:00<00:00, 238.73it/s]\n"
          ]
        },
        {
          "output_type": "stream",
          "name": "stdout",
          "text": [
            "Epoch 07  val_acc=0.888  val_f1=0.887\n",
            "New best model saved\n"
          ]
        },
        {
          "output_type": "stream",
          "name": "stderr",
          "text": [
            "Epoch 08 [train]: 100%|██████████| 27/27 [00:00<00:00, 238.77it/s]\n"
          ]
        },
        {
          "output_type": "stream",
          "name": "stdout",
          "text": [
            "Epoch 08  val_acc=0.892  val_f1=0.892\n",
            "New best model saved\n"
          ]
        },
        {
          "output_type": "stream",
          "name": "stderr",
          "text": [
            "Epoch 09 [train]: 100%|██████████| 27/27 [00:00<00:00, 238.09it/s]\n"
          ]
        },
        {
          "output_type": "stream",
          "name": "stdout",
          "text": [
            "Epoch 09  val_acc=0.892  val_f1=0.892\n",
            "New best model saved\n"
          ]
        },
        {
          "output_type": "stream",
          "name": "stderr",
          "text": [
            "Epoch 10 [train]: 100%|██████████| 27/27 [00:00<00:00, 233.51it/s]\n"
          ]
        },
        {
          "output_type": "stream",
          "name": "stdout",
          "text": [
            "Epoch 10  val_acc=0.892  val_f1=0.892\n"
          ]
        },
        {
          "output_type": "stream",
          "name": "stderr",
          "text": [
            "Epoch 11 [train]: 100%|██████████| 27/27 [00:00<00:00, 233.53it/s]\n"
          ]
        },
        {
          "output_type": "stream",
          "name": "stdout",
          "text": [
            "Epoch 11  val_acc=0.892  val_f1=0.892\n"
          ]
        },
        {
          "output_type": "stream",
          "name": "stderr",
          "text": [
            "Epoch 12 [train]: 100%|██████████| 27/27 [00:00<00:00, 233.58it/s]\n"
          ]
        },
        {
          "output_type": "stream",
          "name": "stdout",
          "text": [
            "Epoch 12  val_acc=0.904  val_f1=0.903\n",
            "New best model saved\n"
          ]
        },
        {
          "output_type": "stream",
          "name": "stderr",
          "text": [
            "Epoch 13 [train]: 100%|██████████| 27/27 [00:00<00:00, 237.63it/s]\n"
          ]
        },
        {
          "output_type": "stream",
          "name": "stdout",
          "text": [
            "Epoch 13  val_acc=0.909  val_f1=0.908\n",
            "New best model saved\n"
          ]
        },
        {
          "output_type": "stream",
          "name": "stderr",
          "text": [
            "Epoch 14 [train]: 100%|██████████| 27/27 [00:00<00:00, 234.49it/s]\n"
          ]
        },
        {
          "output_type": "stream",
          "name": "stdout",
          "text": [
            "Epoch 14  val_acc=0.906  val_f1=0.906\n"
          ]
        },
        {
          "output_type": "stream",
          "name": "stderr",
          "text": [
            "Epoch 15 [train]: 100%|██████████| 27/27 [00:00<00:00, 235.29it/s]\n"
          ]
        },
        {
          "output_type": "stream",
          "name": "stdout",
          "text": [
            "Epoch 15  val_acc=0.899  val_f1=0.899\n"
          ]
        },
        {
          "output_type": "stream",
          "name": "stderr",
          "text": [
            "Epoch 16 [train]: 100%|██████████| 27/27 [00:00<00:00, 234.49it/s]\n"
          ]
        },
        {
          "output_type": "stream",
          "name": "stdout",
          "text": [
            "Epoch 16  val_acc=0.909  val_f1=0.908\n"
          ]
        },
        {
          "output_type": "stream",
          "name": "stderr",
          "text": [
            "Epoch 17 [train]: 100%|██████████| 27/27 [00:00<00:00, 235.83it/s]\n"
          ]
        },
        {
          "output_type": "stream",
          "name": "stdout",
          "text": [
            "Epoch 17  val_acc=0.897  val_f1=0.897\n"
          ]
        },
        {
          "output_type": "stream",
          "name": "stderr",
          "text": [
            "Epoch 18 [train]: 100%|██████████| 27/27 [00:00<00:00, 230.98it/s]\n"
          ]
        },
        {
          "output_type": "stream",
          "name": "stdout",
          "text": [
            "Epoch 18  val_acc=0.892  val_f1=0.892\n"
          ]
        },
        {
          "output_type": "stream",
          "name": "stderr",
          "text": [
            "Epoch 19 [train]: 100%|██████████| 27/27 [00:00<00:00, 229.38it/s]\n"
          ]
        },
        {
          "output_type": "stream",
          "name": "stdout",
          "text": [
            "Epoch 19  val_acc=0.906  val_f1=0.906\n"
          ]
        },
        {
          "output_type": "stream",
          "name": "stderr",
          "text": [
            "Epoch 20 [train]: 100%|██████████| 27/27 [00:00<00:00, 234.89it/s]\n"
          ]
        },
        {
          "output_type": "stream",
          "name": "stdout",
          "text": [
            "Epoch 20  val_acc=0.906  val_f1=0.906\n"
          ]
        },
        {
          "output_type": "stream",
          "name": "stderr",
          "text": [
            "Epoch 21 [train]: 100%|██████████| 27/27 [00:00<00:00, 227.00it/s]\n"
          ]
        },
        {
          "output_type": "stream",
          "name": "stdout",
          "text": [
            "Epoch 21  val_acc=0.906  val_f1=0.906\n"
          ]
        },
        {
          "output_type": "stream",
          "name": "stderr",
          "text": [
            "Epoch 22 [train]: 100%|██████████| 27/27 [00:00<00:00, 238.12it/s]\n"
          ]
        },
        {
          "output_type": "stream",
          "name": "stdout",
          "text": [
            "Epoch 22  val_acc=0.906  val_f1=0.906\n"
          ]
        },
        {
          "output_type": "stream",
          "name": "stderr",
          "text": [
            "Epoch 23 [train]: 100%|██████████| 27/27 [00:00<00:00, 236.80it/s]\n"
          ]
        },
        {
          "output_type": "stream",
          "name": "stdout",
          "text": [
            "Epoch 23  val_acc=0.909  val_f1=0.908\n",
            "New best model saved\n"
          ]
        },
        {
          "output_type": "stream",
          "name": "stderr",
          "text": [
            "Epoch 24 [train]: 100%|██████████| 27/27 [00:00<00:00, 231.19it/s]\n"
          ]
        },
        {
          "output_type": "stream",
          "name": "stdout",
          "text": [
            "Epoch 24  val_acc=0.906  val_f1=0.906\n"
          ]
        },
        {
          "output_type": "stream",
          "name": "stderr",
          "text": [
            "Epoch 25 [train]: 100%|██████████| 27/27 [00:00<00:00, 224.95it/s]\n"
          ]
        },
        {
          "output_type": "stream",
          "name": "stdout",
          "text": [
            "Epoch 25  val_acc=0.911  val_f1=0.910\n",
            "New best model saved\n"
          ]
        },
        {
          "output_type": "stream",
          "name": "stderr",
          "text": [
            "Epoch 26 [train]: 100%|██████████| 27/27 [00:00<00:00, 231.66it/s]\n"
          ]
        },
        {
          "output_type": "stream",
          "name": "stdout",
          "text": [
            "Epoch 26  val_acc=0.909  val_f1=0.908\n"
          ]
        },
        {
          "output_type": "stream",
          "name": "stderr",
          "text": [
            "Epoch 27 [train]: 100%|██████████| 27/27 [00:00<00:00, 229.03it/s]\n"
          ]
        },
        {
          "output_type": "stream",
          "name": "stdout",
          "text": [
            "Epoch 27  val_acc=0.911  val_f1=0.910\n",
            "New best model saved\n"
          ]
        },
        {
          "output_type": "stream",
          "name": "stderr",
          "text": [
            "Epoch 28 [train]: 100%|██████████| 27/27 [00:00<00:00, 230.68it/s]\n"
          ]
        },
        {
          "output_type": "stream",
          "name": "stdout",
          "text": [
            "Epoch 28  val_acc=0.911  val_f1=0.910\n"
          ]
        },
        {
          "output_type": "stream",
          "name": "stderr",
          "text": [
            "Epoch 29 [train]: 100%|██████████| 27/27 [00:00<00:00, 231.46it/s]\n"
          ]
        },
        {
          "output_type": "stream",
          "name": "stdout",
          "text": [
            "Epoch 29  val_acc=0.892  val_f1=0.892\n"
          ]
        },
        {
          "output_type": "stream",
          "name": "stderr",
          "text": [
            "Epoch 30 [train]: 100%|██████████| 27/27 [00:00<00:00, 233.76it/s]\n"
          ]
        },
        {
          "output_type": "stream",
          "name": "stdout",
          "text": [
            "Epoch 30  val_acc=0.916  val_f1=0.914\n",
            "New best model saved\n"
          ]
        },
        {
          "output_type": "stream",
          "name": "stderr",
          "text": [
            "Epoch 31 [train]: 100%|██████████| 27/27 [00:00<00:00, 235.04it/s]\n"
          ]
        },
        {
          "output_type": "stream",
          "name": "stdout",
          "text": [
            "Epoch 31  val_acc=0.881  val_f1=0.881\n"
          ]
        },
        {
          "output_type": "stream",
          "name": "stderr",
          "text": [
            "Epoch 32 [train]: 100%|██████████| 27/27 [00:00<00:00, 229.25it/s]\n"
          ]
        },
        {
          "output_type": "stream",
          "name": "stdout",
          "text": [
            "Epoch 32  val_acc=0.913  val_f1=0.913\n"
          ]
        },
        {
          "output_type": "stream",
          "name": "stderr",
          "text": [
            "Epoch 33 [train]: 100%|██████████| 27/27 [00:00<00:00, 234.30it/s]\n"
          ]
        },
        {
          "output_type": "stream",
          "name": "stdout",
          "text": [
            "Epoch 33  val_acc=0.918  val_f1=0.917\n",
            "New best model saved\n"
          ]
        },
        {
          "output_type": "stream",
          "name": "stderr",
          "text": [
            "Epoch 34 [train]: 100%|██████████| 27/27 [00:00<00:00, 233.42it/s]\n"
          ]
        },
        {
          "output_type": "stream",
          "name": "stdout",
          "text": [
            "Epoch 34  val_acc=0.918  val_f1=0.917\n"
          ]
        },
        {
          "output_type": "stream",
          "name": "stderr",
          "text": [
            "Epoch 35 [train]: 100%|██████████| 27/27 [00:00<00:00, 220.33it/s]\n"
          ]
        },
        {
          "output_type": "stream",
          "name": "stdout",
          "text": [
            "Epoch 35  val_acc=0.876  val_f1=0.876\n"
          ]
        },
        {
          "output_type": "stream",
          "name": "stderr",
          "text": [
            "Epoch 36 [train]: 100%|██████████| 27/27 [00:00<00:00, 227.18it/s]\n"
          ]
        },
        {
          "output_type": "stream",
          "name": "stdout",
          "text": [
            "Epoch 36  val_acc=0.899  val_f1=0.899\n"
          ]
        },
        {
          "output_type": "stream",
          "name": "stderr",
          "text": [
            "Epoch 37 [train]: 100%|██████████| 27/27 [00:00<00:00, 223.11it/s]\n"
          ]
        },
        {
          "output_type": "stream",
          "name": "stdout",
          "text": [
            "Epoch 37  val_acc=0.925  val_f1=0.924\n",
            "New best model saved\n"
          ]
        },
        {
          "output_type": "stream",
          "name": "stderr",
          "text": [
            "Epoch 38 [train]: 100%|██████████| 27/27 [00:00<00:00, 227.46it/s]\n"
          ]
        },
        {
          "output_type": "stream",
          "name": "stdout",
          "text": [
            "Epoch 38  val_acc=0.923  val_f1=0.922\n"
          ]
        },
        {
          "output_type": "stream",
          "name": "stderr",
          "text": [
            "Epoch 39 [train]: 100%|██████████| 27/27 [00:00<00:00, 222.71it/s]\n"
          ]
        },
        {
          "output_type": "stream",
          "name": "stdout",
          "text": [
            "Epoch 39  val_acc=0.920  val_f1=0.920\n"
          ]
        },
        {
          "output_type": "stream",
          "name": "stderr",
          "text": [
            "Epoch 40 [train]: 100%|██████████| 27/27 [00:00<00:00, 234.84it/s]\n"
          ]
        },
        {
          "output_type": "stream",
          "name": "stdout",
          "text": [
            "Epoch 40  val_acc=0.920  val_f1=0.920\n"
          ]
        },
        {
          "output_type": "stream",
          "name": "stderr",
          "text": [
            "Epoch 41 [train]: 100%|██████████| 27/27 [00:00<00:00, 234.37it/s]\n"
          ]
        },
        {
          "output_type": "stream",
          "name": "stdout",
          "text": [
            "Epoch 41  val_acc=0.923  val_f1=0.922\n"
          ]
        },
        {
          "output_type": "stream",
          "name": "stderr",
          "text": [
            "Epoch 42 [train]: 100%|██████████| 27/27 [00:00<00:00, 234.99it/s]\n"
          ]
        },
        {
          "output_type": "stream",
          "name": "stdout",
          "text": [
            "Epoch 42  val_acc=0.923  val_f1=0.922\n"
          ]
        },
        {
          "output_type": "stream",
          "name": "stderr",
          "text": [
            "Epoch 43 [train]: 100%|██████████| 27/27 [00:00<00:00, 235.86it/s]\n"
          ]
        },
        {
          "output_type": "stream",
          "name": "stdout",
          "text": [
            "Epoch 43  val_acc=0.923  val_f1=0.922\n"
          ]
        },
        {
          "output_type": "stream",
          "name": "stderr",
          "text": [
            "Epoch 44 [train]: 100%|██████████| 27/27 [00:00<00:00, 232.35it/s]\n"
          ]
        },
        {
          "output_type": "stream",
          "name": "stdout",
          "text": [
            "Epoch 44  val_acc=0.918  val_f1=0.917\n"
          ]
        },
        {
          "output_type": "stream",
          "name": "stderr",
          "text": [
            "Epoch 45 [train]: 100%|██████████| 27/27 [00:00<00:00, 231.56it/s]\n"
          ]
        },
        {
          "output_type": "stream",
          "name": "stdout",
          "text": [
            "Epoch 45  val_acc=0.923  val_f1=0.922\n"
          ]
        },
        {
          "output_type": "stream",
          "name": "stderr",
          "text": [
            "Epoch 46 [train]: 100%|██████████| 27/27 [00:00<00:00, 231.69it/s]\n"
          ]
        },
        {
          "output_type": "stream",
          "name": "stdout",
          "text": [
            "Epoch 46  val_acc=0.918  val_f1=0.917\n"
          ]
        },
        {
          "output_type": "stream",
          "name": "stderr",
          "text": [
            "Epoch 47 [train]: 100%|██████████| 27/27 [00:00<00:00, 229.96it/s]\n"
          ]
        },
        {
          "output_type": "stream",
          "name": "stdout",
          "text": [
            "Epoch 47  val_acc=0.911  val_f1=0.911\n"
          ]
        },
        {
          "output_type": "stream",
          "name": "stderr",
          "text": [
            "Epoch 48 [train]: 100%|██████████| 27/27 [00:00<00:00, 234.89it/s]\n"
          ]
        },
        {
          "output_type": "stream",
          "name": "stdout",
          "text": [
            "Epoch 48  val_acc=0.923  val_f1=0.922\n"
          ]
        },
        {
          "output_type": "stream",
          "name": "stderr",
          "text": [
            "Epoch 49 [train]: 100%|██████████| 27/27 [00:00<00:00, 234.15it/s]\n"
          ]
        },
        {
          "output_type": "stream",
          "name": "stdout",
          "text": [
            "Epoch 49  val_acc=0.923  val_f1=0.922\n"
          ]
        },
        {
          "output_type": "stream",
          "name": "stderr",
          "text": [
            "Epoch 50 [train]: 100%|██████████| 27/27 [00:00<00:00, 234.38it/s]"
          ]
        },
        {
          "output_type": "stream",
          "name": "stdout",
          "text": [
            "Epoch 50  val_acc=0.918  val_f1=0.918\n"
          ]
        },
        {
          "output_type": "stream",
          "name": "stderr",
          "text": [
            "\n"
          ]
        }
      ]
    },
    {
      "cell_type": "markdown",
      "source": [
        "# Utils"
      ],
      "metadata": {
        "id": "77-DYY0xa1I5"
      }
    },
    {
      "cell_type": "code",
      "source": [
        "# -*- coding: utf-8 -*-\n",
        "\"\"\"\n",
        "utils.py - Utility functions for EEG emotion recognition\n",
        "Enhanced for the goal with early stopping, visualization and filtering utilities\n",
        "\"\"\"\n",
        "\n",
        "import os\n",
        "import time\n",
        "import pprint\n",
        "import numpy as np\n",
        "import torch\n",
        "import matplotlib.pyplot as plt\n",
        "from sklearn.metrics import confusion_matrix, accuracy_score, f1_score, ConfusionMatrixDisplay\n",
        "from scipy import signal\n",
        "\n",
        "# Basic utilities\n",
        "def set_gpu(x):\n",
        "    \"\"\"Set specific GPU to use\"\"\"\n",
        "    torch.set_num_threads(1)\n",
        "    os.environ[\"CUDA_DEVICE_ORDER\"] = \"PCI_BUS_ID\"\n",
        "    os.environ['CUDA_VISIBLE_DEVICES'] = x\n",
        "    print('using gpu:', x)\n",
        "\n",
        "def seed_all(seed):\n",
        "    \"\"\"Set random seeds for reproducibility\"\"\"\n",
        "    torch.manual_seed(seed)\n",
        "    torch.backends.cudnn.deterministic = True\n",
        "    np.random.seed(seed)\n",
        "\n",
        "def ensure_path(path):\n",
        "    \"\"\"Create directory if it doesn't exist\"\"\"\n",
        "    if os.path.exists(path):\n",
        "        pass\n",
        "    else:\n",
        "        os.makedirs(path)\n",
        "\n",
        "class Averager():\n",
        "    \"\"\"Simple averaging class for tracking metrics\"\"\"\n",
        "    def __init__(self):\n",
        "        self.n = 0\n",
        "        self.v = 0\n",
        "\n",
        "    def add(self, x):\n",
        "        self.v = (self.v * self.n + x) / (self.n + 1)\n",
        "        self.n += 1\n",
        "\n",
        "    def item(self):\n",
        "        return self.v\n",
        "\n",
        "def count_acc(logits, label):\n",
        "    \"\"\"Calculate accuracy from logits\"\"\"\n",
        "    pred = torch.argmax(logits, dim=1)\n",
        "    return (pred == label).type(torch.cuda.FloatTensor).mean().item()\n",
        "\n",
        "class Timer():\n",
        "    \"\"\"Simple timer for tracking execution time\"\"\"\n",
        "    def __init__(self):\n",
        "        self.o = time.time()\n",
        "\n",
        "    def measure(self, p=1):\n",
        "        x = (time.time() - self.o) / p\n",
        "        x = int(x)\n",
        "        if x >= 3600:\n",
        "            return '{:.1f}h'.format(x / 3600)\n",
        "        if x >= 60:\n",
        "            return '{}m'.format(round(x / 60))\n",
        "        return '{}s'.format(x)\n",
        "\n",
        "_utils_pp = pprint.PrettyPrinter()\n",
        "def pprint(x):\n",
        "    _utils_pp.pprint(x)\n",
        "\n",
        "def get_model(args):\n",
        "    \"\"\"Get model based on arguments\"\"\"\n",
        "    from networks import TSception\n",
        "\n",
        "    if args.model == 'TSception':\n",
        "        model = TSception(\n",
        "            num_classes=args.num_class, input_size=args.input_shape,\n",
        "            sampling_rate=args.sampling_rate, num_T=args.T, num_S=args.T,\n",
        "            hidden=args.hidden, dropout_rate=args.dropout)\n",
        "    return model\n",
        "\n",
        "def get_dataloader(data, label, batch_size, shuffle=True):\n",
        "    \"\"\"Create DataLoader from data and labels\"\"\"\n",
        "    from torch.utils.data import DataLoader, TensorDataset\n",
        "\n",
        "    # Create PyTorch dataset from NumPy arrays\n",
        "    if isinstance(data, np.ndarray):\n",
        "        data = torch.from_numpy(data).float()\n",
        "    if isinstance(label, np.ndarray):\n",
        "        label = torch.from_numpy(label).long()\n",
        "\n",
        "    dataset = TensorDataset(data, label)\n",
        "    loader = DataLoader(dataset=dataset, batch_size=batch_size, shuffle=shuffle, pin_memory=True)\n",
        "    return loader\n",
        "\n",
        "def get_metrics(y_pred, y_true, classes=None):\n",
        "    \"\"\"Calculate accuracy, F1 score and confusion matrix\"\"\"\n",
        "    acc = accuracy_score(y_true, y_pred)\n",
        "    f1 = f1_score(y_true, y_pred, average='macro')\n",
        "    if classes is not None:\n",
        "        cm = confusion_matrix(y_true, y_pred, labels=classes)\n",
        "    else:\n",
        "        cm = confusion_matrix(y_true, y_pred)\n",
        "    return acc, f1, cm\n",
        "\n",
        "def get_trainable_parameter_num(model):\n",
        "    \"\"\"Count trainable parameters in model\"\"\"\n",
        "    total_params = sum(p.numel() for p in model.parameters() if p.requires_grad)\n",
        "    return total_params\n",
        "\n",
        "def L1Loss(model, Lambda):\n",
        "    \"\"\"Calculate L1 regularization loss\"\"\"\n",
        "    w = torch.cat([x.view(-1) for x in model.parameters()])\n",
        "    err = Lambda * torch.sum(torch.abs(w))\n",
        "    return err\n",
        "\n",
        "def generate_TS_channel_order(original_order: list):\n",
        "    \"\"\"\n",
        "    Generate the channel order for TSception\n",
        "\n",
        "    Parameters\n",
        "    ----------\n",
        "    original_order: list of the channel names\n",
        "\n",
        "    Returns\n",
        "    -------\n",
        "    TS: list of channel names which is for TSception\n",
        "    \"\"\"\n",
        "    chan_name, chan_num, chan_final = [], [], []\n",
        "    for channel in original_order:\n",
        "        chan_name_len = len(channel)\n",
        "        k = 0\n",
        "        for s in [*channel[:]]:\n",
        "            if s.isdigit():\n",
        "               k += 1\n",
        "        if k != 0:\n",
        "            chan_name.append(channel[:chan_name_len-k])\n",
        "            chan_num.append(int(channel[chan_name_len-k:]))\n",
        "            chan_final.append(channel)\n",
        "    chan_pair = []\n",
        "    for ch, id in enumerate(chan_num):\n",
        "        if id % 2 == 0:\n",
        "            chan_pair.append(chan_name[ch] + str(id-1))\n",
        "        else:\n",
        "            chan_pair.append(chan_name[ch] + str(id+1))\n",
        "    chan_no_duplicate = []\n",
        "    [chan_no_duplicate.extend([f, chan_pair[i]]) for i, f in enumerate(chan_final) if f not in chan_no_duplicate]\n",
        "    return chan_no_duplicate[0::2] + chan_no_duplicate[1::2]"
      ],
      "metadata": {
        "id": "bDRVfW3gas_T"
      },
      "execution_count": 11,
      "outputs": []
    },
    {
      "cell_type": "code",
      "source": [
        "# ----- New functions for optimizing model -----\n",
        "\n",
        "def plot_training_curves(history, save_path=None):\n",
        "    \"\"\"\n",
        "    Plot training and validation curves\n",
        "\n",
        "    Parameters:\n",
        "    - history: Dictionary with training history\n",
        "        Required keys: ['train_loss', 'val_loss', 'val_f1', 'val_acc']\n",
        "    - save_path: Path to save the figure (if None, don't save)\n",
        "    \"\"\"\n",
        "    plt.figure(figsize=(15, 5))\n",
        "\n",
        "    # Plot training & validation loss\n",
        "    plt.subplot(1, 3, 1)\n",
        "    plt.plot(history['train_loss'], label='Train')\n",
        "    plt.plot(history['val_loss'], label='Validation')\n",
        "    plt.title('Loss')\n",
        "    plt.xlabel('Epoch')\n",
        "    plt.ylabel('Loss')\n",
        "    plt.legend()\n",
        "\n",
        "    # Plot validation F1\n",
        "    plt.subplot(1, 3, 2)\n",
        "    plt.plot(history['val_f1'], label='F1')\n",
        "    plt.title('Validation F1 Score')\n",
        "    plt.xlabel('Epoch')\n",
        "    plt.ylabel('F1 Score')\n",
        "\n",
        "    # Plot validation accuracy\n",
        "    plt.subplot(1, 3, 3)\n",
        "    plt.plot(history['val_acc'], label='Accuracy')\n",
        "    plt.title('Validation Accuracy')\n",
        "    plt.xlabel('Epoch')\n",
        "    plt.ylabel('Accuracy')\n",
        "\n",
        "    plt.tight_layout()\n",
        "\n",
        "    if save_path:\n",
        "        plt.savefig(save_path)\n",
        "        print(f\"Training curves saved to {save_path}\")\n",
        "\n",
        "    plt.show()\n",
        "\n",
        "def plot_confusion_matrix(cm, class_names, save_path=None):\n",
        "    \"\"\"\n",
        "    Plot confusion matrix\n",
        "\n",
        "    Parameters:\n",
        "    - cm: Confusion matrix (from sklearn.metrics.confusion_matrix)\n",
        "    - class_names: List of class names\n",
        "    - save_path: Path to save the figure (if None, don't save)\n",
        "    \"\"\"\n",
        "    plt.figure(figsize=(8, 6))\n",
        "\n",
        "    disp = ConfusionMatrixDisplay(confusion_matrix=cm, display_labels=class_names)\n",
        "    disp.plot(cmap='Blues', values_format='.2f')\n",
        "\n",
        "    plt.title('Confusion Matrix')\n",
        "    plt.tight_layout()\n",
        "\n",
        "    if save_path:\n",
        "        plt.savefig(save_path)\n",
        "        print(f\"Confusion matrix saved to {save_path}\")\n",
        "\n",
        "    plt.show()\n",
        "\n",
        "def filter_frequency_bands(X, bands_to_keep=None, sampling_rate=128):\n",
        "    \"\"\"\n",
        "    Filter EEG data into specific frequency bands\n",
        "\n",
        "    Parameters:\n",
        "    - X: EEG data (samples x features)\n",
        "    - bands_to_keep: List of frequency bands to keep ('delta', 'theta', 'alpha', 'beta', 'gamma')\n",
        "    - sampling_rate: Sampling rate of EEG data\n",
        "\n",
        "    Returns:\n",
        "    - X_filtered: Filtered data\n",
        "    \"\"\"\n",
        "    # Default bands to keep\n",
        "    if bands_to_keep is None:\n",
        "        bands_to_keep = ['alpha', 'beta', 'theta']  # Most relevant for emotion\n",
        "\n",
        "    # Define frequency bands\n",
        "    bands = {\n",
        "        'delta': (1, 4),    # Delta waves: 1-4 Hz (deep sleep)\n",
        "        'theta': (4, 8),    # Theta waves: 4-8 Hz (drowsiness, meditation)\n",
        "        'alpha': (8, 13),   # Alpha waves: 8-13 Hz (relaxed awareness)\n",
        "        'beta': (13, 30),   # Beta waves: 13-30 Hz (active thinking)\n",
        "        'gamma': (30, 45)   # Gamma waves: >30 Hz (cognitive processing)\n",
        "    }\n",
        "\n",
        "    # Create a copy to avoid modifying original data\n",
        "    X_filtered = np.zeros_like(X)\n",
        "\n",
        "    for feature_idx in range(X.shape[1]):\n",
        "        feature_included = False\n",
        "\n",
        "        # Check if this feature might be part of a selected band\n",
        "        for band in bands_to_keep:\n",
        "            # Simple heuristic for our dataset - this is just a placeholder\n",
        "            if band in ['alpha', 'beta'] and feature_idx % 3 == 0:\n",
        "                X_filtered[:, feature_idx] = X[:, feature_idx] * 1.2  # Emphasize\n",
        "                feature_included = True\n",
        "            elif band in ['theta'] and feature_idx % 5 == 0:\n",
        "                X_filtered[:, feature_idx] = X[:, feature_idx] * 1.1  # Slightly emphasize\n",
        "                feature_included = True\n",
        "\n",
        "        # Include other features with less emphasis\n",
        "        if not feature_included:\n",
        "            X_filtered[:, feature_idx] = X[:, feature_idx] * 0.8  # De-emphasize\n",
        "\n",
        "    return X_filtered\n",
        "\n",
        "def apply_bandpass_filter(X, low_freq, high_freq, sampling_rate=128, order=4):\n",
        "    \"\"\"\n",
        "    Apply Butterworth bandpass filter to EEG data\n",
        "\n",
        "    Parameters:\n",
        "    - X: EEG data (time series)\n",
        "    - low_freq: Lower cutoff frequency\n",
        "    - high_freq: Upper cutoff frequency\n",
        "    - sampling_rate: Sampling rate of EEG data\n",
        "    - order: Filter order\n",
        "\n",
        "    Returns:\n",
        "    - X_filtered: Filtered data\n",
        "    \"\"\"\n",
        "    nyquist = 0.5 * sampling_rate\n",
        "    low = low_freq / nyquist\n",
        "    high = high_freq / nyquist\n",
        "\n",
        "    # Design Butterworth bandpass filter\n",
        "    b, a = signal.butter(order, [low, high], btype='band')\n",
        "\n",
        "    # Apply filter\n",
        "    X_filtered = signal.filtfilt(b, a, X, axis=0)\n",
        "\n",
        "    return X_filtered\n",
        "\n",
        "class EarlyStopping:\n",
        "    \"\"\"\n",
        "    Early stopping to terminate training when validation loss doesn't improve\n",
        "\n",
        "    Parameters:\n",
        "    - patience: Number of epochs to wait after last improvement\n",
        "    - verbose: Whether to print messages\n",
        "    - delta: Minimum change to qualify as improvement\n",
        "    - path: Path to save the checkpoint\n",
        "    - trace_func: Function to print messages\n",
        "    \"\"\"\n",
        "    def __init__(self, patience=5, verbose=True, delta=0, path='checkpoint.pt', trace_func=print):\n",
        "        self.patience = patience\n",
        "        self.verbose = verbose\n",
        "        self.counter = 0\n",
        "        self.best_score = None\n",
        "        self.early_stop = False\n",
        "        self.val_loss_min = np.inf\n",
        "        self.delta = delta\n",
        "        self.path = path\n",
        "        self.trace_func = trace_func\n",
        "\n",
        "    def __call__(self, val_loss, model):\n",
        "        score = -val_loss\n",
        "\n",
        "        if self.best_score is None:\n",
        "            self.best_score = score\n",
        "            self.save_checkpoint(val_loss, model)\n",
        "        elif score < self.best_score + self.delta:\n",
        "            self.counter += 1\n",
        "            if self.verbose:\n",
        "                self.trace_func(f'EarlyStopping counter: {self.counter} out of {self.patience}')\n",
        "            if self.counter >= self.patience:\n",
        "                self.early_stop = True\n",
        "        else:\n",
        "            self.best_score = score\n",
        "            self.save_checkpoint(val_loss, model)\n",
        "            self.counter = 0\n",
        "\n",
        "    def save_checkpoint(self, val_loss, model):\n",
        "        \"\"\"Save model when validation loss decreases\"\"\"\n",
        "        if self.verbose:\n",
        "            self.trace_func(f'Validation loss decreased ({self.val_loss_min:.6f} --> {val_loss:.6f}). Saving model...')\n",
        "        torch.save(model.state_dict(), self.path)\n",
        "        self.val_loss_min = val_loss\n",
        "\n",
        "def visualize_attention_weights(attention_weights, channel_names=None, save_path=None):\n",
        "    \"\"\"\n",
        "    Visualize channel attention weights\n",
        "\n",
        "    Parameters:\n",
        "    - attention_weights: Attention weights for each channel\n",
        "    - channel_names: List of channel names (if None, uses indices)\n",
        "    - save_path: Path to save the figure (if None, don't save)\n",
        "    \"\"\"\n",
        "    plt.figure(figsize=(10, 6))\n",
        "\n",
        "    # If channel names not provided, use indices\n",
        "    if channel_names is None:\n",
        "        channel_names = [f'Ch{i+1}' for i in range(len(attention_weights))]\n",
        "\n",
        "    # Plot attention weights\n",
        "    plt.bar(channel_names, attention_weights)\n",
        "    plt.title('Channel Attention Weights')\n",
        "    plt.xlabel('Channel')\n",
        "    plt.ylabel('Weight')\n",
        "    plt.xticks(rotation=45)\n",
        "    plt.tight_layout()\n",
        "\n",
        "    if save_path:\n",
        "        plt.savefig(save_path)\n",
        "        print(f\"Attention weights visualization saved to {save_path}\")\n",
        "\n",
        "    plt.show()\n",
        "\n",
        "def compare_band_performance(band_results, save_path=None):\n",
        "    \"\"\"\n",
        "    Compare performance across different frequency bands\n",
        "\n",
        "    Parameters:\n",
        "    - band_results: Dictionary mapping band combinations to performance metrics\n",
        "      e.g., {'alpha': 0.75, 'alpha+beta': 0.82, ...}\n",
        "    - save_path: Path to save the figure (if None, don't save)\n",
        "    \"\"\"\n",
        "    bands = list(band_results.keys())\n",
        "    accuracies = list(band_results.values())\n",
        "\n",
        "    plt.figure(figsize=(10, 6))\n",
        "    plt.bar(bands, accuracies)\n",
        "    plt.title('Performance by Frequency Band Combination')\n",
        "    plt.xlabel('Frequency Bands')\n",
        "    plt.ylabel('Accuracy')\n",
        "    plt.ylim(0, 1.0)\n",
        "    plt.xticks(rotation=45)\n",
        "    plt.tight_layout()\n",
        "\n",
        "    if save_path:\n",
        "        plt.savefig(save_path)\n",
        "        print(f\"Band performance comparison saved to {save_path}\")\n",
        "\n",
        "    plt.show()\n",
        "\n",
        "# Example usage\n",
        "if __name__==\"__main__\":\n",
        "    # Example of using generate_TS_channel_order()\n",
        "    original_order = ['Fp1', 'AF3', 'F3', 'F7', 'FC5', 'FC1', 'C3', 'T7', 'CP5', 'CP1', 'P3', 'P7', 'PO3',\n",
        "                     'O1', 'Oz', 'Pz', 'Fp2', 'AF4', 'Fz', 'F4', 'F8', 'FC6', 'FC2', 'Cz', 'C4', 'T8', 'CP6',\n",
        "                     'CP2', 'P4', 'P8', 'PO4', 'O2']\n",
        "    TS = generate_TS_channel_order(original_order)\n",
        "    print('done')\n",
        "\n",
        "    # Example of early stopping\n",
        "    early_stopping = EarlyStopping(patience=5, verbose=True)\n",
        "    # In training loop: early_stopping(val_loss, model)"
      ],
      "metadata": {
        "colab": {
          "base_uri": "https://localhost:8080/"
        },
        "id": "vPZIiPBxbnmh",
        "outputId": "3424964c-f003-4b06-e560-14937ed07793"
      },
      "execution_count": 12,
      "outputs": [
        {
          "output_type": "stream",
          "name": "stdout",
          "text": [
            "done\n"
          ]
        }
      ]
    },
    {
      "cell_type": "markdown",
      "source": [
        "# train"
      ],
      "metadata": {
        "id": "U6zdSkJkbtTV"
      }
    },
    {
      "cell_type": "code",
      "source": [
        "!pip install nbimporter\n",
        "import nbimporter\n",
        "\n",
        "import os\n",
        "import numpy as np\n",
        "import torch\n",
        "import torch.nn as nn\n",
        "import torch.optim as optim\n",
        "from torch.utils.data import TensorDataset, DataLoader\n",
        "from sklearn.model_selection import train_test_split\n",
        "from sklearn.metrics import f1_score, accuracy_score, confusion_matrix\n",
        "import matplotlib.pyplot as plt\n",
        "from tqdm import tqdm"
      ],
      "metadata": {
        "colab": {
          "base_uri": "https://localhost:8080/"
        },
        "id": "IxF11F8abskN",
        "outputId": "20c0ada8-365f-43f9-8552-7f402744949d"
      },
      "execution_count": 13,
      "outputs": [
        {
          "output_type": "stream",
          "name": "stdout",
          "text": [
            "Requirement already satisfied: nbimporter in /usr/local/lib/python3.11/dist-packages (0.3.4)\n"
          ]
        }
      ]
    },
    {
      "cell_type": "code",
      "source": [
        "# Check for GPU availability\n",
        "device = torch.device('cuda' if torch.cuda.is_available() else 'cpu')\n",
        "print(f\"Using device: {device}\")\n",
        "\n",
        "# Configuration parameters\n",
        "# project_dir = '/content/drive/MyDrive/eeeg_emotion_detect_project'\n",
        "CSV_PATH = os.path.join(project_dir, 'emotions.csv')\n",
        "BATCH_SIZE = 64\n",
        "LEARNING_RATE = 1e-3\n",
        "EPOCHS = 50\n",
        "PATIENCE = 5  # Early stopping patience parameter\n",
        "RANDOM_SEED = 42\n",
        "USE_FILTERED_BANDS = True  # Use frequency band filtering"
      ],
      "metadata": {
        "colab": {
          "base_uri": "https://localhost:8080/"
        },
        "id": "c504AoaLcNpQ",
        "outputId": "32b4b915-5583-45bb-b3af-5b0bce3c9194"
      },
      "execution_count": 14,
      "outputs": [
        {
          "output_type": "stream",
          "name": "stdout",
          "text": [
            "Using device: cuda\n"
          ]
        }
      ]
    },
    {
      "cell_type": "code",
      "source": [
        "# ----- Define TinyTSception model with channel attention -----\n",
        "class TinyTSception(nn.Module):\n",
        "   def __init__(self, feat_dim, classes):\n",
        "       super().__init__()\n",
        "       self.conv = nn.Sequential(\n",
        "           nn.Conv2d(1, 16, kernel_size=(1,3), padding=(0,1)),\n",
        "           nn.ReLU(),\n",
        "           nn.Conv2d(16,32, kernel_size=(1,15), padding=(0,7)),\n",
        "           nn.ReLU(),\n",
        "           nn.AdaptiveAvgPool2d((1,1))\n",
        "       )\n",
        "\n",
        "       # Channel attention mechanism\n",
        "       self.attention = nn.Sequential(\n",
        "           nn.Linear(32, 16),\n",
        "           nn.ReLU(),\n",
        "           nn.Linear(16, 32),\n",
        "           nn.Sigmoid()\n",
        "       )\n",
        "\n",
        "       self.fc = nn.Linear(32, classes)\n",
        "\n",
        "   def forward(self, x):  # x:(B,1,1,feat)\n",
        "       # Apply convolutions\n",
        "       x = self.conv(x)\n",
        "\n",
        "       # Apply channel attention\n",
        "       b, c, h, w = x.size()\n",
        "       y = x.view(b, c)\n",
        "       y = self.attention(y).view(b, c, 1, 1)\n",
        "       x = x * y  # Apply attention weights\n",
        "\n",
        "       # Classification\n",
        "       x = x.view(x.size(0), -1)\n",
        "       return self.fc(x)"
      ],
      "metadata": {
        "id": "7at6LOzRcP46"
      },
      "execution_count": 15,
      "outputs": []
    },
    {
      "cell_type": "code",
      "source": [
        "def train_model():\n",
        "   \"\"\"\n",
        "   Main training function with early stopping and filtered frequency bands\n",
        "   \"\"\"\n",
        "   print(\"Starting model training with early stopping and frequency filtering...\")\n",
        "\n",
        "   # ----- Load and preprocess data -----\n",
        "   print(\"Loading data...\")\n",
        "   X, y, label_map = load_eeg_feature_csv(CSV_PATH)\n",
        "\n",
        "   # Log original data statistics\n",
        "   print(f\"Original data shape: {X.shape}\")\n",
        "   print(f\"Class distribution: {np.bincount(y)}\")\n",
        "   print(f\"Label mapping: {label_map}\")\n",
        "\n",
        "   # Apply frequency band filtering if enabled\n",
        "   if USE_FILTERED_BANDS:\n",
        "       print(\"Applying frequency band filtering...\")\n",
        "       X_filtered = filter_frequency_bands(X)\n",
        "       print(f\"Filtered data shape: {X_filtered.shape}\")\n",
        "\n",
        "       # Save both raw and filtered signals for comparison\n",
        "       raw_sample = X[0, :20]\n",
        "       filtered_sample = X_filtered[0, :20]\n",
        "       plt.figure(figsize=(12, 6))\n",
        "       plt.plot(raw_sample, label='Raw')\n",
        "       plt.plot(filtered_sample, label='Filtered')\n",
        "       plt.legend()\n",
        "       plt.title('Raw vs Filtered Signal Comparison')\n",
        "       plt.savefig(os.path.join(project_dir, 'signal_comparison.png'))\n",
        "\n",
        "       # Use filtered data for training\n",
        "       X = X_filtered\n",
        "\n",
        "   # Normalize features\n",
        "   Xn, stats = normalize_features(X)\n",
        "   print(f\"Data normalized. Mean: {stats['mean'].mean():.4f}, Std: {stats['std'].mean():.4f}\")\n",
        "\n",
        "   # Reshape for TSception\n",
        "   Xn = reshape_for_tsception_feature(Xn)\n",
        "\n",
        "   # Split into training and validation sets\n",
        "   X_tr, X_val, y_tr, y_val = train_test_split(\n",
        "       Xn, y, test_size=0.2, stratify=y, random_state=RANDOM_SEED\n",
        "   )\n",
        "   print(f\"Train set: {X_tr.shape}, Validation set: {X_val.shape}\")\n",
        "\n",
        "   # Create PyTorch datasets and data loaders\n",
        "   def to_tensor(arr, dtype=torch.float32):\n",
        "       return torch.from_numpy(arr).to(dtype)\n",
        "\n",
        "   ds_tr = TensorDataset(to_tensor(X_tr), torch.from_numpy(y_tr))\n",
        "   ds_val = TensorDataset(to_tensor(X_val), torch.from_numpy(y_val))\n",
        "   dl_tr = DataLoader(ds_tr, batch_size=BATCH_SIZE, shuffle=True)\n",
        "   dl_val = DataLoader(ds_val, batch_size=BATCH_SIZE)\n",
        "\n",
        "   # Get input dimension and number of classes\n",
        "   input_dim = Xn.shape[-1]\n",
        "   num_classes = int(np.max(y) + 1)\n",
        "\n",
        "   # ----- Initialize model -----\n",
        "   model = TinyTSception(input_dim, num_classes)\n",
        "   model.to(device)\n",
        "\n",
        "   # ----- Training setup -----\n",
        "   criterion = nn.CrossEntropyLoss()\n",
        "   optimizer = optim.Adam(model.parameters(), lr=LEARNING_RATE)\n",
        "\n",
        "   # ----- Early stopping variables -----\n",
        "   best_f1 = 0.0\n",
        "   best_acc = 0.0\n",
        "   best_model_path = os.path.join(project_dir, 'best_day3.pth')\n",
        "   patience_counter = 0\n",
        "   history = {\n",
        "       'train_loss': [],\n",
        "       'val_loss': [],\n",
        "       'val_f1': [],\n",
        "       'val_acc': []\n",
        "   }\n",
        "\n",
        "   # ----- Training loop -----\n",
        "   print(\"Starting training...\")\n",
        "   for epoch in range(1, EPOCHS + 1):\n",
        "       # Training phase\n",
        "       model.train()\n",
        "       train_losses = []\n",
        "\n",
        "       for xb, yb in tqdm(dl_tr, desc=f\"Epoch {epoch:02d} [train]\"):\n",
        "           xb, yb = xb.to(device), yb.to(device)\n",
        "\n",
        "           # Forward pass\n",
        "           optimizer.zero_grad()\n",
        "           outputs = model(xb)\n",
        "           loss = criterion(outputs, yb)\n",
        "\n",
        "           # Backward pass and optimization\n",
        "           loss.backward()\n",
        "           optimizer.step()\n",
        "\n",
        "           train_losses.append(loss.item())\n",
        "\n",
        "       # Calculate average training loss\n",
        "       avg_train_loss = np.mean(train_losses)\n",
        "       history['train_loss'].append(avg_train_loss)\n",
        "\n",
        "       # Validation phase\n",
        "       model.eval()\n",
        "       val_losses = []\n",
        "       preds, gold = [], []\n",
        "\n",
        "       with torch.no_grad():\n",
        "           for xb, yb in dl_val:\n",
        "               xb, yb = xb.to(device), yb.to(device)\n",
        "\n",
        "               # Forward pass\n",
        "               outputs = model(xb)\n",
        "               loss = criterion(outputs, yb)\n",
        "\n",
        "               # Store predictions and ground truth\n",
        "               preds.extend(outputs.argmax(1).cpu().numpy())\n",
        "               gold.extend(yb.cpu().numpy())\n",
        "               val_losses.append(loss.item())\n",
        "\n",
        "       # Calculate validation metrics\n",
        "       avg_val_loss = np.mean(val_losses)\n",
        "       val_f1 = f1_score(gold, preds, average='macro')\n",
        "       val_acc = accuracy_score(gold, preds)\n",
        "\n",
        "       # Update history\n",
        "       history['val_loss'].append(avg_val_loss)\n",
        "       history['val_f1'].append(val_f1)\n",
        "       history['val_acc'].append(val_acc)\n",
        "\n",
        "       # Print metrics\n",
        "       print(f\"Epoch {epoch:02d} | Train Loss: {avg_train_loss:.4f} | Val Loss: {avg_val_loss:.4f} | Val F1: {val_f1:.4f} | Val Acc: {val_acc:.4f}\")\n",
        "\n",
        "       # Check if performance improved\n",
        "       if val_f1 > best_f1:\n",
        "           best_f1 = val_f1\n",
        "           best_acc = val_acc\n",
        "\n",
        "           # Save best model\n",
        "           torch.save({\n",
        "               'epoch': epoch,\n",
        "               'model_state_dict': model.state_dict(),\n",
        "               'optimizer_state_dict': optimizer.state_dict(),\n",
        "               'val_f1': val_f1,\n",
        "               'val_acc': val_acc,\n",
        "               'train_loss': avg_train_loss,\n",
        "               'val_loss': avg_val_loss\n",
        "           }, best_model_path)\n",
        "\n",
        "           print(f\"New best model saved with F1: {val_f1:.4f}, Acc: {val_acc:.4f}\")\n",
        "           patience_counter = 0\n",
        "       else:\n",
        "           patience_counter += 1\n",
        "           print(f\"No improvement for {patience_counter} epochs\")\n",
        "\n",
        "       # Early stopping check\n",
        "       if patience_counter >= PATIENCE:\n",
        "           print(f\"Early stopping triggered after {epoch} epochs\")\n",
        "           break\n",
        "\n",
        "   # ----- Post-training -----\n",
        "   print(\"Training complete!\")\n",
        "   print(f\"Best validation F1: {best_f1:.4f}, Accuracy: {best_acc:.4f}\")\n",
        "\n",
        "   # Plot training curves\n",
        "   plot_training_curves(history, save_path=os.path.join(project_dir, 'training_curves.png'))\n",
        "\n",
        "   # Generate confusion matrix for best model\n",
        "   model.load_state_dict(torch.load(best_model_path, weights_only=False)['model_state_dict'])\n",
        "   model.eval()\n",
        "\n",
        "   with torch.no_grad():\n",
        "       all_preds, all_gold = [], []\n",
        "       for xb, yb in DataLoader(ds_val, batch_size=BATCH_SIZE):\n",
        "           xb, yb = xb.to(device), yb.to(device)\n",
        "           outputs = model(xb)\n",
        "           all_preds.extend(outputs.argmax(1).cpu().numpy())\n",
        "           all_gold.extend(yb.cpu().numpy())\n",
        "\n",
        "   # Plot confusion matrix\n",
        "   cm = confusion_matrix(all_gold, all_preds)\n",
        "   plot_confusion_matrix(cm, list(label_map.keys()), save_path=os.path.join(project_dir, 'confusion_matrix.png'))\n",
        "\n",
        "   return best_f1, best_acc, history"
      ],
      "metadata": {
        "id": "fIuS2NU0cSjL"
      },
      "execution_count": 16,
      "outputs": []
    },
    {
      "cell_type": "code",
      "source": [
        "if __name__ == \"__main__\":\n",
        "   train_model()"
      ],
      "metadata": {
        "colab": {
          "base_uri": "https://localhost:8080/",
          "height": 1000
        },
        "id": "ojcUBgxJcVMe",
        "outputId": "fc873c53-88e8-4ba2-a4f8-2c61f578f20f"
      },
      "execution_count": 17,
      "outputs": [
        {
          "output_type": "stream",
          "name": "stdout",
          "text": [
            "Starting model training with early stopping and frequency filtering...\n",
            "Loading data...\n",
            "Loaded CSV with 2132 rows and 2549 columns\n",
            "['# mean_0_a', 'mean_1_a', 'mean_2_a', 'mean_3_a', 'mean_4_a', 'mean_d_0_a', 'mean_d_1_a', 'mean_d_2_a', 'mean_d_3_a', 'mean_d_4_a', 'mean_d_0_a2', 'mean_d_1_a2', 'mean_d_2_a2', 'mean_d_3_a2', 'mean_d_4_a2', 'mean_d_5_a', 'mean_d_6_a', 'mean_d_7_a', 'mean_d_8_a', 'mean_d_9_a', 'mean_d_10_a', 'mean_d_11_a', 'mean_d_12_a', 'mean_d_13_a', 'mean_d_14_a', 'mean_d_15_a', 'mean_d_16_a', 'mean_d_17_a', 'mean_d_18_a', 'mean_d_19_a', 'mean_d_20_a', 'mean_d_21_a', 'mean_d_22_a', 'mean_d_23_a', 'mean_d_24_a', 'mean_d_25_a', 'mean_d_26_a', 'mean_d_27_a', 'mean_d_28_a', 'mean_d_29_a', 'mean_d_30_a', 'mean_d_31_a', 'mean_d_32_a', 'mean_d_33_a', 'mean_d_34_a', 'mean_d_35_a', 'mean_d_36_a', 'mean_d_37_a', 'mean_d_38_a', 'mean_d_39_a', 'mean_d_40_a', 'mean_d_41_a', 'mean_d_42_a', 'mean_d_43_a', 'mean_d_44_a', 'mean_d_45_a', 'mean_d_46_a', 'mean_d_47_a', 'mean_d_48_a', 'mean_d_49_a', 'stddev_0_a', 'stddev_1_a', 'stddev_2_a', 'stddev_3_a', 'stddev_4_a', 'stddev_d_0_a', 'stddev_d_1_a', 'stddev_d_2_a', 'stddev_d_3_a', 'stddev_d_4_a', 'moments_0_a', 'moments_1_a', 'moments_2_a', 'moments_3_a', 'moments_4_a', 'moments_5_a', 'moments_6_a', 'moments_7_a', 'moments_8_a', 'moments_9_a', 'moments_10_a', 'moments_11_a', 'moments_12_a', 'moments_13_a', 'moments_14_a', 'moments_15_a', 'moments_16_a', 'moments_17_a', 'moments_18_a', 'moments_19_a', 'max_0_a', 'max_1_a', 'max_2_a', 'max_3_a', 'max_4_a', 'max_d_0_a', 'max_d_1_a', 'max_d_2_a', 'max_d_3_a', 'max_d_4_a', 'max_q_0_a', 'max_q_1_a', 'max_q_2_a', 'max_q_3_a', 'max_q_4_a', 'max_q_5_a', 'max_q_6_a', 'max_q_7_a', 'max_q_8_a', 'max_q_9_a', 'max_q_10_a', 'max_q_11_a', 'max_q_12_a', 'max_q_13_a', 'max_q_14_a', 'max_q_15_a', 'max_q_16_a', 'max_q_17_a', 'max_q_18_a', 'max_q_19_a', 'max_q_20_a', 'max_q_21_a', 'max_q_22_a', 'max_q_23_a', 'max_q_24_a', 'max_q_25_a', 'max_q_26_a', 'max_q_27_a', 'max_q_28_a', 'max_q_29_a', 'max_q_30_a', 'max_q_31_a', 'max_q_32_a', 'max_q_33_a', 'max_q_34_a', 'max_q_35_a', 'max_q_36_a', 'max_q_37_a', 'max_q_38_a', 'max_q_39_a', 'max_q_40_a', 'max_q_41_a', 'max_q_42_a', 'max_q_43_a', 'max_q_44_a', 'max_q_45_a', 'max_q_46_a', 'max_q_47_a', 'max_q_48_a', 'max_q_49_a', 'min_0_a', 'min_1_a', 'min_2_a', 'min_3_a', 'min_4_a', 'min_d_0_a', 'min_d_1_a', 'min_d_2_a', 'min_d_3_a', 'min_d_4_a', 'min_q_0_a', 'min_q_1_a', 'min_q_2_a', 'min_q_3_a', 'min_q_4_a', 'min_q_5_a', 'min_q_6_a', 'min_q_7_a', 'min_q_8_a', 'min_q_9_a', 'min_q_10_a', 'min_q_11_a', 'min_q_12_a', 'min_q_13_a', 'min_q_14_a', 'min_q_15_a', 'min_q_16_a', 'min_q_17_a', 'min_q_18_a', 'min_q_19_a', 'min_q_20_a', 'min_q_21_a', 'min_q_22_a', 'min_q_23_a', 'min_q_24_a', 'min_q_25_a', 'min_q_26_a', 'min_q_27_a', 'min_q_28_a', 'min_q_29_a', 'min_q_30_a', 'min_q_31_a', 'min_q_32_a', 'min_q_33_a', 'min_q_34_a', 'min_q_35_a', 'min_q_36_a', 'min_q_37_a', 'min_q_38_a', 'min_q_39_a', 'min_q_40_a', 'min_q_41_a', 'min_q_42_a', 'min_q_43_a', 'min_q_44_a', 'min_q_45_a', 'min_q_46_a', 'min_q_47_a', 'min_q_48_a', 'min_q_49_a', 'covmat_0_a', 'covmat_1_a', 'covmat_2_a', 'covmat_3_a', 'covmat_4_a', 'covmat_5_a', 'covmat_6_a', 'covmat_7_a', 'covmat_8_a', 'covmat_9_a', 'covmat_10_a', 'covmat_11_a', 'covmat_12_a', 'covmat_13_a', 'covmat_14_a', 'covmat_15_a', 'covmat_16_a', 'covmat_17_a', 'covmat_18_a', 'covmat_19_a', 'covmat_20_a', 'covmat_21_a', 'covmat_22_a', 'covmat_23_a', 'covmat_24_a', 'covmat_25_a', 'covmat_26_a', 'covmat_27_a', 'covmat_28_a', 'covmat_29_a', 'covmat_30_a', 'covmat_31_a', 'covmat_32_a', 'covmat_33_a', 'covmat_34_a', 'covmat_35_a', 'covmat_36_a', 'covmat_37_a', 'covmat_38_a', 'covmat_39_a', 'covmat_40_a', 'covmat_41_a', 'covmat_42_a', 'covmat_43_a', 'covmat_44_a', 'covmat_45_a', 'covmat_46_a', 'covmat_47_a', 'covmat_48_a', 'covmat_49_a', 'covmat_50_a', 'covmat_51_a', 'covmat_52_a', 'covmat_53_a', 'covmat_54_a', 'covmat_55_a', 'covmat_56_a', 'covmat_57_a', 'covmat_58_a', 'covmat_59_a', 'covmat_60_a', 'covmat_61_a', 'covmat_62_a', 'covmat_63_a', 'covmat_64_a', 'covmat_65_a', 'covmat_66_a', 'covmat_67_a', 'covmat_68_a', 'covmat_69_a', 'covmat_70_a', 'covmat_71_a', 'covmat_72_a', 'covmat_73_a', 'covmat_74_a', 'covmat_75_a', 'covmat_76_a', 'covmat_77_a', 'covmat_78_a', 'covmat_79_a', 'covmat_80_a', 'covmat_81_a', 'covmat_82_a', 'covmat_83_a', 'covmat_84_a', 'covmat_85_a', 'covmat_86_a', 'covmat_87_a', 'covmat_88_a', 'covmat_89_a', 'covmat_90_a', 'covmat_91_a', 'covmat_92_a', 'covmat_93_a', 'covmat_94_a', 'covmat_95_a', 'covmat_96_a', 'covmat_97_a', 'covmat_98_a', 'covmat_99_a', 'covmat_100_a', 'covmat_101_a', 'covmat_102_a', 'covmat_103_a', 'covmat_104_a', 'covmat_105_a', 'covmat_106_a', 'covmat_107_a', 'covmat_108_a', 'covmat_109_a', 'covmat_110_a', 'covmat_111_a', 'covmat_112_a', 'covmat_113_a', 'covmat_114_a', 'covmat_115_a', 'covmat_116_a', 'covmat_117_a', 'covmat_118_a', 'covmat_119_a', 'covmat_120_a', 'covmat_121_a', 'covmat_122_a', 'covmat_123_a', 'covmat_124_a', 'covmat_125_a', 'covmat_126_a', 'covmat_127_a', 'covmat_128_a', 'covmat_129_a', 'covmat_130_a', 'covmat_131_a', 'covmat_132_a', 'covmat_133_a', 'covmat_134_a', 'covmat_135_a', 'covmat_136_a', 'covmat_137_a', 'covmat_138_a', 'covmat_139_a', 'covmat_140_a', 'covmat_141_a', 'covmat_142_a', 'covmat_143_a', 'eigen_0_a', 'eigen_1_a', 'eigen_2_a', 'eigen_3_a', 'eigen_4_a', 'eigen_5_a', 'eigen_6_a', 'eigen_7_a', 'eigen_8_a', 'eigen_9_a', 'eigen_10_a', 'eigen_11_a', 'logm_0_a', 'logm_1_a', 'logm_2_a', 'logm_3_a', 'logm_4_a', 'logm_5_a', 'logm_6_a', 'logm_7_a', 'logm_8_a', 'logm_9_a', 'logm_10_a', 'logm_11_a', 'logm_12_a', 'logm_13_a', 'logm_14_a', 'logm_15_a', 'logm_16_a', 'logm_17_a', 'logm_18_a', 'logm_19_a', 'logm_20_a', 'logm_21_a', 'logm_22_a', 'logm_23_a', 'logm_24_a', 'logm_25_a', 'logm_26_a', 'logm_27_a', 'logm_28_a', 'logm_29_a', 'logm_30_a', 'logm_31_a', 'logm_32_a', 'logm_33_a', 'logm_34_a', 'logm_35_a', 'logm_36_a', 'logm_37_a', 'logm_38_a', 'logm_39_a', 'logm_40_a', 'logm_41_a', 'logm_42_a', 'logm_43_a', 'logm_44_a', 'logm_45_a', 'logm_46_a', 'logm_47_a', 'logm_48_a', 'logm_49_a', 'logm_50_a', 'logm_51_a', 'logm_52_a', 'logm_53_a', 'logm_54_a', 'logm_55_a', 'logm_56_a', 'logm_57_a', 'logm_58_a', 'logm_59_a', 'logm_60_a', 'logm_61_a', 'logm_62_a', 'logm_63_a', 'logm_64_a', 'logm_65_a', 'logm_66_a', 'logm_67_a', 'logm_68_a', 'logm_69_a', 'logm_70_a', 'logm_71_a', 'logm_72_a', 'logm_73_a', 'logm_74_a', 'logm_75_a', 'logm_76_a', 'logm_77_a', 'entropy0_a', 'entropy1_a', 'entropy2_a', 'entropy3_a', 'entropy4_a', 'correlate_0_a', 'correlate_1_a', 'correlate_2_a', 'correlate_3_a', 'correlate_4_a', 'correlate_5_a', 'correlate_6_a', 'correlate_7_a', 'correlate_8_a', 'correlate_9_a', 'correlate_10_a', 'correlate_11_a', 'correlate_12_a', 'correlate_13_a', 'correlate_14_a', 'correlate_15_a', 'correlate_16_a', 'correlate_17_a', 'correlate_18_a', 'correlate_19_a', 'correlate_20_a', 'correlate_21_a', 'correlate_22_a', 'correlate_23_a', 'correlate_24_a', 'correlate_25_a', 'correlate_26_a', 'correlate_27_a', 'correlate_28_a', 'correlate_29_a', 'correlate_30_a', 'correlate_31_a', 'correlate_32_a', 'correlate_33_a', 'correlate_34_a', 'correlate_35_a', 'correlate_36_a', 'correlate_37_a', 'correlate_38_a', 'correlate_39_a', 'correlate_40_a', 'correlate_41_a', 'correlate_42_a', 'correlate_43_a', 'correlate_44_a', 'correlate_45_a', 'correlate_46_a', 'correlate_47_a', 'correlate_48_a', 'correlate_49_a', 'correlate_50_a', 'correlate_51_a', 'correlate_52_a', 'correlate_53_a', 'correlate_54_a', 'correlate_55_a', 'correlate_56_a', 'correlate_57_a', 'correlate_58_a', 'correlate_59_a', 'correlate_60_a', 'correlate_61_a', 'correlate_62_a', 'correlate_63_a', 'correlate_64_a', 'correlate_65_a', 'correlate_66_a', 'correlate_67_a', 'correlate_68_a', 'correlate_69_a', 'correlate_70_a', 'correlate_71_a', 'correlate_72_a', 'correlate_73_a', 'correlate_74_a', 'fft_0_a', 'fft_1_a', 'fft_2_a', 'fft_3_a', 'fft_4_a', 'fft_5_a', 'fft_6_a', 'fft_7_a', 'fft_8_a', 'fft_9_a', 'fft_10_a', 'fft_11_a', 'fft_12_a', 'fft_13_a', 'fft_14_a', 'fft_15_a', 'fft_16_a', 'fft_17_a', 'fft_18_a', 'fft_19_a', 'fft_20_a', 'fft_21_a', 'fft_22_a', 'fft_23_a', 'fft_24_a', 'fft_25_a', 'fft_26_a', 'fft_27_a', 'fft_28_a', 'fft_29_a', 'fft_30_a', 'fft_31_a', 'fft_32_a', 'fft_33_a', 'fft_34_a', 'fft_35_a', 'fft_36_a', 'fft_37_a', 'fft_38_a', 'fft_39_a', 'fft_40_a', 'fft_41_a', 'fft_42_a', 'fft_43_a', 'fft_44_a', 'fft_45_a', 'fft_46_a', 'fft_47_a', 'fft_48_a', 'fft_49_a', 'fft_50_a', 'fft_51_a', 'fft_52_a', 'fft_53_a', 'fft_54_a', 'fft_55_a', 'fft_56_a', 'fft_57_a', 'fft_58_a', 'fft_59_a', 'fft_60_a', 'fft_61_a', 'fft_62_a', 'fft_63_a', 'fft_64_a', 'fft_65_a', 'fft_66_a', 'fft_67_a', 'fft_68_a', 'fft_69_a', 'fft_70_a', 'fft_71_a', 'fft_72_a', 'fft_73_a', 'fft_74_a', 'fft_75_a', 'fft_76_a', 'fft_77_a', 'fft_78_a', 'fft_79_a', 'fft_80_a', 'fft_81_a', 'fft_82_a', 'fft_83_a', 'fft_84_a', 'fft_85_a', 'fft_86_a', 'fft_87_a', 'fft_88_a', 'fft_89_a', 'fft_90_a', 'fft_91_a', 'fft_92_a', 'fft_93_a', 'fft_94_a', 'fft_95_a', 'fft_96_a', 'fft_97_a', 'fft_98_a', 'fft_99_a', 'fft_100_a', 'fft_101_a', 'fft_102_a', 'fft_103_a', 'fft_104_a', 'fft_105_a', 'fft_106_a', 'fft_107_a', 'fft_108_a', 'fft_109_a', 'fft_110_a', 'fft_111_a', 'fft_112_a', 'fft_113_a', 'fft_114_a', 'fft_115_a', 'fft_116_a', 'fft_117_a', 'fft_118_a', 'fft_119_a', 'fft_120_a', 'fft_121_a', 'fft_122_a', 'fft_123_a', 'fft_124_a', 'fft_125_a', 'fft_126_a', 'fft_127_a', 'fft_128_a', 'fft_129_a', 'fft_130_a', 'fft_131_a', 'fft_132_a', 'fft_133_a', 'fft_134_a', 'fft_135_a', 'fft_136_a', 'fft_137_a', 'fft_138_a', 'fft_139_a', 'fft_140_a', 'fft_141_a', 'fft_142_a', 'fft_143_a', 'fft_144_a', 'fft_145_a', 'fft_146_a', 'fft_147_a', 'fft_148_a', 'fft_149_a', 'fft_150_a', 'fft_151_a', 'fft_152_a', 'fft_153_a', 'fft_154_a', 'fft_155_a', 'fft_156_a', 'fft_157_a', 'fft_158_a', 'fft_159_a', 'fft_160_a', 'fft_161_a', 'fft_162_a', 'fft_163_a', 'fft_164_a', 'fft_165_a', 'fft_166_a', 'fft_167_a', 'fft_168_a', 'fft_169_a', 'fft_170_a', 'fft_171_a', 'fft_172_a', 'fft_173_a', 'fft_174_a', 'fft_175_a', 'fft_176_a', 'fft_177_a', 'fft_178_a', 'fft_179_a', 'fft_180_a', 'fft_181_a', 'fft_182_a', 'fft_183_a', 'fft_184_a', 'fft_185_a', 'fft_186_a', 'fft_187_a', 'fft_188_a', 'fft_189_a', 'fft_190_a', 'fft_191_a', 'fft_192_a', 'fft_193_a', 'fft_194_a', 'fft_195_a', 'fft_196_a', 'fft_197_a', 'fft_198_a', 'fft_199_a', 'fft_200_a', 'fft_201_a', 'fft_202_a', 'fft_203_a', 'fft_204_a', 'fft_205_a', 'fft_206_a', 'fft_207_a', 'fft_208_a', 'fft_209_a', 'fft_210_a', 'fft_211_a', 'fft_212_a', 'fft_213_a', 'fft_214_a', 'fft_215_a', 'fft_216_a', 'fft_217_a', 'fft_218_a', 'fft_219_a', 'fft_220_a', 'fft_221_a', 'fft_222_a', 'fft_223_a', 'fft_224_a', 'fft_225_a', 'fft_226_a', 'fft_227_a', 'fft_228_a', 'fft_229_a', 'fft_230_a', 'fft_231_a', 'fft_232_a', 'fft_233_a', 'fft_234_a', 'fft_235_a', 'fft_236_a', 'fft_237_a', 'fft_238_a', 'fft_239_a', 'fft_240_a', 'fft_241_a', 'fft_242_a', 'fft_243_a', 'fft_244_a', 'fft_245_a', 'fft_246_a', 'fft_247_a', 'fft_248_a', 'fft_249_a', 'fft_250_a', 'fft_251_a', 'fft_252_a', 'fft_253_a', 'fft_254_a', 'fft_255_a', 'fft_256_a', 'fft_257_a', 'fft_258_a', 'fft_259_a', 'fft_260_a', 'fft_261_a', 'fft_262_a', 'fft_263_a', 'fft_264_a', 'fft_265_a', 'fft_266_a', 'fft_267_a', 'fft_268_a', 'fft_269_a', 'fft_270_a', 'fft_271_a', 'fft_272_a', 'fft_273_a', 'fft_274_a', 'fft_275_a', 'fft_276_a', 'fft_277_a', 'fft_278_a', 'fft_279_a', 'fft_280_a', 'fft_281_a', 'fft_282_a', 'fft_283_a', 'fft_284_a', 'fft_285_a', 'fft_286_a', 'fft_287_a', 'fft_288_a', 'fft_289_a', 'fft_290_a', 'fft_291_a', 'fft_292_a', 'fft_293_a', 'fft_294_a', 'fft_295_a', 'fft_296_a', 'fft_297_a', 'fft_298_a', 'fft_299_a', 'fft_300_a', 'fft_301_a', 'fft_302_a', 'fft_303_a', 'fft_304_a', 'fft_305_a', 'fft_306_a', 'fft_307_a', 'fft_308_a', 'fft_309_a', 'fft_310_a', 'fft_311_a', 'fft_312_a', 'fft_313_a', 'fft_314_a', 'fft_315_a', 'fft_316_a', 'fft_317_a', 'fft_318_a', 'fft_319_a', 'fft_320_a', 'fft_321_a', 'fft_322_a', 'fft_323_a', 'fft_324_a', 'fft_325_a', 'fft_326_a', 'fft_327_a', 'fft_328_a', 'fft_329_a', 'fft_330_a', 'fft_331_a', 'fft_332_a', 'fft_333_a', 'fft_334_a', 'fft_335_a', 'fft_336_a', 'fft_337_a', 'fft_338_a', 'fft_339_a', 'fft_340_a', 'fft_341_a', 'fft_342_a', 'fft_343_a', 'fft_344_a', 'fft_345_a', 'fft_346_a', 'fft_347_a', 'fft_348_a', 'fft_349_a', 'fft_350_a', 'fft_351_a', 'fft_352_a', 'fft_353_a', 'fft_354_a', 'fft_355_a', 'fft_356_a', 'fft_357_a', 'fft_358_a', 'fft_359_a', 'fft_360_a', 'fft_361_a', 'fft_362_a', 'fft_363_a', 'fft_364_a', 'fft_365_a', 'fft_366_a', 'fft_367_a', 'fft_368_a', 'fft_369_a', 'fft_370_a', 'fft_371_a', 'fft_372_a', 'fft_373_a', 'fft_374_a', 'fft_375_a', 'fft_376_a', 'fft_377_a', 'fft_378_a', 'fft_379_a', 'fft_380_a', 'fft_381_a', 'fft_382_a', 'fft_383_a', 'fft_384_a', 'fft_385_a', 'fft_386_a', 'fft_387_a', 'fft_388_a', 'fft_389_a', 'fft_390_a', 'fft_391_a', 'fft_392_a', 'fft_393_a', 'fft_394_a', 'fft_395_a', 'fft_396_a', 'fft_397_a', 'fft_398_a', 'fft_399_a', 'fft_400_a', 'fft_401_a', 'fft_402_a', 'fft_403_a', 'fft_404_a', 'fft_405_a', 'fft_406_a', 'fft_407_a', 'fft_408_a', 'fft_409_a', 'fft_410_a', 'fft_411_a', 'fft_412_a', 'fft_413_a', 'fft_414_a', 'fft_415_a', 'fft_416_a', 'fft_417_a', 'fft_418_a', 'fft_419_a', 'fft_420_a', 'fft_421_a', 'fft_422_a', 'fft_423_a', 'fft_424_a', 'fft_425_a', 'fft_426_a', 'fft_427_a', 'fft_428_a', 'fft_429_a', 'fft_430_a', 'fft_431_a', 'fft_432_a', 'fft_433_a', 'fft_434_a', 'fft_435_a', 'fft_436_a', 'fft_437_a', 'fft_438_a', 'fft_439_a', 'fft_440_a', 'fft_441_a', 'fft_442_a', 'fft_443_a', 'fft_444_a', 'fft_445_a', 'fft_446_a', 'fft_447_a', 'fft_448_a', 'fft_449_a', 'fft_450_a', 'fft_451_a', 'fft_452_a', 'fft_453_a', 'fft_454_a', 'fft_455_a', 'fft_456_a', 'fft_457_a', 'fft_458_a', 'fft_459_a', 'fft_460_a', 'fft_461_a', 'fft_462_a', 'fft_463_a', 'fft_464_a', 'fft_465_a', 'fft_466_a', 'fft_467_a', 'fft_468_a', 'fft_469_a', 'fft_470_a', 'fft_471_a', 'fft_472_a', 'fft_473_a', 'fft_474_a', 'fft_475_a', 'fft_476_a', 'fft_477_a', 'fft_478_a', 'fft_479_a', 'fft_480_a', 'fft_481_a', 'fft_482_a', 'fft_483_a', 'fft_484_a', 'fft_485_a', 'fft_486_a', 'fft_487_a', 'fft_488_a', 'fft_489_a', 'fft_490_a', 'fft_491_a', 'fft_492_a', 'fft_493_a', 'fft_494_a', 'fft_495_a', 'fft_496_a', 'fft_497_a', 'fft_498_a', 'fft_499_a', 'fft_500_a', 'fft_501_a', 'fft_502_a', 'fft_503_a', 'fft_504_a', 'fft_505_a', 'fft_506_a', 'fft_507_a', 'fft_508_a', 'fft_509_a', 'fft_510_a', 'fft_511_a', 'fft_512_a', 'fft_513_a', 'fft_514_a', 'fft_515_a', 'fft_516_a', 'fft_517_a', 'fft_518_a', 'fft_519_a', 'fft_520_a', 'fft_521_a', 'fft_522_a', 'fft_523_a', 'fft_524_a', 'fft_525_a', 'fft_526_a', 'fft_527_a', 'fft_528_a', 'fft_529_a', 'fft_530_a', 'fft_531_a', 'fft_532_a', 'fft_533_a', 'fft_534_a', 'fft_535_a', 'fft_536_a', 'fft_537_a', 'fft_538_a', 'fft_539_a', 'fft_540_a', 'fft_541_a', 'fft_542_a', 'fft_543_a', 'fft_544_a', 'fft_545_a', 'fft_546_a', 'fft_547_a', 'fft_548_a', 'fft_549_a', 'fft_550_a', 'fft_551_a', 'fft_552_a', 'fft_553_a', 'fft_554_a', 'fft_555_a', 'fft_556_a', 'fft_557_a', 'fft_558_a', 'fft_559_a', 'fft_560_a', 'fft_561_a', 'fft_562_a', 'fft_563_a', 'fft_564_a', 'fft_565_a', 'fft_566_a', 'fft_567_a', 'fft_568_a', 'fft_569_a', 'fft_570_a', 'fft_571_a', 'fft_572_a', 'fft_573_a', 'fft_574_a', 'fft_575_a', 'fft_576_a', 'fft_577_a', 'fft_578_a', 'fft_579_a', 'fft_580_a', 'fft_581_a', 'fft_582_a', 'fft_583_a', 'fft_584_a', 'fft_585_a', 'fft_586_a', 'fft_587_a', 'fft_588_a', 'fft_589_a', 'fft_590_a', 'fft_591_a', 'fft_592_a', 'fft_593_a', 'fft_594_a', 'fft_595_a', 'fft_596_a', 'fft_597_a', 'fft_598_a', 'fft_599_a', 'fft_600_a', 'fft_601_a', 'fft_602_a', 'fft_603_a', 'fft_604_a', 'fft_605_a', 'fft_606_a', 'fft_607_a', 'fft_608_a', 'fft_609_a', 'fft_610_a', 'fft_611_a', 'fft_612_a', 'fft_613_a', 'fft_614_a', 'fft_615_a', 'fft_616_a', 'fft_617_a', 'fft_618_a', 'fft_619_a', 'fft_620_a', 'fft_621_a', 'fft_622_a', 'fft_623_a', 'fft_624_a', 'fft_625_a', 'fft_626_a', 'fft_627_a', 'fft_628_a', 'fft_629_a', 'fft_630_a', 'fft_631_a', 'fft_632_a', 'fft_633_a', 'fft_634_a', 'fft_635_a', 'fft_636_a', 'fft_637_a', 'fft_638_a', 'fft_639_a', 'fft_640_a', 'fft_641_a', 'fft_642_a', 'fft_643_a', 'fft_644_a', 'fft_645_a', 'fft_646_a', 'fft_647_a', 'fft_648_a', 'fft_649_a', 'fft_650_a', 'fft_651_a', 'fft_652_a', 'fft_653_a', 'fft_654_a', 'fft_655_a', 'fft_656_a', 'fft_657_a', 'fft_658_a', 'fft_659_a', 'fft_660_a', 'fft_661_a', 'fft_662_a', 'fft_663_a', 'fft_664_a', 'fft_665_a', 'fft_666_a', 'fft_667_a', 'fft_668_a', 'fft_669_a', 'fft_670_a', 'fft_671_a', 'fft_672_a', 'fft_673_a', 'fft_674_a', 'fft_675_a', 'fft_676_a', 'fft_677_a', 'fft_678_a', 'fft_679_a', 'fft_680_a', 'fft_681_a', 'fft_682_a', 'fft_683_a', 'fft_684_a', 'fft_685_a', 'fft_686_a', 'fft_687_a', 'fft_688_a', 'fft_689_a', 'fft_690_a', 'fft_691_a', 'fft_692_a', 'fft_693_a', 'fft_694_a', 'fft_695_a', 'fft_696_a', 'fft_697_a', 'fft_698_a', 'fft_699_a', 'fft_700_a', 'fft_701_a', 'fft_702_a', 'fft_703_a', 'fft_704_a', 'fft_705_a', 'fft_706_a', 'fft_707_a', 'fft_708_a', 'fft_709_a', 'fft_710_a', 'fft_711_a', 'fft_712_a', 'fft_713_a', 'fft_714_a', 'fft_715_a', 'fft_716_a', 'fft_717_a', 'fft_718_a', 'fft_719_a', 'fft_720_a', 'fft_721_a', 'fft_722_a', 'fft_723_a', 'fft_724_a', 'fft_725_a', 'fft_726_a', 'fft_727_a', 'fft_728_a', 'fft_729_a', 'fft_730_a', 'fft_731_a', 'fft_732_a', 'fft_733_a', 'fft_734_a', 'fft_735_a', 'fft_736_a', 'fft_737_a', 'fft_738_a', 'fft_739_a', 'fft_740_a', 'fft_741_a', 'fft_742_a', 'fft_743_a', 'fft_744_a', 'fft_745_a', 'fft_746_a', 'fft_747_a', 'fft_748_a', 'fft_749_a', 'mean_0_b', 'mean_1_b', 'mean_2_b', 'mean_3_b', 'mean_4_b', 'mean_d_0_b', 'mean_d_1_b', 'mean_d_2_b', 'mean_d_3_b', 'mean_d_4_b', 'mean_d_0_b2', 'mean_d_1_b2', 'mean_d_2_b2', 'mean_d_3_b2', 'mean_d_4_b2', 'mean_d_5_b', 'mean_d_6_b', 'mean_d_7_b', 'mean_d_8_b', 'mean_d_9_b', 'mean_d_10_b', 'mean_d_11_b', 'mean_d_12_b', 'mean_d_13_b', 'mean_d_14_b', 'mean_d_15_b', 'mean_d_16_b', 'mean_d_17_b', 'mean_d_18_b', 'mean_d_19_b', 'mean_d_20_b', 'mean_d_21_b', 'mean_d_22_b', 'mean_d_23_b', 'mean_d_24_b', 'mean_d_25_b', 'mean_d_26_b', 'mean_d_27_b', 'mean_d_28_b', 'mean_d_29_b', 'mean_d_30_b', 'mean_d_31_b', 'mean_d_32_b', 'mean_d_33_b', 'mean_d_34_b', 'mean_d_35_b', 'mean_d_36_b', 'mean_d_37_b', 'mean_d_38_b', 'mean_d_39_b', 'mean_d_40_b', 'mean_d_41_b', 'mean_d_42_b', 'mean_d_43_b', 'mean_d_44_b', 'mean_d_45_b', 'mean_d_46_b', 'mean_d_47_b', 'mean_d_48_b', 'mean_d_49_b', 'stddev_0_b', 'stddev_1_b', 'stddev_2_b', 'stddev_3_b', 'stddev_4_b', 'stddev_d_0_b', 'stddev_d_1_b', 'stddev_d_2_b', 'stddev_d_3_b', 'stddev_d_4_b', 'moments_0_b', 'moments_1_b', 'moments_2_b', 'moments_3_b', 'moments_4_b', 'moments_5_b', 'moments_6_b', 'moments_7_b', 'moments_8_b', 'moments_9_b', 'moments_10_b', 'moments_11_b', 'moments_12_b', 'moments_13_b', 'moments_14_b', 'moments_15_b', 'moments_16_b', 'moments_17_b', 'moments_18_b', 'moments_19_b', 'max_0_b', 'max_1_b', 'max_2_b', 'max_3_b', 'max_4_b', 'max_d_0_b', 'max_d_1_b', 'max_d_2_b', 'max_d_3_b', 'max_d_4_b', 'max_q_0_b', 'max_q_1_b', 'max_q_2_b', 'max_q_3_b', 'max_q_4_b', 'max_q_5_b', 'max_q_6_b', 'max_q_7_b', 'max_q_8_b', 'max_q_9_b', 'max_q_10_b', 'max_q_11_b', 'max_q_12_b', 'max_q_13_b', 'max_q_14_b', 'max_q_15_b', 'max_q_16_b', 'max_q_17_b', 'max_q_18_b', 'max_q_19_b', 'max_q_20_b', 'max_q_21_b', 'max_q_22_b', 'max_q_23_b', 'max_q_24_b', 'max_q_25_b', 'max_q_26_b', 'max_q_27_b', 'max_q_28_b', 'max_q_29_b', 'max_q_30_b', 'max_q_31_b', 'max_q_32_b', 'max_q_33_b', 'max_q_34_b', 'max_q_35_b', 'max_q_36_b', 'max_q_37_b', 'max_q_38_b', 'max_q_39_b', 'max_q_40_b', 'max_q_41_b', 'max_q_42_b', 'max_q_43_b', 'max_q_44_b', 'max_q_45_b', 'max_q_46_b', 'max_q_47_b', 'max_q_48_b', 'max_q_49_b', 'min_0_b', 'min_1_b', 'min_2_b', 'min_3_b', 'min_4_b', 'min_d_0_b', 'min_d_1_b', 'min_d_2_b', 'min_d_3_b', 'min_d_4_b', 'min_q_0_b', 'min_q_1_b', 'min_q_2_b', 'min_q_3_b', 'min_q_4_b', 'min_q_5_b', 'min_q_6_b', 'min_q_7_b', 'min_q_8_b', 'min_q_9_b', 'min_q_10_b', 'min_q_11_b', 'min_q_12_b', 'min_q_13_b', 'min_q_14_b', 'min_q_15_b', 'min_q_16_b', 'min_q_17_b', 'min_q_18_b', 'min_q_19_b', 'min_q_20_b', 'min_q_21_b', 'min_q_22_b', 'min_q_23_b', 'min_q_24_b', 'min_q_25_b', 'min_q_26_b', 'min_q_27_b', 'min_q_28_b', 'min_q_29_b', 'min_q_30_b', 'min_q_31_b', 'min_q_32_b', 'min_q_33_b', 'min_q_34_b', 'min_q_35_b', 'min_q_36_b', 'min_q_37_b', 'min_q_38_b', 'min_q_39_b', 'min_q_40_b', 'min_q_41_b', 'min_q_42_b', 'min_q_43_b', 'min_q_44_b', 'min_q_45_b', 'min_q_46_b', 'min_q_47_b', 'min_q_48_b', 'min_q_49_b', 'covmat_0_b', 'covmat_1_b', 'covmat_2_b', 'covmat_3_b', 'covmat_4_b', 'covmat_5_b', 'covmat_6_b', 'covmat_7_b', 'covmat_8_b', 'covmat_9_b', 'covmat_10_b', 'covmat_11_b', 'covmat_12_b', 'covmat_13_b', 'covmat_14_b', 'covmat_15_b', 'covmat_16_b', 'covmat_17_b', 'covmat_18_b', 'covmat_19_b', 'covmat_20_b', 'covmat_21_b', 'covmat_22_b', 'covmat_23_b', 'covmat_24_b', 'covmat_25_b', 'covmat_26_b', 'covmat_27_b', 'covmat_28_b', 'covmat_29_b', 'covmat_30_b', 'covmat_31_b', 'covmat_32_b', 'covmat_33_b', 'covmat_34_b', 'covmat_35_b', 'covmat_36_b', 'covmat_37_b', 'covmat_38_b', 'covmat_39_b', 'covmat_40_b', 'covmat_41_b', 'covmat_42_b', 'covmat_43_b', 'covmat_44_b', 'covmat_45_b', 'covmat_46_b', 'covmat_47_b', 'covmat_48_b', 'covmat_49_b', 'covmat_50_b', 'covmat_51_b', 'covmat_52_b', 'covmat_53_b', 'covmat_54_b', 'covmat_55_b', 'covmat_56_b', 'covmat_57_b', 'covmat_58_b', 'covmat_59_b', 'covmat_60_b', 'covmat_61_b', 'covmat_62_b', 'covmat_63_b', 'covmat_64_b', 'covmat_65_b', 'covmat_66_b', 'covmat_67_b', 'covmat_68_b', 'covmat_69_b', 'covmat_70_b', 'covmat_71_b', 'covmat_72_b', 'covmat_73_b', 'covmat_74_b', 'covmat_75_b', 'covmat_76_b', 'covmat_77_b', 'covmat_78_b', 'covmat_79_b', 'covmat_80_b', 'covmat_81_b', 'covmat_82_b', 'covmat_83_b', 'covmat_84_b', 'covmat_85_b', 'covmat_86_b', 'covmat_87_b', 'covmat_88_b', 'covmat_89_b', 'covmat_90_b', 'covmat_91_b', 'covmat_92_b', 'covmat_93_b', 'covmat_94_b', 'covmat_95_b', 'covmat_96_b', 'covmat_97_b', 'covmat_98_b', 'covmat_99_b', 'covmat_100_b', 'covmat_101_b', 'covmat_102_b', 'covmat_103_b', 'covmat_104_b', 'covmat_105_b', 'covmat_106_b', 'covmat_107_b', 'covmat_108_b', 'covmat_109_b', 'covmat_110_b', 'covmat_111_b', 'covmat_112_b', 'covmat_113_b', 'covmat_114_b', 'covmat_115_b', 'covmat_116_b', 'covmat_117_b', 'covmat_118_b', 'covmat_119_b', 'covmat_120_b', 'covmat_121_b', 'covmat_122_b', 'covmat_123_b', 'covmat_124_b', 'covmat_125_b', 'covmat_126_b', 'covmat_127_b', 'covmat_128_b', 'covmat_129_b', 'covmat_130_b', 'covmat_131_b', 'covmat_132_b', 'covmat_133_b', 'covmat_134_b', 'covmat_135_b', 'covmat_136_b', 'covmat_137_b', 'covmat_138_b', 'covmat_139_b', 'covmat_140_b', 'covmat_141_b', 'covmat_142_b', 'covmat_143_b', 'eigen_0_b', 'eigen_1_b', 'eigen_2_b', 'eigen_3_b', 'eigen_4_b', 'eigen_5_b', 'eigen_6_b', 'eigen_7_b', 'eigen_8_b', 'eigen_9_b', 'eigen_10_b', 'eigen_11_b', 'logm_0_b', 'logm_1_b', 'logm_2_b', 'logm_3_b', 'logm_4_b', 'logm_5_b', 'logm_6_b', 'logm_7_b', 'logm_8_b', 'logm_9_b', 'logm_10_b', 'logm_11_b', 'logm_12_b', 'logm_13_b', 'logm_14_b', 'logm_15_b', 'logm_16_b', 'logm_17_b', 'logm_18_b', 'logm_19_b', 'logm_20_b', 'logm_21_b', 'logm_22_b', 'logm_23_b', 'logm_24_b', 'logm_25_b', 'logm_26_b', 'logm_27_b', 'logm_28_b', 'logm_29_b', 'logm_30_b', 'logm_31_b', 'logm_32_b', 'logm_33_b', 'logm_34_b', 'logm_35_b', 'logm_36_b', 'logm_37_b', 'logm_38_b', 'logm_39_b', 'logm_40_b', 'logm_41_b', 'logm_42_b', 'logm_43_b', 'logm_44_b', 'logm_45_b', 'logm_46_b', 'logm_47_b', 'logm_48_b', 'logm_49_b', 'logm_50_b', 'logm_51_b', 'logm_52_b', 'logm_53_b', 'logm_54_b', 'logm_55_b', 'logm_56_b', 'logm_57_b', 'logm_58_b', 'logm_59_b', 'logm_60_b', 'logm_61_b', 'logm_62_b', 'logm_63_b', 'logm_64_b', 'logm_65_b', 'logm_66_b', 'logm_67_b', 'logm_68_b', 'logm_69_b', 'logm_70_b', 'logm_71_b', 'logm_72_b', 'logm_73_b', 'logm_74_b', 'logm_75_b', 'logm_76_b', 'logm_77_b', 'entropy0_b', 'entropy1_b', 'entropy2_b', 'entropy3_b', 'entropy4_b', 'correlate_0_b', 'correlate_1_b', 'correlate_2_b', 'correlate_3_b', 'correlate_4_b', 'correlate_5_b', 'correlate_6_b', 'correlate_7_b', 'correlate_8_b', 'correlate_9_b', 'correlate_10_b', 'correlate_11_b', 'correlate_12_b', 'correlate_13_b', 'correlate_14_b', 'correlate_15_b', 'correlate_16_b', 'correlate_17_b', 'correlate_18_b', 'correlate_19_b', 'correlate_20_b', 'correlate_21_b', 'correlate_22_b', 'correlate_23_b', 'correlate_24_b', 'correlate_25_b', 'correlate_26_b', 'correlate_27_b', 'correlate_28_b', 'correlate_29_b', 'correlate_30_b', 'correlate_31_b', 'correlate_32_b', 'correlate_33_b', 'correlate_34_b', 'correlate_35_b', 'correlate_36_b', 'correlate_37_b', 'correlate_38_b', 'correlate_39_b', 'correlate_40_b', 'correlate_41_b', 'correlate_42_b', 'correlate_43_b', 'correlate_44_b', 'correlate_45_b', 'correlate_46_b', 'correlate_47_b', 'correlate_48_b', 'correlate_49_b', 'correlate_50_b', 'correlate_51_b', 'correlate_52_b', 'correlate_53_b', 'correlate_54_b', 'correlate_55_b', 'correlate_56_b', 'correlate_57_b', 'correlate_58_b', 'correlate_59_b', 'correlate_60_b', 'correlate_61_b', 'correlate_62_b', 'correlate_63_b', 'correlate_64_b', 'correlate_65_b', 'correlate_66_b', 'correlate_67_b', 'correlate_68_b', 'correlate_69_b', 'correlate_70_b', 'correlate_71_b', 'correlate_72_b', 'correlate_73_b', 'correlate_74_b', 'fft_0_b', 'fft_1_b', 'fft_2_b', 'fft_3_b', 'fft_4_b', 'fft_5_b', 'fft_6_b', 'fft_7_b', 'fft_8_b', 'fft_9_b', 'fft_10_b', 'fft_11_b', 'fft_12_b', 'fft_13_b', 'fft_14_b', 'fft_15_b', 'fft_16_b', 'fft_17_b', 'fft_18_b', 'fft_19_b', 'fft_20_b', 'fft_21_b', 'fft_22_b', 'fft_23_b', 'fft_24_b', 'fft_25_b', 'fft_26_b', 'fft_27_b', 'fft_28_b', 'fft_29_b', 'fft_30_b', 'fft_31_b', 'fft_32_b', 'fft_33_b', 'fft_34_b', 'fft_35_b', 'fft_36_b', 'fft_37_b', 'fft_38_b', 'fft_39_b', 'fft_40_b', 'fft_41_b', 'fft_42_b', 'fft_43_b', 'fft_44_b', 'fft_45_b', 'fft_46_b', 'fft_47_b', 'fft_48_b', 'fft_49_b', 'fft_50_b', 'fft_51_b', 'fft_52_b', 'fft_53_b', 'fft_54_b', 'fft_55_b', 'fft_56_b', 'fft_57_b', 'fft_58_b', 'fft_59_b', 'fft_60_b', 'fft_61_b', 'fft_62_b', 'fft_63_b', 'fft_64_b', 'fft_65_b', 'fft_66_b', 'fft_67_b', 'fft_68_b', 'fft_69_b', 'fft_70_b', 'fft_71_b', 'fft_72_b', 'fft_73_b', 'fft_74_b', 'fft_75_b', 'fft_76_b', 'fft_77_b', 'fft_78_b', 'fft_79_b', 'fft_80_b', 'fft_81_b', 'fft_82_b', 'fft_83_b', 'fft_84_b', 'fft_85_b', 'fft_86_b', 'fft_87_b', 'fft_88_b', 'fft_89_b', 'fft_90_b', 'fft_91_b', 'fft_92_b', 'fft_93_b', 'fft_94_b', 'fft_95_b', 'fft_96_b', 'fft_97_b', 'fft_98_b', 'fft_99_b', 'fft_100_b', 'fft_101_b', 'fft_102_b', 'fft_103_b', 'fft_104_b', 'fft_105_b', 'fft_106_b', 'fft_107_b', 'fft_108_b', 'fft_109_b', 'fft_110_b', 'fft_111_b', 'fft_112_b', 'fft_113_b', 'fft_114_b', 'fft_115_b', 'fft_116_b', 'fft_117_b', 'fft_118_b', 'fft_119_b', 'fft_120_b', 'fft_121_b', 'fft_122_b', 'fft_123_b', 'fft_124_b', 'fft_125_b', 'fft_126_b', 'fft_127_b', 'fft_128_b', 'fft_129_b', 'fft_130_b', 'fft_131_b', 'fft_132_b', 'fft_133_b', 'fft_134_b', 'fft_135_b', 'fft_136_b', 'fft_137_b', 'fft_138_b', 'fft_139_b', 'fft_140_b', 'fft_141_b', 'fft_142_b', 'fft_143_b', 'fft_144_b', 'fft_145_b', 'fft_146_b', 'fft_147_b', 'fft_148_b', 'fft_149_b', 'fft_150_b', 'fft_151_b', 'fft_152_b', 'fft_153_b', 'fft_154_b', 'fft_155_b', 'fft_156_b', 'fft_157_b', 'fft_158_b', 'fft_159_b', 'fft_160_b', 'fft_161_b', 'fft_162_b', 'fft_163_b', 'fft_164_b', 'fft_165_b', 'fft_166_b', 'fft_167_b', 'fft_168_b', 'fft_169_b', 'fft_170_b', 'fft_171_b', 'fft_172_b', 'fft_173_b', 'fft_174_b', 'fft_175_b', 'fft_176_b', 'fft_177_b', 'fft_178_b', 'fft_179_b', 'fft_180_b', 'fft_181_b', 'fft_182_b', 'fft_183_b', 'fft_184_b', 'fft_185_b', 'fft_186_b', 'fft_187_b', 'fft_188_b', 'fft_189_b', 'fft_190_b', 'fft_191_b', 'fft_192_b', 'fft_193_b', 'fft_194_b', 'fft_195_b', 'fft_196_b', 'fft_197_b', 'fft_198_b', 'fft_199_b', 'fft_200_b', 'fft_201_b', 'fft_202_b', 'fft_203_b', 'fft_204_b', 'fft_205_b', 'fft_206_b', 'fft_207_b', 'fft_208_b', 'fft_209_b', 'fft_210_b', 'fft_211_b', 'fft_212_b', 'fft_213_b', 'fft_214_b', 'fft_215_b', 'fft_216_b', 'fft_217_b', 'fft_218_b', 'fft_219_b', 'fft_220_b', 'fft_221_b', 'fft_222_b', 'fft_223_b', 'fft_224_b', 'fft_225_b', 'fft_226_b', 'fft_227_b', 'fft_228_b', 'fft_229_b', 'fft_230_b', 'fft_231_b', 'fft_232_b', 'fft_233_b', 'fft_234_b', 'fft_235_b', 'fft_236_b', 'fft_237_b', 'fft_238_b', 'fft_239_b', 'fft_240_b', 'fft_241_b', 'fft_242_b', 'fft_243_b', 'fft_244_b', 'fft_245_b', 'fft_246_b', 'fft_247_b', 'fft_248_b', 'fft_249_b', 'fft_250_b', 'fft_251_b', 'fft_252_b', 'fft_253_b', 'fft_254_b', 'fft_255_b', 'fft_256_b', 'fft_257_b', 'fft_258_b', 'fft_259_b', 'fft_260_b', 'fft_261_b', 'fft_262_b', 'fft_263_b', 'fft_264_b', 'fft_265_b', 'fft_266_b', 'fft_267_b', 'fft_268_b', 'fft_269_b', 'fft_270_b', 'fft_271_b', 'fft_272_b', 'fft_273_b', 'fft_274_b', 'fft_275_b', 'fft_276_b', 'fft_277_b', 'fft_278_b', 'fft_279_b', 'fft_280_b', 'fft_281_b', 'fft_282_b', 'fft_283_b', 'fft_284_b', 'fft_285_b', 'fft_286_b', 'fft_287_b', 'fft_288_b', 'fft_289_b', 'fft_290_b', 'fft_291_b', 'fft_292_b', 'fft_293_b', 'fft_294_b', 'fft_295_b', 'fft_296_b', 'fft_297_b', 'fft_298_b', 'fft_299_b', 'fft_300_b', 'fft_301_b', 'fft_302_b', 'fft_303_b', 'fft_304_b', 'fft_305_b', 'fft_306_b', 'fft_307_b', 'fft_308_b', 'fft_309_b', 'fft_310_b', 'fft_311_b', 'fft_312_b', 'fft_313_b', 'fft_314_b', 'fft_315_b', 'fft_316_b', 'fft_317_b', 'fft_318_b', 'fft_319_b', 'fft_320_b', 'fft_321_b', 'fft_322_b', 'fft_323_b', 'fft_324_b', 'fft_325_b', 'fft_326_b', 'fft_327_b', 'fft_328_b', 'fft_329_b', 'fft_330_b', 'fft_331_b', 'fft_332_b', 'fft_333_b', 'fft_334_b', 'fft_335_b', 'fft_336_b', 'fft_337_b', 'fft_338_b', 'fft_339_b', 'fft_340_b', 'fft_341_b', 'fft_342_b', 'fft_343_b', 'fft_344_b', 'fft_345_b', 'fft_346_b', 'fft_347_b', 'fft_348_b', 'fft_349_b', 'fft_350_b', 'fft_351_b', 'fft_352_b', 'fft_353_b', 'fft_354_b', 'fft_355_b', 'fft_356_b', 'fft_357_b', 'fft_358_b', 'fft_359_b', 'fft_360_b', 'fft_361_b', 'fft_362_b', 'fft_363_b', 'fft_364_b', 'fft_365_b', 'fft_366_b', 'fft_367_b', 'fft_368_b', 'fft_369_b', 'fft_370_b', 'fft_371_b', 'fft_372_b', 'fft_373_b', 'fft_374_b', 'fft_375_b', 'fft_376_b', 'fft_377_b', 'fft_378_b', 'fft_379_b', 'fft_380_b', 'fft_381_b', 'fft_382_b', 'fft_383_b', 'fft_384_b', 'fft_385_b', 'fft_386_b', 'fft_387_b', 'fft_388_b', 'fft_389_b', 'fft_390_b', 'fft_391_b', 'fft_392_b', 'fft_393_b', 'fft_394_b', 'fft_395_b', 'fft_396_b', 'fft_397_b', 'fft_398_b', 'fft_399_b', 'fft_400_b', 'fft_401_b', 'fft_402_b', 'fft_403_b', 'fft_404_b', 'fft_405_b', 'fft_406_b', 'fft_407_b', 'fft_408_b', 'fft_409_b', 'fft_410_b', 'fft_411_b', 'fft_412_b', 'fft_413_b', 'fft_414_b', 'fft_415_b', 'fft_416_b', 'fft_417_b', 'fft_418_b', 'fft_419_b', 'fft_420_b', 'fft_421_b', 'fft_422_b', 'fft_423_b', 'fft_424_b', 'fft_425_b', 'fft_426_b', 'fft_427_b', 'fft_428_b', 'fft_429_b', 'fft_430_b', 'fft_431_b', 'fft_432_b', 'fft_433_b', 'fft_434_b', 'fft_435_b', 'fft_436_b', 'fft_437_b', 'fft_438_b', 'fft_439_b', 'fft_440_b', 'fft_441_b', 'fft_442_b', 'fft_443_b', 'fft_444_b', 'fft_445_b', 'fft_446_b', 'fft_447_b', 'fft_448_b', 'fft_449_b', 'fft_450_b', 'fft_451_b', 'fft_452_b', 'fft_453_b', 'fft_454_b', 'fft_455_b', 'fft_456_b', 'fft_457_b', 'fft_458_b', 'fft_459_b', 'fft_460_b', 'fft_461_b', 'fft_462_b', 'fft_463_b', 'fft_464_b', 'fft_465_b', 'fft_466_b', 'fft_467_b', 'fft_468_b', 'fft_469_b', 'fft_470_b', 'fft_471_b', 'fft_472_b', 'fft_473_b', 'fft_474_b', 'fft_475_b', 'fft_476_b', 'fft_477_b', 'fft_478_b', 'fft_479_b', 'fft_480_b', 'fft_481_b', 'fft_482_b', 'fft_483_b', 'fft_484_b', 'fft_485_b', 'fft_486_b', 'fft_487_b', 'fft_488_b', 'fft_489_b', 'fft_490_b', 'fft_491_b', 'fft_492_b', 'fft_493_b', 'fft_494_b', 'fft_495_b', 'fft_496_b', 'fft_497_b', 'fft_498_b', 'fft_499_b', 'fft_500_b', 'fft_501_b', 'fft_502_b', 'fft_503_b', 'fft_504_b', 'fft_505_b', 'fft_506_b', 'fft_507_b', 'fft_508_b', 'fft_509_b', 'fft_510_b', 'fft_511_b', 'fft_512_b', 'fft_513_b', 'fft_514_b', 'fft_515_b', 'fft_516_b', 'fft_517_b', 'fft_518_b', 'fft_519_b', 'fft_520_b', 'fft_521_b', 'fft_522_b', 'fft_523_b', 'fft_524_b', 'fft_525_b', 'fft_526_b', 'fft_527_b', 'fft_528_b', 'fft_529_b', 'fft_530_b', 'fft_531_b', 'fft_532_b', 'fft_533_b', 'fft_534_b', 'fft_535_b', 'fft_536_b', 'fft_537_b', 'fft_538_b', 'fft_539_b', 'fft_540_b', 'fft_541_b', 'fft_542_b', 'fft_543_b', 'fft_544_b', 'fft_545_b', 'fft_546_b', 'fft_547_b', 'fft_548_b', 'fft_549_b', 'fft_550_b', 'fft_551_b', 'fft_552_b', 'fft_553_b', 'fft_554_b', 'fft_555_b', 'fft_556_b', 'fft_557_b', 'fft_558_b', 'fft_559_b', 'fft_560_b', 'fft_561_b', 'fft_562_b', 'fft_563_b', 'fft_564_b', 'fft_565_b', 'fft_566_b', 'fft_567_b', 'fft_568_b', 'fft_569_b', 'fft_570_b', 'fft_571_b', 'fft_572_b', 'fft_573_b', 'fft_574_b', 'fft_575_b', 'fft_576_b', 'fft_577_b', 'fft_578_b', 'fft_579_b', 'fft_580_b', 'fft_581_b', 'fft_582_b', 'fft_583_b', 'fft_584_b', 'fft_585_b', 'fft_586_b', 'fft_587_b', 'fft_588_b', 'fft_589_b', 'fft_590_b', 'fft_591_b', 'fft_592_b', 'fft_593_b', 'fft_594_b', 'fft_595_b', 'fft_596_b', 'fft_597_b', 'fft_598_b', 'fft_599_b', 'fft_600_b', 'fft_601_b', 'fft_602_b', 'fft_603_b', 'fft_604_b', 'fft_605_b', 'fft_606_b', 'fft_607_b', 'fft_608_b', 'fft_609_b', 'fft_610_b', 'fft_611_b', 'fft_612_b', 'fft_613_b', 'fft_614_b', 'fft_615_b', 'fft_616_b', 'fft_617_b', 'fft_618_b', 'fft_619_b', 'fft_620_b', 'fft_621_b', 'fft_622_b', 'fft_623_b', 'fft_624_b', 'fft_625_b', 'fft_626_b', 'fft_627_b', 'fft_628_b', 'fft_629_b', 'fft_630_b', 'fft_631_b', 'fft_632_b', 'fft_633_b', 'fft_634_b', 'fft_635_b', 'fft_636_b', 'fft_637_b', 'fft_638_b', 'fft_639_b', 'fft_640_b', 'fft_641_b', 'fft_642_b', 'fft_643_b', 'fft_644_b', 'fft_645_b', 'fft_646_b', 'fft_647_b', 'fft_648_b', 'fft_649_b', 'fft_650_b', 'fft_651_b', 'fft_652_b', 'fft_653_b', 'fft_654_b', 'fft_655_b', 'fft_656_b', 'fft_657_b', 'fft_658_b', 'fft_659_b', 'fft_660_b', 'fft_661_b', 'fft_662_b', 'fft_663_b', 'fft_664_b', 'fft_665_b', 'fft_666_b', 'fft_667_b', 'fft_668_b', 'fft_669_b', 'fft_670_b', 'fft_671_b', 'fft_672_b', 'fft_673_b', 'fft_674_b', 'fft_675_b', 'fft_676_b', 'fft_677_b', 'fft_678_b', 'fft_679_b', 'fft_680_b', 'fft_681_b', 'fft_682_b', 'fft_683_b', 'fft_684_b', 'fft_685_b', 'fft_686_b', 'fft_687_b', 'fft_688_b', 'fft_689_b', 'fft_690_b', 'fft_691_b', 'fft_692_b', 'fft_693_b', 'fft_694_b', 'fft_695_b', 'fft_696_b', 'fft_697_b', 'fft_698_b', 'fft_699_b', 'fft_700_b', 'fft_701_b', 'fft_702_b', 'fft_703_b', 'fft_704_b', 'fft_705_b', 'fft_706_b', 'fft_707_b', 'fft_708_b', 'fft_709_b', 'fft_710_b', 'fft_711_b', 'fft_712_b', 'fft_713_b', 'fft_714_b', 'fft_715_b', 'fft_716_b', 'fft_717_b', 'fft_718_b', 'fft_719_b', 'fft_720_b', 'fft_721_b', 'fft_722_b', 'fft_723_b', 'fft_724_b', 'fft_725_b', 'fft_726_b', 'fft_727_b', 'fft_728_b', 'fft_729_b', 'fft_730_b', 'fft_731_b', 'fft_732_b', 'fft_733_b', 'fft_734_b', 'fft_735_b', 'fft_736_b', 'fft_737_b', 'fft_738_b', 'fft_739_b', 'fft_740_b', 'fft_741_b', 'fft_742_b', 'fft_743_b', 'fft_744_b', 'fft_745_b', 'fft_746_b', 'fft_747_b', 'fft_748_b', 'fft_749_b', 'label']\n",
            "First 10 columns: ['# mean_0_a', 'mean_1_a', 'mean_2_a', 'mean_3_a', 'mean_4_a', 'mean_d_0_a', 'mean_d_1_a', 'mean_d_2_a', 'mean_d_3_a', 'mean_d_4_a']\n",
            "Last column: label\n",
            "Label mapping: {'NEGATIVE': 0, 'NEUTRAL': 1, 'POSITIVE': 2}\n",
            "Class NEGATIVE: 708 samples\n",
            "Class NEUTRAL: 716 samples\n",
            "Class POSITIVE: 708 samples\n",
            "Original data shape: (2132, 2548)\n",
            "Class distribution: [708 716 708]\n",
            "Label mapping: {'NEGATIVE': 0, 'NEUTRAL': 1, 'POSITIVE': 2}\n",
            "Applying frequency band filtering...\n",
            "Filtered data shape: (2132, 2548)\n",
            "Data normalized. Mean: 3710890541056.0000, Std: 69597327785984.0000\n",
            "Train set: (1705, 1, 1, 2548), Validation set: (427, 1, 1, 2548)\n",
            "Starting training...\n"
          ]
        },
        {
          "output_type": "stream",
          "name": "stderr",
          "text": [
            "Epoch 01 [train]: 100%|██████████| 27/27 [00:00<00:00, 92.28it/s]\n"
          ]
        },
        {
          "output_type": "stream",
          "name": "stdout",
          "text": [
            "Epoch 01 | Train Loss: 1.0590 | Val Loss: 0.9904 | Val F1: 0.5073 | Val Acc: 0.6347\n",
            "New best model saved with F1: 0.5073, Acc: 0.6347\n"
          ]
        },
        {
          "output_type": "stream",
          "name": "stderr",
          "text": [
            "Epoch 02 [train]: 100%|██████████| 27/27 [00:00<00:00, 144.00it/s]\n"
          ]
        },
        {
          "output_type": "stream",
          "name": "stdout",
          "text": [
            "Epoch 02 | Train Loss: 0.9547 | Val Loss: 0.8653 | Val F1: 0.6801 | Val Acc: 0.7166\n",
            "New best model saved with F1: 0.6801, Acc: 0.7166\n"
          ]
        },
        {
          "output_type": "stream",
          "name": "stderr",
          "text": [
            "Epoch 03 [train]: 100%|██████████| 27/27 [00:00<00:00, 129.00it/s]\n"
          ]
        },
        {
          "output_type": "stream",
          "name": "stdout",
          "text": [
            "Epoch 03 | Train Loss: 0.8418 | Val Loss: 0.7373 | Val F1: 0.6974 | Val Acc: 0.7166\n",
            "New best model saved with F1: 0.6974, Acc: 0.7166\n"
          ]
        },
        {
          "output_type": "stream",
          "name": "stderr",
          "text": [
            "Epoch 04 [train]: 100%|██████████| 27/27 [00:00<00:00, 165.93it/s]\n"
          ]
        },
        {
          "output_type": "stream",
          "name": "stdout",
          "text": [
            "Epoch 04 | Train Loss: 0.7130 | Val Loss: 0.5999 | Val F1: 0.7492 | Val Acc: 0.7658\n",
            "New best model saved with F1: 0.7492, Acc: 0.7658\n"
          ]
        },
        {
          "output_type": "stream",
          "name": "stderr",
          "text": [
            "Epoch 05 [train]: 100%|██████████| 27/27 [00:00<00:00, 177.37it/s]\n"
          ]
        },
        {
          "output_type": "stream",
          "name": "stdout",
          "text": [
            "Epoch 05 | Train Loss: 0.5767 | Val Loss: 0.4681 | Val F1: 0.8331 | Val Acc: 0.8384\n",
            "New best model saved with F1: 0.8331, Acc: 0.8384\n"
          ]
        },
        {
          "output_type": "stream",
          "name": "stderr",
          "text": [
            "Epoch 06 [train]: 100%|██████████| 27/27 [00:00<00:00, 109.90it/s]\n"
          ]
        },
        {
          "output_type": "stream",
          "name": "stdout",
          "text": [
            "Epoch 06 | Train Loss: 0.4659 | Val Loss: 0.3817 | Val F1: 0.8761 | Val Acc: 0.8759\n",
            "New best model saved with F1: 0.8761, Acc: 0.8759\n"
          ]
        },
        {
          "output_type": "stream",
          "name": "stderr",
          "text": [
            "Epoch 07 [train]: 100%|██████████| 27/27 [00:00<00:00, 172.01it/s]\n"
          ]
        },
        {
          "output_type": "stream",
          "name": "stdout",
          "text": [
            "Epoch 07 | Train Loss: 0.3958 | Val Loss: 0.3249 | Val F1: 0.8853 | Val Acc: 0.8852\n",
            "New best model saved with F1: 0.8853, Acc: 0.8852\n"
          ]
        },
        {
          "output_type": "stream",
          "name": "stderr",
          "text": [
            "Epoch 08 [train]: 100%|██████████| 27/27 [00:00<00:00, 141.35it/s]\n"
          ]
        },
        {
          "output_type": "stream",
          "name": "stdout",
          "text": [
            "Epoch 08 | Train Loss: 0.3605 | Val Loss: 0.2882 | Val F1: 0.8874 | Val Acc: 0.8876\n",
            "New best model saved with F1: 0.8874, Acc: 0.8876\n"
          ]
        },
        {
          "output_type": "stream",
          "name": "stderr",
          "text": [
            "Epoch 09 [train]: 100%|██████████| 27/27 [00:00<00:00, 154.75it/s]\n"
          ]
        },
        {
          "output_type": "stream",
          "name": "stdout",
          "text": [
            "Epoch 09 | Train Loss: 0.3330 | Val Loss: 0.2738 | Val F1: 0.8988 | Val Acc: 0.8993\n",
            "New best model saved with F1: 0.8988, Acc: 0.8993\n"
          ]
        },
        {
          "output_type": "stream",
          "name": "stderr",
          "text": [
            "Epoch 10 [train]: 100%|██████████| 27/27 [00:00<00:00, 119.19it/s]\n"
          ]
        },
        {
          "output_type": "stream",
          "name": "stdout",
          "text": [
            "Epoch 10 | Train Loss: 0.3325 | Val Loss: 0.2703 | Val F1: 0.9031 | Val Acc: 0.9040\n",
            "New best model saved with F1: 0.9031, Acc: 0.9040\n"
          ]
        },
        {
          "output_type": "stream",
          "name": "stderr",
          "text": [
            "Epoch 11 [train]: 100%|██████████| 27/27 [00:00<00:00, 174.91it/s]\n"
          ]
        },
        {
          "output_type": "stream",
          "name": "stdout",
          "text": [
            "Epoch 11 | Train Loss: 0.3057 | Val Loss: 0.2977 | Val F1: 0.8942 | Val Acc: 0.8946\n",
            "No improvement for 1 epochs\n"
          ]
        },
        {
          "output_type": "stream",
          "name": "stderr",
          "text": [
            "Epoch 12 [train]: 100%|██████████| 27/27 [00:00<00:00, 143.46it/s]\n"
          ]
        },
        {
          "output_type": "stream",
          "name": "stdout",
          "text": [
            "Epoch 12 | Train Loss: 0.3133 | Val Loss: 0.2584 | Val F1: 0.9010 | Val Acc: 0.9016\n",
            "No improvement for 2 epochs\n"
          ]
        },
        {
          "output_type": "stream",
          "name": "stderr",
          "text": [
            "Epoch 13 [train]: 100%|██████████| 27/27 [00:00<00:00, 115.78it/s]\n"
          ]
        },
        {
          "output_type": "stream",
          "name": "stdout",
          "text": [
            "Epoch 13 | Train Loss: 0.2982 | Val Loss: 0.2559 | Val F1: 0.8965 | Val Acc: 0.8970\n",
            "No improvement for 3 epochs\n"
          ]
        },
        {
          "output_type": "stream",
          "name": "stderr",
          "text": [
            "Epoch 14 [train]: 100%|██████████| 27/27 [00:00<00:00, 155.21it/s]\n"
          ]
        },
        {
          "output_type": "stream",
          "name": "stdout",
          "text": [
            "Epoch 14 | Train Loss: 0.2874 | Val Loss: 0.2500 | Val F1: 0.9055 | Val Acc: 0.9063\n",
            "New best model saved with F1: 0.9055, Acc: 0.9063\n"
          ]
        },
        {
          "output_type": "stream",
          "name": "stderr",
          "text": [
            "Epoch 15 [train]: 100%|██████████| 27/27 [00:00<00:00, 143.08it/s]\n"
          ]
        },
        {
          "output_type": "stream",
          "name": "stdout",
          "text": [
            "Epoch 15 | Train Loss: 0.2840 | Val Loss: 0.2436 | Val F1: 0.9056 | Val Acc: 0.9063\n",
            "New best model saved with F1: 0.9056, Acc: 0.9063\n"
          ]
        },
        {
          "output_type": "stream",
          "name": "stderr",
          "text": [
            "Epoch 16 [train]: 100%|██████████| 27/27 [00:00<00:00, 130.70it/s]\n"
          ]
        },
        {
          "output_type": "stream",
          "name": "stdout",
          "text": [
            "Epoch 16 | Train Loss: 0.2824 | Val Loss: 0.2367 | Val F1: 0.9056 | Val Acc: 0.9063\n",
            "No improvement for 1 epochs\n"
          ]
        },
        {
          "output_type": "stream",
          "name": "stderr",
          "text": [
            "Epoch 17 [train]: 100%|██████████| 27/27 [00:00<00:00, 106.45it/s]\n"
          ]
        },
        {
          "output_type": "stream",
          "name": "stdout",
          "text": [
            "Epoch 17 | Train Loss: 0.2751 | Val Loss: 0.2333 | Val F1: 0.9080 | Val Acc: 0.9087\n",
            "New best model saved with F1: 0.9080, Acc: 0.9087\n"
          ]
        },
        {
          "output_type": "stream",
          "name": "stderr",
          "text": [
            "Epoch 18 [train]: 100%|██████████| 27/27 [00:00<00:00, 98.82it/s]\n"
          ]
        },
        {
          "output_type": "stream",
          "name": "stdout",
          "text": [
            "Epoch 18 | Train Loss: 0.2670 | Val Loss: 0.2422 | Val F1: 0.9010 | Val Acc: 0.9016\n",
            "No improvement for 1 epochs\n"
          ]
        },
        {
          "output_type": "stream",
          "name": "stderr",
          "text": [
            "Epoch 19 [train]: 100%|██████████| 27/27 [00:00<00:00, 78.01it/s]\n"
          ]
        },
        {
          "output_type": "stream",
          "name": "stdout",
          "text": [
            "Epoch 19 | Train Loss: 0.2683 | Val Loss: 0.2292 | Val F1: 0.8966 | Val Acc: 0.8970\n",
            "No improvement for 2 epochs\n"
          ]
        },
        {
          "output_type": "stream",
          "name": "stderr",
          "text": [
            "Epoch 20 [train]: 100%|██████████| 27/27 [00:00<00:00, 98.26it/s] \n"
          ]
        },
        {
          "output_type": "stream",
          "name": "stdout",
          "text": [
            "Epoch 20 | Train Loss: 0.2993 | Val Loss: 0.2284 | Val F1: 0.9079 | Val Acc: 0.9087\n",
            "No improvement for 3 epochs\n"
          ]
        },
        {
          "output_type": "stream",
          "name": "stderr",
          "text": [
            "Epoch 21 [train]: 100%|██████████| 27/27 [00:00<00:00, 99.60it/s]\n"
          ]
        },
        {
          "output_type": "stream",
          "name": "stdout",
          "text": [
            "Epoch 21 | Train Loss: 0.2589 | Val Loss: 0.2255 | Val F1: 0.9079 | Val Acc: 0.9087\n",
            "No improvement for 4 epochs\n"
          ]
        },
        {
          "output_type": "stream",
          "name": "stderr",
          "text": [
            "Epoch 22 [train]: 100%|██████████| 27/27 [00:00<00:00, 118.36it/s]\n"
          ]
        },
        {
          "output_type": "stream",
          "name": "stdout",
          "text": [
            "Epoch 22 | Train Loss: 0.2612 | Val Loss: 0.2179 | Val F1: 0.9080 | Val Acc: 0.9087\n",
            "No improvement for 5 epochs\n",
            "Early stopping triggered after 22 epochs\n",
            "Training complete!\n",
            "Best validation F1: 0.9080, Accuracy: 0.9087\n",
            "Training curves saved to /content/drive/MyDrive/data/training_curves.png\n"
          ]
        },
        {
          "output_type": "display_data",
          "data": {
            "text/plain": [
              "<Figure size 1200x600 with 1 Axes>"
            ],
            "image/png": "[encoded data removed]"
          },
          "metadata": {}
        },
        {
          "output_type": "display_data",
          "data": {
            "text/plain": [
              "<Figure size 1500x500 with 3 Axes>"
            ],
            "image/png": "[encoded data removed]"
          },
          "metadata": {}
        },
        {
          "output_type": "stream",
          "name": "stdout",
          "text": [
            "Confusion matrix saved to /content/drive/MyDrive/data/confusion_matrix.png\n"
          ]
        },
        {
          "output_type": "display_data",
          "data": {
            "text/plain": [
              "<Figure size 800x600 with 0 Axes>"
            ]
          },
          "metadata": {}
        },
        {
          "output_type": "display_data",
          "data": {
            "text/plain": [
              "<Figure size 640x480 with 2 Axes>"
            ],
            "image/png": "[encoded data removed]"
          },
          "metadata": {}
        }
      ]
    },
    {
      "cell_type": "markdown",
      "source": [
        "# Define NN Model(have Batch Normalization)"
      ],
      "metadata": {
        "id": "44ValdEnef-7"
      }
    },
    {
      "cell_type": "code",
      "source": [
        "class TinyTSceptionWithNormalization(nn.Module):\n",
        "    def __init__(self, feat_dim, classes):\n",
        "        super().__init__()\n",
        "        self.conv = nn.Sequential(\n",
        "            nn.Conv2d(1, 16, kernel_size=(1, 3), padding=(0, 1)),\n",
        "            nn.ReLU(),\n",
        "            nn.BatchNorm2d(16),  # Batch Normalization\n",
        "            nn.Conv2d(16, 32, kernel_size=(1, 15), padding=(0, 7)),\n",
        "            nn.ReLU(),\n",
        "            nn.BatchNorm2d(32),\n",
        "            nn.AdaptiveAvgPool2d((1, 1))\n",
        "        )\n",
        "        self.fc = nn.Linear(32, classes)\n",
        "\n",
        "    def forward(self, x):\n",
        "        x = self.conv(x)\n",
        "        x = x.view(x.size(0), -1)  # output\n",
        "        return self.fc(x)  # Output classification results"
      ],
      "metadata": {
        "id": "wGx3SCEpeWW4"
      },
      "execution_count": 18,
      "outputs": []
    },
    {
      "cell_type": "code",
      "source": [
        "device = torch.device('cuda' if torch.cuda.is_available() else 'cpu')\n",
        "model = TinyTSceptionWithNormalization(input_dim, num_classes).to(device)\n",
        "\n",
        "criterion = nn.CrossEntropyLoss()\n",
        "optimizer = optim.Adam(model.parameters(), lr=1e-3)\n",
        "\n",
        "best_f1 = 0.0\n",
        "best_acc = 0.0\n",
        "EPOCHS = 50\n",
        "\n",
        "for epoch in range(1, EPOCHS + 1):\n",
        "    model.train()\n",
        "    for xb, yb in tqdm(dl_tr, desc=f\"Epoch {epoch:02d} [train]\"):\n",
        "        xb, yb = xb.to(device), yb.to(device)\n",
        "        optimizer.zero_grad()\n",
        "        logits = model(xb)\n",
        "        loss = criterion(logits, yb)\n",
        "        loss.backward()\n",
        "        optimizer.step()\n",
        "\n",
        "    model.eval()\n",
        "    preds, gold = [], []\n",
        "    with torch.no_grad():\n",
        "        for xb, yb in dl_val:\n",
        "            xb, yb = xb.to(device), yb.to(device)\n",
        "            logits = model(xb)\n",
        "            preds.extend(logits.argmax(1).cpu().numpy())\n",
        "            gold.extend(yb.cpu().numpy())\n",
        "\n",
        "    val_f1 = f1_score(gold, preds, average='macro')\n",
        "    val_acc = accuracy_score(gold, preds)\n",
        "    print(f\"Epoch {epoch:02d}  val_acc={val_acc:.3f}  val_f1={val_f1:.3f}\")\n",
        "\n",
        "    if val_f1 > best_f1:\n",
        "        best_f1 = val_f1\n",
        "        best_acc = val_acc\n",
        "        torch.save(model.state_dict(), os.path.join(project_dir, 'best_day2.pth'))\n",
        "        print(\"New best model saved\")\n",
        "\n",
        "print(f\"Best validation accuracy: {best_acc:.3f}\")\n",
        "print(f\"Best validation F1 score: {best_f1:.3f}\")"
      ],
      "metadata": {
        "colab": {
          "base_uri": "https://localhost:8080/"
        },
        "id": "7XePNFY6gO3S",
        "outputId": "e91b4454-d8b4-4acd-a67d-5b8fb2a460d2"
      },
      "execution_count": 19,
      "outputs": [
        {
          "output_type": "stream",
          "name": "stderr",
          "text": [
            "Epoch 01 [train]: 100%|██████████| 27/27 [00:00<00:00, 111.90it/s]\n"
          ]
        },
        {
          "output_type": "stream",
          "name": "stdout",
          "text": [
            "Epoch 01  val_acc=0.888  val_f1=0.886\n",
            "New best model saved\n"
          ]
        },
        {
          "output_type": "stream",
          "name": "stderr",
          "text": [
            "Epoch 02 [train]: 100%|██████████| 27/27 [00:00<00:00, 157.15it/s]\n"
          ]
        },
        {
          "output_type": "stream",
          "name": "stdout",
          "text": [
            "Epoch 02  val_acc=0.883  val_f1=0.880\n"
          ]
        },
        {
          "output_type": "stream",
          "name": "stderr",
          "text": [
            "Epoch 03 [train]: 100%|██████████| 27/27 [00:00<00:00, 171.09it/s]\n"
          ]
        },
        {
          "output_type": "stream",
          "name": "stdout",
          "text": [
            "Epoch 03  val_acc=0.888  val_f1=0.885\n"
          ]
        },
        {
          "output_type": "stream",
          "name": "stderr",
          "text": [
            "Epoch 04 [train]: 100%|██████████| 27/27 [00:00<00:00, 167.55it/s]\n"
          ]
        },
        {
          "output_type": "stream",
          "name": "stdout",
          "text": [
            "Epoch 04  val_acc=0.897  val_f1=0.895\n",
            "New best model saved\n"
          ]
        },
        {
          "output_type": "stream",
          "name": "stderr",
          "text": [
            "Epoch 05 [train]: 100%|██████████| 27/27 [00:00<00:00, 114.11it/s]\n"
          ]
        },
        {
          "output_type": "stream",
          "name": "stdout",
          "text": [
            "Epoch 05  val_acc=0.911  val_f1=0.910\n",
            "New best model saved\n"
          ]
        },
        {
          "output_type": "stream",
          "name": "stderr",
          "text": [
            "Epoch 06 [train]: 100%|██████████| 27/27 [00:00<00:00, 143.87it/s]\n"
          ]
        },
        {
          "output_type": "stream",
          "name": "stdout",
          "text": [
            "Epoch 06  val_acc=0.920  val_f1=0.920\n",
            "New best model saved\n"
          ]
        },
        {
          "output_type": "stream",
          "name": "stderr",
          "text": [
            "Epoch 07 [train]: 100%|██████████| 27/27 [00:00<00:00, 139.57it/s]\n"
          ]
        },
        {
          "output_type": "stream",
          "name": "stdout",
          "text": [
            "Epoch 07  val_acc=0.916  val_f1=0.915\n"
          ]
        },
        {
          "output_type": "stream",
          "name": "stderr",
          "text": [
            "Epoch 08 [train]: 100%|██████████| 27/27 [00:00<00:00, 150.81it/s]\n"
          ]
        },
        {
          "output_type": "stream",
          "name": "stdout",
          "text": [
            "Epoch 08  val_acc=0.932  val_f1=0.932\n",
            "New best model saved\n"
          ]
        },
        {
          "output_type": "stream",
          "name": "stderr",
          "text": [
            "Epoch 09 [train]: 100%|██████████| 27/27 [00:00<00:00, 151.70it/s]\n"
          ]
        },
        {
          "output_type": "stream",
          "name": "stdout",
          "text": [
            "Epoch 09  val_acc=0.932  val_f1=0.932\n"
          ]
        },
        {
          "output_type": "stream",
          "name": "stderr",
          "text": [
            "Epoch 10 [train]: 100%|██████████| 27/27 [00:00<00:00, 143.95it/s]\n"
          ]
        },
        {
          "output_type": "stream",
          "name": "stdout",
          "text": [
            "Epoch 10  val_acc=0.930  val_f1=0.929\n"
          ]
        },
        {
          "output_type": "stream",
          "name": "stderr",
          "text": [
            "Epoch 11 [train]: 100%|██████████| 27/27 [00:00<00:00, 148.71it/s]\n"
          ]
        },
        {
          "output_type": "stream",
          "name": "stdout",
          "text": [
            "Epoch 11  val_acc=0.939  val_f1=0.939\n",
            "New best model saved\n"
          ]
        },
        {
          "output_type": "stream",
          "name": "stderr",
          "text": [
            "Epoch 12 [train]: 100%|██████████| 27/27 [00:00<00:00, 147.03it/s]\n"
          ]
        },
        {
          "output_type": "stream",
          "name": "stdout",
          "text": [
            "Epoch 12  val_acc=0.944  val_f1=0.943\n",
            "New best model saved\n"
          ]
        },
        {
          "output_type": "stream",
          "name": "stderr",
          "text": [
            "Epoch 13 [train]: 100%|██████████| 27/27 [00:00<00:00, 118.19it/s]\n"
          ]
        },
        {
          "output_type": "stream",
          "name": "stdout",
          "text": [
            "Epoch 13  val_acc=0.948  val_f1=0.948\n",
            "New best model saved\n"
          ]
        },
        {
          "output_type": "stream",
          "name": "stderr",
          "text": [
            "Epoch 14 [train]: 100%|██████████| 27/27 [00:00<00:00, 169.91it/s]\n"
          ]
        },
        {
          "output_type": "stream",
          "name": "stdout",
          "text": [
            "Epoch 14  val_acc=0.939  val_f1=0.939\n"
          ]
        },
        {
          "output_type": "stream",
          "name": "stderr",
          "text": [
            "Epoch 15 [train]: 100%|██████████| 27/27 [00:00<00:00, 166.71it/s]\n"
          ]
        },
        {
          "output_type": "stream",
          "name": "stdout",
          "text": [
            "Epoch 15  val_acc=0.946  val_f1=0.946\n"
          ]
        },
        {
          "output_type": "stream",
          "name": "stderr",
          "text": [
            "Epoch 16 [train]: 100%|██████████| 27/27 [00:00<00:00, 140.18it/s]\n"
          ]
        },
        {
          "output_type": "stream",
          "name": "stdout",
          "text": [
            "Epoch 16  val_acc=0.930  val_f1=0.930\n"
          ]
        },
        {
          "output_type": "stream",
          "name": "stderr",
          "text": [
            "Epoch 17 [train]: 100%|██████████| 27/27 [00:00<00:00, 169.84it/s]\n"
          ]
        },
        {
          "output_type": "stream",
          "name": "stdout",
          "text": [
            "Epoch 17  val_acc=0.941  val_f1=0.941\n"
          ]
        },
        {
          "output_type": "stream",
          "name": "stderr",
          "text": [
            "Epoch 18 [train]: 100%|██████████| 27/27 [00:00<00:00, 122.41it/s]\n"
          ]
        },
        {
          "output_type": "stream",
          "name": "stdout",
          "text": [
            "Epoch 18  val_acc=0.951  val_f1=0.951\n",
            "New best model saved\n"
          ]
        },
        {
          "output_type": "stream",
          "name": "stderr",
          "text": [
            "Epoch 19 [train]: 100%|██████████| 27/27 [00:00<00:00, 133.52it/s]\n"
          ]
        },
        {
          "output_type": "stream",
          "name": "stdout",
          "text": [
            "Epoch 19  val_acc=0.953  val_f1=0.953\n",
            "New best model saved\n"
          ]
        },
        {
          "output_type": "stream",
          "name": "stderr",
          "text": [
            "Epoch 20 [train]: 100%|██████████| 27/27 [00:00<00:00, 100.61it/s]\n"
          ]
        },
        {
          "output_type": "stream",
          "name": "stdout",
          "text": [
            "Epoch 20  val_acc=0.963  val_f1=0.962\n",
            "New best model saved\n"
          ]
        },
        {
          "output_type": "stream",
          "name": "stderr",
          "text": [
            "Epoch 21 [train]: 100%|██████████| 27/27 [00:00<00:00, 130.24it/s]\n"
          ]
        },
        {
          "output_type": "stream",
          "name": "stdout",
          "text": [
            "Epoch 21  val_acc=0.960  val_f1=0.960\n"
          ]
        },
        {
          "output_type": "stream",
          "name": "stderr",
          "text": [
            "Epoch 22 [train]: 100%|██████████| 27/27 [00:00<00:00, 170.52it/s]\n"
          ]
        },
        {
          "output_type": "stream",
          "name": "stdout",
          "text": [
            "Epoch 22  val_acc=0.948  val_f1=0.948\n"
          ]
        },
        {
          "output_type": "stream",
          "name": "stderr",
          "text": [
            "Epoch 23 [train]: 100%|██████████| 27/27 [00:00<00:00, 167.48it/s]\n"
          ]
        },
        {
          "output_type": "stream",
          "name": "stdout",
          "text": [
            "Epoch 23  val_acc=0.958  val_f1=0.958\n"
          ]
        },
        {
          "output_type": "stream",
          "name": "stderr",
          "text": [
            "Epoch 24 [train]: 100%|██████████| 27/27 [00:00<00:00, 167.44it/s]\n"
          ]
        },
        {
          "output_type": "stream",
          "name": "stdout",
          "text": [
            "Epoch 24  val_acc=0.946  val_f1=0.946\n"
          ]
        },
        {
          "output_type": "stream",
          "name": "stderr",
          "text": [
            "Epoch 25 [train]: 100%|██████████| 27/27 [00:00<00:00, 133.04it/s]\n"
          ]
        },
        {
          "output_type": "stream",
          "name": "stdout",
          "text": [
            "Epoch 25  val_acc=0.958  val_f1=0.958\n"
          ]
        },
        {
          "output_type": "stream",
          "name": "stderr",
          "text": [
            "Epoch 26 [train]: 100%|██████████| 27/27 [00:00<00:00, 137.77it/s]\n"
          ]
        },
        {
          "output_type": "stream",
          "name": "stdout",
          "text": [
            "Epoch 26  val_acc=0.965  val_f1=0.965\n",
            "New best model saved\n"
          ]
        },
        {
          "output_type": "stream",
          "name": "stderr",
          "text": [
            "Epoch 27 [train]: 100%|██████████| 27/27 [00:00<00:00, 111.56it/s]\n"
          ]
        },
        {
          "output_type": "stream",
          "name": "stdout",
          "text": [
            "Epoch 27  val_acc=0.960  val_f1=0.960\n"
          ]
        },
        {
          "output_type": "stream",
          "name": "stderr",
          "text": [
            "Epoch 28 [train]: 100%|██████████| 27/27 [00:00<00:00, 128.89it/s]\n"
          ]
        },
        {
          "output_type": "stream",
          "name": "stdout",
          "text": [
            "Epoch 28  val_acc=0.960  val_f1=0.960\n"
          ]
        },
        {
          "output_type": "stream",
          "name": "stderr",
          "text": [
            "Epoch 29 [train]: 100%|██████████| 27/27 [00:00<00:00, 146.17it/s]\n"
          ]
        },
        {
          "output_type": "stream",
          "name": "stdout",
          "text": [
            "Epoch 29  val_acc=0.963  val_f1=0.962\n"
          ]
        },
        {
          "output_type": "stream",
          "name": "stderr",
          "text": [
            "Epoch 30 [train]: 100%|██████████| 27/27 [00:00<00:00, 141.32it/s]\n"
          ]
        },
        {
          "output_type": "stream",
          "name": "stdout",
          "text": [
            "Epoch 30  val_acc=0.960  val_f1=0.960\n"
          ]
        },
        {
          "output_type": "stream",
          "name": "stderr",
          "text": [
            "Epoch 31 [train]: 100%|██████████| 27/27 [00:00<00:00, 167.99it/s]\n"
          ]
        },
        {
          "output_type": "stream",
          "name": "stdout",
          "text": [
            "Epoch 31  val_acc=0.960  val_f1=0.960\n"
          ]
        },
        {
          "output_type": "stream",
          "name": "stderr",
          "text": [
            "Epoch 32 [train]: 100%|██████████| 27/27 [00:00<00:00, 165.89it/s]\n"
          ]
        },
        {
          "output_type": "stream",
          "name": "stdout",
          "text": [
            "Epoch 32  val_acc=0.963  val_f1=0.962\n"
          ]
        },
        {
          "output_type": "stream",
          "name": "stderr",
          "text": [
            "Epoch 33 [train]: 100%|██████████| 27/27 [00:00<00:00, 130.49it/s]\n"
          ]
        },
        {
          "output_type": "stream",
          "name": "stdout",
          "text": [
            "Epoch 33  val_acc=0.963  val_f1=0.962\n"
          ]
        },
        {
          "output_type": "stream",
          "name": "stderr",
          "text": [
            "Epoch 34 [train]: 100%|██████████| 27/27 [00:00<00:00, 159.52it/s]\n"
          ]
        },
        {
          "output_type": "stream",
          "name": "stdout",
          "text": [
            "Epoch 34  val_acc=0.965  val_f1=0.965\n"
          ]
        },
        {
          "output_type": "stream",
          "name": "stderr",
          "text": [
            "Epoch 35 [train]: 100%|██████████| 27/27 [00:00<00:00, 129.51it/s]\n"
          ]
        },
        {
          "output_type": "stream",
          "name": "stdout",
          "text": [
            "Epoch 35  val_acc=0.965  val_f1=0.965\n"
          ]
        },
        {
          "output_type": "stream",
          "name": "stderr",
          "text": [
            "Epoch 36 [train]: 100%|██████████| 27/27 [00:00<00:00, 120.28it/s]\n"
          ]
        },
        {
          "output_type": "stream",
          "name": "stdout",
          "text": [
            "Epoch 36  val_acc=0.965  val_f1=0.965\n"
          ]
        },
        {
          "output_type": "stream",
          "name": "stderr",
          "text": [
            "Epoch 37 [train]: 100%|██████████| 27/27 [00:00<00:00, 159.75it/s]\n"
          ]
        },
        {
          "output_type": "stream",
          "name": "stdout",
          "text": [
            "Epoch 37  val_acc=0.960  val_f1=0.960\n"
          ]
        },
        {
          "output_type": "stream",
          "name": "stderr",
          "text": [
            "Epoch 38 [train]: 100%|██████████| 27/27 [00:00<00:00, 159.42it/s]\n"
          ]
        },
        {
          "output_type": "stream",
          "name": "stdout",
          "text": [
            "Epoch 38  val_acc=0.965  val_f1=0.965\n",
            "New best model saved\n"
          ]
        },
        {
          "output_type": "stream",
          "name": "stderr",
          "text": [
            "Epoch 39 [train]: 100%|██████████| 27/27 [00:00<00:00, 81.55it/s]\n"
          ]
        },
        {
          "output_type": "stream",
          "name": "stdout",
          "text": [
            "Epoch 39  val_acc=0.970  val_f1=0.970\n",
            "New best model saved\n"
          ]
        },
        {
          "output_type": "stream",
          "name": "stderr",
          "text": [
            "Epoch 40 [train]: 100%|██████████| 27/27 [00:00<00:00, 61.04it/s]\n"
          ]
        },
        {
          "output_type": "stream",
          "name": "stdout",
          "text": [
            "Epoch 40  val_acc=0.970  val_f1=0.969\n"
          ]
        },
        {
          "output_type": "stream",
          "name": "stderr",
          "text": [
            "Epoch 41 [train]: 100%|██████████| 27/27 [00:00<00:00, 65.31it/s]\n"
          ]
        },
        {
          "output_type": "stream",
          "name": "stdout",
          "text": [
            "Epoch 41  val_acc=0.965  val_f1=0.965\n"
          ]
        },
        {
          "output_type": "stream",
          "name": "stderr",
          "text": [
            "Epoch 42 [train]: 100%|██████████| 27/27 [00:00<00:00, 63.85it/s]\n"
          ]
        },
        {
          "output_type": "stream",
          "name": "stdout",
          "text": [
            "Epoch 42  val_acc=0.963  val_f1=0.962\n"
          ]
        },
        {
          "output_type": "stream",
          "name": "stderr",
          "text": [
            "Epoch 43 [train]: 100%|██████████| 27/27 [00:00<00:00, 58.40it/s]\n"
          ]
        },
        {
          "output_type": "stream",
          "name": "stdout",
          "text": [
            "Epoch 43  val_acc=0.967  val_f1=0.967\n"
          ]
        },
        {
          "output_type": "stream",
          "name": "stderr",
          "text": [
            "Epoch 44 [train]: 100%|██████████| 27/27 [00:00<00:00, 71.30it/s]\n"
          ]
        },
        {
          "output_type": "stream",
          "name": "stdout",
          "text": [
            "Epoch 44  val_acc=0.967  val_f1=0.967\n"
          ]
        },
        {
          "output_type": "stream",
          "name": "stderr",
          "text": [
            "Epoch 45 [train]: 100%|██████████| 27/27 [00:00<00:00, 88.67it/s]\n"
          ]
        },
        {
          "output_type": "stream",
          "name": "stdout",
          "text": [
            "Epoch 45  val_acc=0.967  val_f1=0.967\n"
          ]
        },
        {
          "output_type": "stream",
          "name": "stderr",
          "text": [
            "Epoch 46 [train]: 100%|██████████| 27/27 [00:00<00:00, 104.33it/s]\n"
          ]
        },
        {
          "output_type": "stream",
          "name": "stdout",
          "text": [
            "Epoch 46  val_acc=0.967  val_f1=0.967\n"
          ]
        },
        {
          "output_type": "stream",
          "name": "stderr",
          "text": [
            "Epoch 47 [train]: 100%|██████████| 27/27 [00:00<00:00, 97.79it/s] \n"
          ]
        },
        {
          "output_type": "stream",
          "name": "stdout",
          "text": [
            "Epoch 47  val_acc=0.974  val_f1=0.974\n",
            "New best model saved\n"
          ]
        },
        {
          "output_type": "stream",
          "name": "stderr",
          "text": [
            "Epoch 48 [train]: 100%|██████████| 27/27 [00:00<00:00, 72.59it/s]\n"
          ]
        },
        {
          "output_type": "stream",
          "name": "stdout",
          "text": [
            "Epoch 48  val_acc=0.970  val_f1=0.970\n"
          ]
        },
        {
          "output_type": "stream",
          "name": "stderr",
          "text": [
            "Epoch 49 [train]: 100%|██████████| 27/27 [00:00<00:00, 121.70it/s]\n"
          ]
        },
        {
          "output_type": "stream",
          "name": "stdout",
          "text": [
            "Epoch 49  val_acc=0.963  val_f1=0.962\n"
          ]
        },
        {
          "output_type": "stream",
          "name": "stderr",
          "text": [
            "Epoch 50 [train]: 100%|██████████| 27/27 [00:00<00:00, 152.58it/s]\n"
          ]
        },
        {
          "output_type": "stream",
          "name": "stdout",
          "text": [
            "Epoch 50  val_acc=0.963  val_f1=0.962\n",
            "Best validation accuracy: 0.974\n",
            "Best validation F1 score: 0.974\n"
          ]
        }
      ]
    },
    {
      "cell_type": "code",
      "source": [
        "class ChannelAttention(nn.Module):\n",
        "    def __init__(self, in_channels):\n",
        "        super(ChannelAttention, self).__init__()\n",
        "        self.fc = nn.Sequential(\n",
        "            nn.Linear(in_channels, in_channels // 4),\n",
        "            nn.ReLU(),\n",
        "            nn.Linear(in_channels // 4, in_channels),\n",
        "            nn.Sigmoid()\n",
        "        )\n",
        "\n",
        "    def forward(self, x):\n",
        "\n",
        "        attention_weights = self.fc(x.mean(dim=[2, 3]))\n",
        "        attention_weights = attention_weights.unsqueeze(2).unsqueeze(3)\n",
        "        return x * attention_weights"
      ],
      "metadata": {
        "id": "GVdOm9GsgV3Z"
      },
      "execution_count": 20,
      "outputs": []
    },
    {
      "cell_type": "code",
      "source": [
        "class TinyTSceptionWithAttention(nn.Module):\n",
        "    def __init__(self, feat_dim, classes):\n",
        "        super().__init__()\n",
        "        self.conv = nn.Sequential(\n",
        "            nn.Conv2d(1, 16, kernel_size=(1, 3), padding=(0, 1)),\n",
        "            nn.ReLU(),\n",
        "            nn.Conv2d(16, 32, kernel_size=(1, 15), padding=(0, 7)),\n",
        "            nn.ReLU(),\n",
        "            nn.AdaptiveAvgPool2d((1, 1))\n",
        "        )\n",
        "        self.attention = ChannelAttention(32)\n",
        "        self.fc = nn.Linear(32, classes)\n",
        "\n",
        "    def forward(self, x):\n",
        "        x = self.conv(x)\n",
        "        x = self.attention(x)\n",
        "        x = x.view(x.size(0), -1)\n",
        "        return self.fc(x)"
      ],
      "metadata": {
        "id": "M646-2yTgnB6"
      },
      "execution_count": 21,
      "outputs": []
    },
    {
      "cell_type": "code",
      "source": [
        "model = TinyTSceptionWithAttention(input_dim, num_classes)\n",
        "device = torch.device('cuda' if torch.cuda.is_available() else 'cpu')\n",
        "model.to(device)\n",
        "criterion = nn.CrossEntropyLoss()\n",
        "optimizer = optim.Adam(model.parameters(), lr=1e-3)\n",
        "best_f1 = 0.0\n",
        "EPOCHS  = 50\n",
        "\n",
        "for epoch in range(1, EPOCHS + 1):\n",
        "  # ---- Train ----\n",
        "  model.train()\n",
        "  for xb, yb in tqdm(dl_tr, desc=f\"Epoch {epoch:02d} [train]\"):\n",
        "    xb, yb = xb.to(device), yb.to(device)\n",
        "    optimizer.zero_grad()\n",
        "    loss = criterion(model(xb), yb)\n",
        "    loss.backward()\n",
        "    optimizer.step()\n",
        "\n",
        "  # ---- Validate ----\n",
        "  model.eval()\n",
        "  preds, gold = [], []\n",
        "  with torch.no_grad():\n",
        "    for xb, yb in dl_val:\n",
        "      xb, yb = xb.to(device), yb.to(device)\n",
        "      logits = model(xb)\n",
        "      preds.extend(logits.argmax(1).cpu().numpy())\n",
        "      gold.extend(yb.cpu().numpy())\n",
        "\n",
        "  val_f1  = f1_score(gold, preds, average='macro')\n",
        "  val_acc = accuracy_score(gold, preds)\n",
        "  print(f\"Epoch {epoch:02d}  val_acc={val_acc:.3f}  val_f1={val_f1:.3f}\")\n",
        "\n",
        "  if val_f1 > best_f1:\n",
        "    best_f1 = val_f1\n",
        "    torch.save(model.state_dict(), os.path.join(project_dir, 'best_day2.pth'))\n",
        "    print(\"New best model saved\")"
      ],
      "metadata": {
        "colab": {
          "base_uri": "https://localhost:8080/"
        },
        "id": "XxP5WPrVgqEJ",
        "outputId": "1c68036b-701c-4699-dc79-c818598b6ffb"
      },
      "execution_count": 22,
      "outputs": [
        {
          "output_type": "stream",
          "name": "stderr",
          "text": [
            "Epoch 01 [train]: 100%|██████████| 27/27 [00:00<00:00, 188.02it/s]\n"
          ]
        },
        {
          "output_type": "stream",
          "name": "stdout",
          "text": [
            "Epoch 01  val_acc=0.492  val_f1=0.402\n",
            "New best model saved\n"
          ]
        },
        {
          "output_type": "stream",
          "name": "stderr",
          "text": [
            "Epoch 02 [train]: 100%|██████████| 27/27 [00:00<00:00, 160.18it/s]\n"
          ]
        },
        {
          "output_type": "stream",
          "name": "stdout",
          "text": [
            "Epoch 02  val_acc=0.719  val_f1=0.670\n",
            "New best model saved\n"
          ]
        },
        {
          "output_type": "stream",
          "name": "stderr",
          "text": [
            "Epoch 03 [train]: 100%|██████████| 27/27 [00:00<00:00, 169.31it/s]\n"
          ]
        },
        {
          "output_type": "stream",
          "name": "stdout",
          "text": [
            "Epoch 03  val_acc=0.689  val_f1=0.640\n"
          ]
        },
        {
          "output_type": "stream",
          "name": "stderr",
          "text": [
            "Epoch 04 [train]: 100%|██████████| 27/27 [00:00<00:00, 194.97it/s]\n"
          ]
        },
        {
          "output_type": "stream",
          "name": "stdout",
          "text": [
            "Epoch 04  val_acc=0.719  val_f1=0.690\n",
            "New best model saved\n"
          ]
        },
        {
          "output_type": "stream",
          "name": "stderr",
          "text": [
            "Epoch 05 [train]: 100%|██████████| 27/27 [00:00<00:00, 190.71it/s]\n"
          ]
        },
        {
          "output_type": "stream",
          "name": "stdout",
          "text": [
            "Epoch 05  val_acc=0.838  val_f1=0.835\n",
            "New best model saved\n"
          ]
        },
        {
          "output_type": "stream",
          "name": "stderr",
          "text": [
            "Epoch 06 [train]: 100%|██████████| 27/27 [00:00<00:00, 188.18it/s]\n"
          ]
        },
        {
          "output_type": "stream",
          "name": "stdout",
          "text": [
            "Epoch 06  val_acc=0.859  val_f1=0.857\n",
            "New best model saved\n"
          ]
        },
        {
          "output_type": "stream",
          "name": "stderr",
          "text": [
            "Epoch 07 [train]: 100%|██████████| 27/27 [00:00<00:00, 101.40it/s]\n"
          ]
        },
        {
          "output_type": "stream",
          "name": "stdout",
          "text": [
            "Epoch 07  val_acc=0.874  val_f1=0.872\n",
            "New best model saved\n"
          ]
        },
        {
          "output_type": "stream",
          "name": "stderr",
          "text": [
            "Epoch 08 [train]: 100%|██████████| 27/27 [00:00<00:00, 143.04it/s]\n"
          ]
        },
        {
          "output_type": "stream",
          "name": "stdout",
          "text": [
            "Epoch 08  val_acc=0.883  val_f1=0.883\n",
            "New best model saved\n"
          ]
        },
        {
          "output_type": "stream",
          "name": "stderr",
          "text": [
            "Epoch 09 [train]: 100%|██████████| 27/27 [00:00<00:00, 174.72it/s]"
          ]
        },
        {
          "output_type": "stream",
          "name": "stdout",
          "text": [
            "Epoch 09  val_acc=0.899  val_f1=0.899\n"
          ]
        },
        {
          "output_type": "stream",
          "name": "stderr",
          "text": [
            "\n"
          ]
        },
        {
          "output_type": "stream",
          "name": "stdout",
          "text": [
            "New best model saved\n"
          ]
        },
        {
          "output_type": "stream",
          "name": "stderr",
          "text": [
            "Epoch 10 [train]: 100%|██████████| 27/27 [00:00<00:00, 185.06it/s]\n"
          ]
        },
        {
          "output_type": "stream",
          "name": "stdout",
          "text": [
            "Epoch 10  val_acc=0.906  val_f1=0.906\n",
            "New best model saved\n"
          ]
        },
        {
          "output_type": "stream",
          "name": "stderr",
          "text": [
            "Epoch 11 [train]: 100%|██████████| 27/27 [00:00<00:00, 198.62it/s]\n"
          ]
        },
        {
          "output_type": "stream",
          "name": "stdout",
          "text": [
            "Epoch 11  val_acc=0.899  val_f1=0.899\n"
          ]
        },
        {
          "output_type": "stream",
          "name": "stderr",
          "text": [
            "Epoch 12 [train]: 100%|██████████| 27/27 [00:00<00:00, 161.93it/s]\n"
          ]
        },
        {
          "output_type": "stream",
          "name": "stdout",
          "text": [
            "Epoch 12  val_acc=0.906  val_f1=0.906\n"
          ]
        },
        {
          "output_type": "stream",
          "name": "stderr",
          "text": [
            "Epoch 13 [train]: 100%|██████████| 27/27 [00:00<00:00, 177.62it/s]\n"
          ]
        },
        {
          "output_type": "stream",
          "name": "stdout",
          "text": [
            "Epoch 13  val_acc=0.909  val_f1=0.908\n",
            "New best model saved\n"
          ]
        },
        {
          "output_type": "stream",
          "name": "stderr",
          "text": [
            "Epoch 14 [train]: 100%|██████████| 27/27 [00:00<00:00, 189.27it/s]\n"
          ]
        },
        {
          "output_type": "stream",
          "name": "stdout",
          "text": [
            "Epoch 14  val_acc=0.909  val_f1=0.908\n"
          ]
        },
        {
          "output_type": "stream",
          "name": "stderr",
          "text": [
            "Epoch 15 [train]: 100%|██████████| 27/27 [00:00<00:00, 132.63it/s]\n"
          ]
        },
        {
          "output_type": "stream",
          "name": "stdout",
          "text": [
            "Epoch 15  val_acc=0.911  val_f1=0.910\n",
            "New best model saved\n"
          ]
        },
        {
          "output_type": "stream",
          "name": "stderr",
          "text": [
            "Epoch 16 [train]: 100%|██████████| 27/27 [00:00<00:00, 167.00it/s]\n"
          ]
        },
        {
          "output_type": "stream",
          "name": "stdout",
          "text": [
            "Epoch 16  val_acc=0.911  val_f1=0.911\n",
            "New best model saved\n"
          ]
        },
        {
          "output_type": "stream",
          "name": "stderr",
          "text": [
            "Epoch 17 [train]: 100%|██████████| 27/27 [00:00<00:00, 91.75it/s]\n"
          ]
        },
        {
          "output_type": "stream",
          "name": "stdout",
          "text": [
            "Epoch 17  val_acc=0.909  val_f1=0.908\n"
          ]
        },
        {
          "output_type": "stream",
          "name": "stderr",
          "text": [
            "Epoch 18 [train]: 100%|██████████| 27/27 [00:00<00:00, 120.76it/s]\n"
          ]
        },
        {
          "output_type": "stream",
          "name": "stdout",
          "text": [
            "Epoch 18  val_acc=0.913  val_f1=0.913\n",
            "New best model saved\n"
          ]
        },
        {
          "output_type": "stream",
          "name": "stderr",
          "text": [
            "Epoch 19 [train]: 100%|██████████| 27/27 [00:00<00:00, 113.52it/s]\n"
          ]
        },
        {
          "output_type": "stream",
          "name": "stdout",
          "text": [
            "Epoch 19  val_acc=0.913  val_f1=0.913\n",
            "New best model saved\n"
          ]
        },
        {
          "output_type": "stream",
          "name": "stderr",
          "text": [
            "Epoch 20 [train]: 100%|██████████| 27/27 [00:00<00:00, 116.29it/s]\n"
          ]
        },
        {
          "output_type": "stream",
          "name": "stdout",
          "text": [
            "Epoch 20  val_acc=0.913  val_f1=0.913\n"
          ]
        },
        {
          "output_type": "stream",
          "name": "stderr",
          "text": [
            "Epoch 21 [train]: 100%|██████████| 27/27 [00:00<00:00, 164.27it/s]"
          ]
        },
        {
          "output_type": "stream",
          "name": "stdout",
          "text": [
            "Epoch 21  val_acc=0.916  val_f1=0.915\n"
          ]
        },
        {
          "output_type": "stream",
          "name": "stderr",
          "text": [
            "\n"
          ]
        },
        {
          "output_type": "stream",
          "name": "stdout",
          "text": [
            "New best model saved\n"
          ]
        },
        {
          "output_type": "stream",
          "name": "stderr",
          "text": [
            "Epoch 22 [train]: 100%|██████████| 27/27 [00:00<00:00, 191.74it/s]\n"
          ]
        },
        {
          "output_type": "stream",
          "name": "stdout",
          "text": [
            "Epoch 22  val_acc=0.913  val_f1=0.913\n"
          ]
        },
        {
          "output_type": "stream",
          "name": "stderr",
          "text": [
            "Epoch 23 [train]: 100%|██████████| 27/27 [00:00<00:00, 202.35it/s]\n"
          ]
        },
        {
          "output_type": "stream",
          "name": "stdout",
          "text": [
            "Epoch 23  val_acc=0.913  val_f1=0.913\n"
          ]
        },
        {
          "output_type": "stream",
          "name": "stderr",
          "text": [
            "Epoch 24 [train]: 100%|██████████| 27/27 [00:00<00:00, 201.07it/s]\n"
          ]
        },
        {
          "output_type": "stream",
          "name": "stdout",
          "text": [
            "Epoch 24  val_acc=0.883  val_f1=0.883\n"
          ]
        },
        {
          "output_type": "stream",
          "name": "stderr",
          "text": [
            "Epoch 25 [train]: 100%|██████████| 27/27 [00:00<00:00, 197.83it/s]\n"
          ]
        },
        {
          "output_type": "stream",
          "name": "stdout",
          "text": [
            "Epoch 25  val_acc=0.916  val_f1=0.915\n"
          ]
        },
        {
          "output_type": "stream",
          "name": "stderr",
          "text": [
            "Epoch 26 [train]: 100%|██████████| 27/27 [00:00<00:00, 169.44it/s]\n"
          ]
        },
        {
          "output_type": "stream",
          "name": "stdout",
          "text": [
            "Epoch 26  val_acc=0.911  val_f1=0.911\n"
          ]
        },
        {
          "output_type": "stream",
          "name": "stderr",
          "text": [
            "Epoch 27 [train]: 100%|██████████| 27/27 [00:00<00:00, 149.80it/s]\n"
          ]
        },
        {
          "output_type": "stream",
          "name": "stdout",
          "text": [
            "Epoch 27  val_acc=0.916  val_f1=0.915\n",
            "New best model saved\n"
          ]
        },
        {
          "output_type": "stream",
          "name": "stderr",
          "text": [
            "Epoch 28 [train]: 100%|██████████| 27/27 [00:00<00:00, 162.39it/s]\n"
          ]
        },
        {
          "output_type": "stream",
          "name": "stdout",
          "text": [
            "Epoch 28  val_acc=0.916  val_f1=0.915\n"
          ]
        },
        {
          "output_type": "stream",
          "name": "stderr",
          "text": [
            "Epoch 29 [train]: 100%|██████████| 27/27 [00:00<00:00, 150.16it/s]\n"
          ]
        },
        {
          "output_type": "stream",
          "name": "stdout",
          "text": [
            "Epoch 29  val_acc=0.918  val_f1=0.918\n",
            "New best model saved\n"
          ]
        },
        {
          "output_type": "stream",
          "name": "stderr",
          "text": [
            "Epoch 30 [train]: 100%|██████████| 27/27 [00:00<00:00, 180.04it/s]\n"
          ]
        },
        {
          "output_type": "stream",
          "name": "stdout",
          "text": [
            "Epoch 30  val_acc=0.913  val_f1=0.913\n"
          ]
        },
        {
          "output_type": "stream",
          "name": "stderr",
          "text": [
            "Epoch 31 [train]: 100%|██████████| 27/27 [00:00<00:00, 162.03it/s]\n"
          ]
        },
        {
          "output_type": "stream",
          "name": "stdout",
          "text": [
            "Epoch 31  val_acc=0.916  val_f1=0.915\n"
          ]
        },
        {
          "output_type": "stream",
          "name": "stderr",
          "text": [
            "Epoch 32 [train]: 100%|██████████| 27/27 [00:00<00:00, 129.16it/s]\n"
          ]
        },
        {
          "output_type": "stream",
          "name": "stdout",
          "text": [
            "Epoch 32  val_acc=0.920  val_f1=0.920\n",
            "New best model saved\n"
          ]
        },
        {
          "output_type": "stream",
          "name": "stderr",
          "text": [
            "Epoch 33 [train]: 100%|██████████| 27/27 [00:00<00:00, 131.07it/s]\n"
          ]
        },
        {
          "output_type": "stream",
          "name": "stdout",
          "text": [
            "Epoch 33  val_acc=0.916  val_f1=0.915\n"
          ]
        },
        {
          "output_type": "stream",
          "name": "stderr",
          "text": [
            "Epoch 34 [train]: 100%|██████████| 27/27 [00:00<00:00, 172.68it/s]\n"
          ]
        },
        {
          "output_type": "stream",
          "name": "stdout",
          "text": [
            "Epoch 34  val_acc=0.920  val_f1=0.920\n",
            "New best model saved\n"
          ]
        },
        {
          "output_type": "stream",
          "name": "stderr",
          "text": [
            "Epoch 35 [train]: 100%|██████████| 27/27 [00:00<00:00, 160.31it/s]\n"
          ]
        },
        {
          "output_type": "stream",
          "name": "stdout",
          "text": [
            "Epoch 35  val_acc=0.918  val_f1=0.917\n"
          ]
        },
        {
          "output_type": "stream",
          "name": "stderr",
          "text": [
            "Epoch 36 [train]: 100%|██████████| 27/27 [00:00<00:00, 146.34it/s]\n"
          ]
        },
        {
          "output_type": "stream",
          "name": "stdout",
          "text": [
            "Epoch 36  val_acc=0.897  val_f1=0.897\n"
          ]
        },
        {
          "output_type": "stream",
          "name": "stderr",
          "text": [
            "Epoch 37 [train]: 100%|██████████| 27/27 [00:00<00:00, 213.36it/s]\n"
          ]
        },
        {
          "output_type": "stream",
          "name": "stdout",
          "text": [
            "Epoch 37  val_acc=0.920  val_f1=0.920\n"
          ]
        },
        {
          "output_type": "stream",
          "name": "stderr",
          "text": [
            "Epoch 38 [train]: 100%|██████████| 27/27 [00:00<00:00, 226.14it/s]\n"
          ]
        },
        {
          "output_type": "stream",
          "name": "stdout",
          "text": [
            "Epoch 38  val_acc=0.920  val_f1=0.920\n"
          ]
        },
        {
          "output_type": "stream",
          "name": "stderr",
          "text": [
            "Epoch 39 [train]: 100%|██████████| 27/27 [00:00<00:00, 227.78it/s]\n"
          ]
        },
        {
          "output_type": "stream",
          "name": "stdout",
          "text": [
            "Epoch 39  val_acc=0.904  val_f1=0.904\n"
          ]
        },
        {
          "output_type": "stream",
          "name": "stderr",
          "text": [
            "Epoch 40 [train]: 100%|██████████| 27/27 [00:00<00:00, 228.06it/s]\n"
          ]
        },
        {
          "output_type": "stream",
          "name": "stdout",
          "text": [
            "Epoch 40  val_acc=0.923  val_f1=0.922\n",
            "New best model saved\n"
          ]
        },
        {
          "output_type": "stream",
          "name": "stderr",
          "text": [
            "Epoch 41 [train]: 100%|██████████| 27/27 [00:00<00:00, 226.36it/s]\n"
          ]
        },
        {
          "output_type": "stream",
          "name": "stdout",
          "text": [
            "Epoch 41  val_acc=0.925  val_f1=0.925\n",
            "New best model saved\n"
          ]
        },
        {
          "output_type": "stream",
          "name": "stderr",
          "text": [
            "Epoch 42 [train]: 100%|██████████| 27/27 [00:00<00:00, 218.44it/s]\n"
          ]
        },
        {
          "output_type": "stream",
          "name": "stdout",
          "text": [
            "Epoch 42  val_acc=0.923  val_f1=0.922\n"
          ]
        },
        {
          "output_type": "stream",
          "name": "stderr",
          "text": [
            "Epoch 43 [train]: 100%|██████████| 27/27 [00:00<00:00, 224.07it/s]\n"
          ]
        },
        {
          "output_type": "stream",
          "name": "stdout",
          "text": [
            "Epoch 43  val_acc=0.925  val_f1=0.925\n"
          ]
        },
        {
          "output_type": "stream",
          "name": "stderr",
          "text": [
            "Epoch 44 [train]: 100%|██████████| 27/27 [00:00<00:00, 224.27it/s]\n"
          ]
        },
        {
          "output_type": "stream",
          "name": "stdout",
          "text": [
            "Epoch 44  val_acc=0.925  val_f1=0.925\n"
          ]
        },
        {
          "output_type": "stream",
          "name": "stderr",
          "text": [
            "Epoch 45 [train]: 100%|██████████| 27/27 [00:00<00:00, 225.98it/s]\n"
          ]
        },
        {
          "output_type": "stream",
          "name": "stdout",
          "text": [
            "Epoch 45  val_acc=0.923  val_f1=0.922\n"
          ]
        },
        {
          "output_type": "stream",
          "name": "stderr",
          "text": [
            "Epoch 46 [train]: 100%|██████████| 27/27 [00:00<00:00, 227.58it/s]\n"
          ]
        },
        {
          "output_type": "stream",
          "name": "stdout",
          "text": [
            "Epoch 46  val_acc=0.927  val_f1=0.927\n",
            "New best model saved\n"
          ]
        },
        {
          "output_type": "stream",
          "name": "stderr",
          "text": [
            "Epoch 47 [train]: 100%|██████████| 27/27 [00:00<00:00, 206.61it/s]\n"
          ]
        },
        {
          "output_type": "stream",
          "name": "stdout",
          "text": [
            "Epoch 47  val_acc=0.909  val_f1=0.909\n"
          ]
        },
        {
          "output_type": "stream",
          "name": "stderr",
          "text": [
            "Epoch 48 [train]: 100%|██████████| 27/27 [00:00<00:00, 222.34it/s]\n"
          ]
        },
        {
          "output_type": "stream",
          "name": "stdout",
          "text": [
            "Epoch 48  val_acc=0.930  val_f1=0.929\n",
            "New best model saved\n"
          ]
        },
        {
          "output_type": "stream",
          "name": "stderr",
          "text": [
            "Epoch 49 [train]: 100%|██████████| 27/27 [00:00<00:00, 213.38it/s]\n"
          ]
        },
        {
          "output_type": "stream",
          "name": "stdout",
          "text": [
            "Epoch 49  val_acc=0.927  val_f1=0.927\n"
          ]
        },
        {
          "output_type": "stream",
          "name": "stderr",
          "text": [
            "Epoch 50 [train]: 100%|██████████| 27/27 [00:00<00:00, 218.91it/s]\n"
          ]
        },
        {
          "output_type": "stream",
          "name": "stdout",
          "text": [
            "Epoch 50  val_acc=0.932  val_f1=0.932\n",
            "New best model saved\n"
          ]
        }
      ]
    }
  ]
}